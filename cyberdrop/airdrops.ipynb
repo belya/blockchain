{
 "cells": [
  {
   "cell_type": "code",
   "execution_count": 66,
   "metadata": {},
   "outputs": [],
   "source": [
    "from pyquery import PyQuery as pq\n",
    "import requests\n",
    "from tqdm import tqdm_notebook\n",
    "from tqdm import tqdm_notebook as tqdm\n",
    "from pyelasticsearch import ElasticSearch\n",
    "import pandas as pd\n",
    "from datetime import datetime, timedelta\n",
    "import networkx as nx\n",
    "import matplotlib.pyplot as plt\n",
    "from IPython.display import display, clear_output\n",
    "from time import sleep\n",
    "from matplotlib import animation\n",
    "from matplotlib import gridspec\n",
    "from IPython.display import HTML\n",
    "import json\n",
    "import numpy as np"
   ]
  },
  {
   "cell_type": "markdown",
   "metadata": {},
   "source": [
    "Подобрать 10 дропов:\n",
    "- Dock\n",
    "- Gifto\n",
    "- Viuly\n",
    "- Refereum\n",
    "\n",
    "- VinChain?"
   ]
  },
  {
   "cell_type": "code",
   "execution_count": 2,
   "metadata": {},
   "outputs": [],
   "source": [
    "client = ElasticSearch(\"http://localhost:9201\")"
   ]
  },
  {
   "cell_type": "code",
   "execution_count": 31,
   "metadata": {},
   "outputs": [],
   "source": [
    "airdrops = requests.get(\"https://airdropalert.com/api/airdrops/list/past\").json()"
   ]
  },
  {
   "cell_type": "code",
   "execution_count": 52,
   "metadata": {},
   "outputs": [],
   "source": [
    "[a for a in airdrops if a['name'] == 'Dock'][0][\"contract_address\"] = \"0xe5dada80aa6477e85d09747f2842f7993d0df71c\""
   ]
  },
  {
   "cell_type": "code",
   "execution_count": 42,
   "metadata": {},
   "outputs": [],
   "source": [
    "for a in airdrops:\n",
    "    if a[\"start_date\"]:\n",
    "        a[\"start_time\"] = datetime.strptime(a['start_date']['date'].split(\".\")[0], \"%Y-%m-%d %H:%M:%S\")"
   ]
  },
  {
   "cell_type": "code",
   "execution_count": 43,
   "metadata": {},
   "outputs": [],
   "source": [
    "deadline_date = datetime(2018, 6, 1)"
   ]
  },
  {
   "cell_type": "code",
   "execution_count": 44,
   "metadata": {},
   "outputs": [],
   "source": [
    "airdrops = [a for a in airdrops if (\"start_time\" in a) and (a[\"start_time\"] < deadline_date)]"
   ]
  },
  {
   "cell_type": "code",
   "execution_count": 45,
   "metadata": {},
   "outputs": [],
   "source": [
    "def find_contract(contract_name):\n",
    "    document = pq(\"https://etherscan.io/searchHandler?term=\" + contract_name)\n",
    "    return document.text()"
   ]
  },
  {
   "cell_type": "code",
   "execution_count": 46,
   "metadata": {},
   "outputs": [],
   "source": [
    "def clean_contract(name):\n",
    "    return name.replace(\"Exclusive Airdrop\", \"\").strip()"
   ]
  },
  {
   "cell_type": "code",
   "execution_count": 47,
   "metadata": {},
   "outputs": [],
   "source": [
    "def get_contract_address(string):\n",
    "    array = string.split(\"\\\\t\")\n",
    "    if len(array) > 1:\n",
    "        return array[1]"
   ]
  },
  {
   "cell_type": "code",
   "execution_count": null,
   "metadata": {},
   "outputs": [],
   "source": [
    "for a in tqdm_notebook(airdrops):\n",
    "    a[\"contract_address\"] = get_contract_address(find_contract(clean_contract(a[\"name\"])))"
   ]
  },
  {
   "cell_type": "code",
   "execution_count": 82,
   "metadata": {},
   "outputs": [
    {
     "data": {
      "application/vnd.jupyter.widget-view+json": {
       "model_id": "fa01ed0efb6948e88f022eec8c2d5dfc",
       "version_major": 2,
       "version_minor": 0
      },
      "text/plain": [
       "HBox(children=(IntProgress(value=0, max=441), HTML(value='')))"
      ]
     },
     "metadata": {},
     "output_type": "display_data"
    }
   ],
   "source": [
    "for a in tqdm_notebook(airdrops):\n",
    "    if (\"contract_address\" in a) and (a[\"contract_address\"]):\n",
    "        count = client.count(index=\"ethereum-internal-transaction\", doc_type=\"itx\", query=\"to:\" + a[\"contract_address\"])['count']\n",
    "        a[\"transactions_count\"] = count\n",
    "    else:\n",
    "        a[\"transactions_count\"] = 0"
   ]
  },
  {
   "cell_type": "code",
   "execution_count": 83,
   "metadata": {
    "scrolled": false
   },
   "outputs": [],
   "source": [
    "sorted_airdrops = sorted(airdrops, key=lambda x: -x[\"transactions_count\"])"
   ]
  },
  {
   "cell_type": "code",
   "execution_count": 85,
   "metadata": {},
   "outputs": [],
   "source": [
    "# wrong_airdrops = [\"300cubits Exclusive Airdrop\", \"REDi\", \"Shivom Exclusive Airdrop\", \"TRON\", \"mCoin\"]\n",
    "wrong_airdrops = []"
   ]
  },
  {
   "cell_type": "code",
   "execution_count": 86,
   "metadata": {},
   "outputs": [
    {
     "data": {
      "text/plain": [
       "{'CFun': ('0x4b317864a05c91225ab8f401ec7be0aeb87e9c12', 112013),\n",
       " 'ChronoBank': ('0x6531f133e6deebe7f2dce5a0441aa7ef330b4e53', 135033),\n",
       " 'CryptoCarbon': ('0xe4c94d45f7aef7018a5d66f44af780ec6023378e', 115260),\n",
       " 'Dock': ('0xe5dada80aa6477e85d09747f2842f7993d0df71c', 126847),\n",
       " 'Gifto': ('0xc5bbae50781be1669306b9e001eff57a2957b09d', 315515),\n",
       " 'Intelligent Commerce Chain': ('0xedc502b12ced7e16ce21749e7161f9ed22bfca53',\n",
       "  145047),\n",
       " 'Litex': ('0xbc46d9961a3932f7d6b64abfdec80c1816c4b835', 136135),\n",
       " 'OSChain': ('0xfb5a551374b656c6e39787b1d3a03feab7f3a98e', 215504),\n",
       " 'PolicyPal': ('0xfedae5642668f8636a11987ff386bfd215f942ee', 99152),\n",
       " 'R_Block': ('0xb98d4c97425d9908e66e53a6fdf673acca0be986', 91300),\n",
       " 'Realchain': ('0x13f25cd52b21650caa8225c9942337d914c9b030', 184731),\n",
       " 'Refereum': ('0xd0929d411954c47438dc1d871dd6081f5c5e149c', 352829),\n",
       " 'TIM': ('0x943ed852dadb5c3938ecdc6883718df8142de4c8', 171777),\n",
       " 'Titanium': ('0xc7579bb99af590ec71c316e1ac4436c535039594', 120855),\n",
       " 'Ubcoin': ('0x2d3e7d4870a51b918919e7b851fe19983e4c38d5', 126104),\n",
       " 'VinChain': ('0xf3e014fe81267870624132ef3a646b8e83853a96', 577904),\n",
       " 'Viuly': ('0x519475b31653e46d20cd09f9fdcf3b12bdacb4f5', 1012989),\n",
       " 'WFee': ('0xa37adde3ba20a396338364e2ddb5e0897d11a91d', 122240),\n",
       " 'Wizzle': ('0xb8327f32127afe37a544c52b628653e222a93bad', 114657)}"
      ]
     },
     "execution_count": 86,
     "metadata": {},
     "output_type": "execute_result"
    }
   ],
   "source": [
    "{a[\"name\"]: (a[\"contract_address\"], a[\"transactions_count\"]) for a in sorted_airdrops[0:20] if a[\"name\"] not in wrong_airdrops}"
   ]
  },
  {
   "cell_type": "markdown",
   "metadata": {},
   "source": [
    "Для дропа:\n",
    "- Найти блок начала и завершения\n",
    "- Найти начальный адрес дропа (адрес с максимальным количеством транзакций)\n",
    "- Пометить адреса, которые отправляют токенов сверх отправленных во время дропа"
   ]
  },
  {
   "cell_type": "code",
   "execution_count": 622,
   "metadata": {},
   "outputs": [],
   "source": [
    "TOKEN = \"0x519475b31653e46d20cd09f9fdcf3b12bdacb4f5\"\n",
    "BLOCK_GAP = 10000\n",
    "NUMBER_OF_JOBS = 1000"
   ]
  },
  {
   "cell_type": "code",
   "execution_count": 665,
   "metadata": {},
   "outputs": [],
   "source": [
    "airdrop = [a for a in airdrops if \"Viuly\" in a['name']][0]"
   ]
  },
  {
   "cell_type": "code",
   "execution_count": 666,
   "metadata": {},
   "outputs": [],
   "source": [
    "start_date = airdrop[\"start_time\"]"
   ]
  },
  {
   "cell_type": "code",
   "execution_count": 667,
   "metadata": {},
   "outputs": [],
   "source": [
    "query = {\n",
    "    \"size\": 1,\n",
    "    \"sort\": [\n",
    "        {\"timestamp\" : \"desc\"},\n",
    "    ],\n",
    "    \"query\": {\n",
    "        \"range\": {\n",
    "            \"timestamp\": {\n",
    "                \"lte\": start_date\n",
    "            }\n",
    "        }\n",
    "    }\n",
    "}\n",
    "start_block = client.send_request(\"GET\", [\"ethereum-block\", \"b\", \"_search\"], query, {})['hits']['hits'][0][\"_source\"][\"number\"]"
   ]
  },
  {
   "cell_type": "code",
   "execution_count": 624,
   "metadata": {},
   "outputs": [],
   "source": [
    "  def _count_by_object_or_string_query(client, query, index, doc_type):\n",
    "    \"\"\"\n",
    "    Count objects in ElasticSearch by specified query\n",
    "\n",
    "    Parameters\n",
    "    ----------\n",
    "    query : dict or str\n",
    "        ElasticSearch query\n",
    "    index : str\n",
    "        ElasticSearch index\n",
    "    doc_type : str\n",
    "        Document type\n",
    "\n",
    "    Returns\n",
    "    -------\n",
    "    int\n",
    "        Number of objects in ElasticSearch\n",
    "    \"\"\"\n",
    "    count_body = ''\n",
    "    count_parameters = {}\n",
    "    if type(query) is str:\n",
    "      count_parameters['q'] = query\n",
    "    else:\n",
    "      count_body = {\n",
    "        'query': query\n",
    "      }\n",
    "    return client.send_request('GET', [index, doc_type, '_count'], count_body, count_parameters)\n",
    "\n",
    "  def iterate(client, index, doc_type, query, per=NUMBER_OF_JOBS):\n",
    "    \"\"\"\n",
    "    Iterate through elasticsearch records\n",
    "\n",
    "    Will return a chunk of records each time\n",
    "\n",
    "    Parameters\n",
    "    ----------\n",
    "    index : str\n",
    "        ElasticSearch index\n",
    "    doc_type : str\n",
    "        Document type\n",
    "    query : dict or str\n",
    "        ElasticSearch query\n",
    "    per : int\n",
    "        Max length of chunk\n",
    "\n",
    "    Returns\n",
    "    -------\n",
    "    generator\n",
    "        Generator that returns chunks with records by specified query\n",
    "    \"\"\"\n",
    "    items_count = _count_by_object_or_string_query(client, query, index=index, doc_type=doc_type)['count']\n",
    "    pages = round(items_count / per + 0.4999)\n",
    "    scroll_id = None\n",
    "    for page in tqdm(range(pages)):\n",
    "      if not scroll_id:\n",
    "        pagination_parameters = {'scroll': '60m', 'size': per}\n",
    "        pagination_body = {}\n",
    "        if type(query) is str:\n",
    "          pagination_parameters['q'] = query\n",
    "        else:\n",
    "          pagination_body['query'] = query\n",
    "        response = client.send_request('GET', [index, doc_type, '_search'], pagination_body, pagination_parameters)\n",
    "        scroll_id = response['_scroll_id']\n",
    "        page_items = response['hits']['hits']\n",
    "      else:\n",
    "        page_items = client.send_request('POST', ['_search', 'scroll'], {'scroll': '60m', 'scroll_id': scroll_id}, {})['hits']['hits']\n",
    "      yield page_items"
   ]
  },
  {
   "cell_type": "code",
   "execution_count": 625,
   "metadata": {
    "scrolled": true
   },
   "outputs": [
    {
     "data": {
      "application/vnd.jupyter.widget-view+json": {
       "model_id": "56195b9276764d63b4add56c6800b846",
       "version_major": 2,
       "version_minor": 0
      },
      "text/plain": [
       "HBox(children=(IntProgress(value=0, max=999), HTML(value='')))"
      ]
     },
     "metadata": {},
     "output_type": "display_data"
    }
   ],
   "source": [
    "query = {\n",
    "    \"bool\": {\n",
    "        \"must\": [\n",
    "            {\"term\": {\"token.keyword\": TOKEN}},\n",
    "        ]\n",
    "    }\n",
    "}\n",
    "\n",
    "transactions = []\n",
    "for t in iterate(client, index=\"ethereum-token-transaction\", doc_type=\"tx\", query=query):\n",
    "    transactions += t"
   ]
  },
  {
   "cell_type": "code",
   "execution_count": 626,
   "metadata": {
    "scrolled": false
   },
   "outputs": [],
   "source": [
    "transactions_df = pd.DataFrame([t[\"_source\"] for t in transactions])"
   ]
  },
  {
   "cell_type": "code",
   "execution_count": 627,
   "metadata": {},
   "outputs": [
    {
     "data": {
      "text/plain": [
       "998597"
      ]
     },
     "execution_count": 627,
     "metadata": {},
     "output_type": "execute_result"
    }
   ],
   "source": [
    "transactions_df.shape[0]"
   ]
  },
  {
   "cell_type": "code",
   "execution_count": 628,
   "metadata": {},
   "outputs": [],
   "source": [
    "transactions_df.to_csv(\"viuly_airdrop.csv\")"
   ]
  },
  {
   "cell_type": "code",
   "execution_count": 60,
   "metadata": {},
   "outputs": [],
   "source": [
    "transactions_df = pd.read_csv(\"viuly_airdrop.csv\")"
   ]
  },
  {
   "cell_type": "code",
   "execution_count": 629,
   "metadata": {},
   "outputs": [],
   "source": [
    "token_prices = client.search(index=\"ethereum-token-price\", doc_type=\"price\", size=2000, query=\"token:VIU AND USD:[0.0001 TO *]\")[\"hits\"][\"hits\"]\n",
    "token_prices = [t[\"_source\"] for t in token_prices]"
   ]
  },
  {
   "cell_type": "code",
   "execution_count": 630,
   "metadata": {},
   "outputs": [],
   "source": [
    "prices_df = pd.DataFrame()"
   ]
  },
  {
   "cell_type": "code",
   "execution_count": 631,
   "metadata": {},
   "outputs": [],
   "source": [
    "prices_df[\"USD\"] = [t[\"USD\"] for t in token_prices]"
   ]
  },
  {
   "cell_type": "code",
   "execution_count": 632,
   "metadata": {},
   "outputs": [],
   "source": [
    "prices_df[\"timestamp\"] = [t[\"timestamp\"] for t in token_prices]"
   ]
  },
  {
   "cell_type": "code",
   "execution_count": 633,
   "metadata": {},
   "outputs": [],
   "source": [
    "def get_block_by_timestamp(timestamp):\n",
    "    timestamp = datetime.strptime(timestamp, \"%Y-%m-%d\")\n",
    "    query = {\n",
    "        \"size\": 1,\n",
    "        \"sort\": [\n",
    "            {\"timestamp\" : \"desc\"},\n",
    "        ],\n",
    "        \"query\": {\n",
    "            \"range\": {\n",
    "                \"timestamp\": {\n",
    "                    \"lte\": timestamp\n",
    "                }\n",
    "            }\n",
    "        }\n",
    "    }\n",
    "    return client.send_request(\"GET\", [\"ethereum-block\", \"b\", \"_search\"], query, {})['hits']['hits'][0][\"_source\"][\"number\"]"
   ]
  },
  {
   "cell_type": "code",
   "execution_count": 634,
   "metadata": {},
   "outputs": [],
   "source": [
    "prices_df[\"block\"] = prices_df[\"timestamp\"].apply(get_block_by_timestamp)"
   ]
  },
  {
   "cell_type": "code",
   "execution_count": 635,
   "metadata": {},
   "outputs": [],
   "source": [
    "prices_df.to_csv(\"viuly_prices.csv\")"
   ]
  },
  {
   "cell_type": "code",
   "execution_count": 636,
   "metadata": {},
   "outputs": [],
   "source": [
    "prices_df = pd.read_csv(\"viuly_prices.csv\")"
   ]
  },
  {
   "cell_type": "code",
   "execution_count": 107,
   "metadata": {},
   "outputs": [],
   "source": [
    "addresses_types_df = pd.read_csv(\"addresses_types.csv\").set_index(\"address\")"
   ]
  },
  {
   "cell_type": "markdown",
   "metadata": {},
   "source": [
    "Скользящим окном визуализируем граф:\n",
    "- Получаем скользящее окно\n",
    "- Составляем граф\n",
    "- Находим компоненту связности с drop_address внутри\n",
    "- Визуализируем ее"
   ]
  },
  {
   "cell_type": "code",
   "execution_count": 18,
   "metadata": {
    "scrolled": false
   },
   "outputs": [
    {
     "data": {
      "application/vnd.jupyter.widget-view+json": {
       "model_id": "471203e892b049d19ddb682c1b93d179",
       "version_major": 2,
       "version_minor": 0
      },
      "text/plain": [
       "HBox(children=(IntProgress(value=0, max=20), HTML(value='')))"
      ]
     },
     "metadata": {},
     "output_type": "display_data"
    },
    {
     "data": {
      "image/png": "[encoded data removed]",
      "text/plain": [
       "<matplotlib.figure.Figure at 0x7fdff42cd7b8>"
      ]
     },
     "metadata": {},
     "output_type": "display_data"
    }
   ],
   "source": [
    "TRANSACTIONS_IN_GRAPH = 500\n",
    "FRAMES = 20\n",
    "START_POINT = int(66000 / TRANSACTIONS_IN_GRAPH)\n",
    "\n",
    "fig = plt.figure(figsize=(16, 9))\n",
    "\n",
    "# Get a place for new vertices\n",
    "# Draw vertices\n",
    "# Draw edges\n",
    "\n",
    "old_layout = None\n",
    "progress_bar = tqdm_notebook(total=FRAMES)\n",
    "\n",
    "colors = {\n",
    "    \"cex\": \"#1c3f94\",\n",
    "    \"drop\": \"#f15a22\",\n",
    "    \"trader\": \"#1aa5b1\",\n",
    "    \"investor\": \"#ff8900\",\n",
    "    \"holder\": \"#3e3e40\"\n",
    "}\n",
    "\n",
    "sizes = {\n",
    "    \"cex\": 500,\n",
    "    \"drop\": 500,\n",
    "    \"trader\": 100,\n",
    "    \"investor\": 30,\n",
    "    \"holder\": 10\n",
    "}\n",
    "\n",
    "def update(i):\n",
    "    global old_layout\n",
    "    global progress_bar\n",
    "    progress_bar.update(1)\n",
    "    window_range = range(START_POINT*TRANSACTIONS_IN_GRAPH, (i + 1 + START_POINT)*TRANSACTIONS_IN_GRAPH)\n",
    "    plt.title(\"Epoch: {}\".format(i))\n",
    "    window = transactions_df.sort_values(\"block_id\").iloc[window_range]\n",
    "    addresses_types_df = get_types(window)\n",
    "    max_block = window[\"block_id\"].max()\n",
    "    prices = prices_df[prices_df[\"block\"] < max_block].sort_values(\"block\")\n",
    "    graph = create_graph(window)\n",
    "    try:\n",
    "        if old_layout:\n",
    "            old_layout = nx.spring_layout(graph, pos=old_layout, fixed=old_layout.keys(), iterations=1000)\n",
    "        else:\n",
    "            old_layout = nx.spring_layout(graph)\n",
    "    except:\n",
    "        old_layout = nx.spring_layout(graph)\n",
    "    node_color = [colors[t] for t in addresses_types_df.loc[[n for n in graph]][\"type\"]]\n",
    "    node_size = [sizes[t] for t in addresses_types_df.loc[[n for n in graph]][\"type\"]]\n",
    "    edge_color = [colors[t] for t in addresses_types_df.loc[[a for a, b in graph.edges]][\"type\"]]\n",
    "    gs = gridspec.GridSpec(2, 1, height_ratios=[5, 1]) \n",
    "    plt.subplot(gs[0])\n",
    "    nx.draw(graph, pos=old_layout, node_color=node_color, node_size=node_size, edge_color=edge_color)\n",
    "    plt.subplot(gs[1])\n",
    "    plt.plot(prices[\"block\"], prices[\"USD\"], color=\"#000000\")\n",
    "    \n",
    "ani = animation.FuncAnimation(fig, update, frames=FRAMES, interval=500)\n",
    "# HTML(ani.to_html5_video())\n",
    "ani.save('dockdrop1.gif', dpi=80, writer='imagemagick')"
   ]
  },
  {
   "cell_type": "markdown",
   "metadata": {},
   "source": [
    "Типы вершин\n",
    "- Холдер (меньше двух исходящих транзакций)\n",
    "- Трейдер (много входящих и исходящих к биржам), влияет на количество транзакций от биржи\n",
    "- Распределение (много исходящих, в 10 больше, чем входящих)\n",
    "- Биржа (найдем по именам)\n",
    "- Инвестор (прочие)"
   ]
  },
  {
   "cell_type": "markdown",
   "metadata": {},
   "source": [
    "## Биржи"
   ]
  },
  {
   "cell_type": "code",
   "execution_count": 67,
   "metadata": {},
   "outputs": [],
   "source": [
    "def find_name(address):\n",
    "    document = pq(\"https://etherscan.io/address/{}\".format(address))\n",
    "    return document(\"font[title='NameTag']\").text()"
   ]
  },
  {
   "cell_type": "code",
   "execution_count": 68,
   "metadata": {},
   "outputs": [],
   "source": [
    "top_to_addresses = transactions_df[[\"to\", \"value\"]].groupby(\"to\").sum().sort_values(\"value\", ascending=0).head(500)"
   ]
  },
  {
   "cell_type": "code",
   "execution_count": 69,
   "metadata": {},
   "outputs": [],
   "source": [
    "top_from_addresses = transactions_df[[\"from\", \"value\"]].groupby(\"from\").sum().sort_values(\"value\", ascending=0).head(500)"
   ]
  },
  {
   "cell_type": "code",
   "execution_count": 70,
   "metadata": {},
   "outputs": [],
   "source": [
    "top_addresses = set(list(top_to_addresses.index) + list(top_from_addresses.index))"
   ]
  },
  {
   "cell_type": "code",
   "execution_count": 71,
   "metadata": {},
   "outputs": [],
   "source": [
    "names = []"
   ]
  },
  {
   "cell_type": "code",
   "execution_count": 72,
   "metadata": {
    "scrolled": true
   },
   "outputs": [
    {
     "data": {
      "application/vnd.jupyter.widget-view+json": {
       "model_id": "54f6aec4504349de92796f6c787b45e4",
       "version_major": 2,
       "version_minor": 0
      },
      "text/plain": [
       "HBox(children=(IntProgress(value=0, max=633), HTML(value='')))"
      ]
     },
     "metadata": {},
     "output_type": "display_data"
    }
   ],
   "source": [
    "for address in tqdm_notebook(list(top_addresses)):\n",
    "    names.append(find_name(address))"
   ]
  },
  {
   "cell_type": "code",
   "execution_count": 73,
   "metadata": {},
   "outputs": [],
   "source": [
    "top_addresses_df = pd.DataFrame()\n",
    "top_addresses_df[\"address\"] = list(top_addresses)\n",
    "top_addresses_df[\"name\"] = names"
   ]
  },
  {
   "cell_type": "code",
   "execution_count": 74,
   "metadata": {},
   "outputs": [
    {
     "data": {
      "text/plain": [
       "array(['', 'Fake_Phishing316', 'Okex_1', 'EtherDelta_2',\n",
       "       'Fake_Phishing622', 'IDEX_1'], dtype=object)"
      ]
     },
     "execution_count": 74,
     "metadata": {},
     "output_type": "execute_result"
    }
   ],
   "source": [
    "top_addresses_df[\"name\"].unique()"
   ]
  },
  {
   "cell_type": "code",
   "execution_count": 75,
   "metadata": {},
   "outputs": [],
   "source": [
    "cexs = [\"Binance\", \"Kucoin\", \"Gate.io\", \"IDEX\", \"Coinbene\", \"EtherDelta\", \"Bancor\", \"Okex\", \"Kryptono\", \"Bibox\", \"Cobinhood\"]"
   ]
  },
  {
   "cell_type": "code",
   "execution_count": 76,
   "metadata": {},
   "outputs": [],
   "source": [
    "cex_addresses = list(top_addresses_df[top_addresses_df[\"name\"].apply(lambda x: any([b in x for b in cexs]))][\"address\"])"
   ]
  },
  {
   "cell_type": "code",
   "execution_count": 77,
   "metadata": {},
   "outputs": [
    {
     "data": {
      "text/plain": [
       "['0x6cc5f688a315f3dc28a7781717a9a798a59fda7b',\n",
       " '0x8d12a197cb00d4747a1fe03395095ce2a5cc6819',\n",
       " '0x2a0c0dbecc7e4d658f48e01e3fa353f44050c208']"
      ]
     },
     "execution_count": 77,
     "metadata": {},
     "output_type": "execute_result"
    }
   ],
   "source": [
    "cex_addresses"
   ]
  },
  {
   "cell_type": "code",
   "execution_count": 483,
   "metadata": {},
   "outputs": [
    {
     "data": {
      "text/plain": [
       "['0x9539e0b14021a43cde41d9d45dc34969be9c7cb0',\n",
       " '0xfe9e8709d3215310075d67e3ed32a380ccf451c8',\n",
       " '0xd551234ae421e3bcba99a0da6d736074f22192ff',\n",
       " '0x3f5ce5fbfe3e9af3971dd833d26ba9b5c936f0be',\n",
       " '0x2a0c0dbecc7e4d658f48e01e3fa353f44050c208',\n",
       " '0x564286362092d8e7936f0549571a803b203aaced',\n",
       " '0x1c4b70a3968436b9a0a9cf5205c787eb81bb558c',\n",
       " '0x8d12a197cb00d4747a1fe03395095ce2a5cc6819',\n",
       " '0x0d0707963952f2fba59dd06f2b425ace40b492fe',\n",
       " '0x0681d8db095565fe8a346fa0277bffde9c0edbbf',\n",
       " '0x2b5634c42055806a59e9107ed44d43c426e58258']"
      ]
     },
     "execution_count": 483,
     "metadata": {},
     "output_type": "execute_result"
    }
   ],
   "source": [
    "cex_addresses"
   ]
  },
  {
   "cell_type": "markdown",
   "metadata": {},
   "source": [
    "## Холдеры"
   ]
  },
  {
   "cell_type": "code",
   "execution_count": 412,
   "metadata": {},
   "outputs": [],
   "source": [
    "inactive_addresses = transactions_df[[\"from\", \"value\"]].groupby(\"from\").count().sort_values(\"value\")"
   ]
  },
  {
   "cell_type": "code",
   "execution_count": 413,
   "metadata": {},
   "outputs": [],
   "source": [
    "holders = inactive_addresses[inactive_addresses[\"value\"] <= 1].index"
   ]
  },
  {
   "cell_type": "code",
   "execution_count": 414,
   "metadata": {},
   "outputs": [
    {
     "data": {
      "application/vnd.jupyter.widget-view+json": {
       "model_id": "cd309c418ce14987ba29b3f61261075d",
       "version_major": 2,
       "version_minor": 0
      },
      "text/plain": [
       "HBox(children=(IntProgress(value=0, max=971636), HTML(value='')))"
      ]
     },
     "metadata": {},
     "output_type": "display_data"
    },
    {
     "ename": "KeyboardInterrupt",
     "evalue": "",
     "output_type": "error",
     "traceback": [
      "\u001b[0;31m---------------------------------------------------------------------------\u001b[0m",
      "\u001b[0;31mKeyboardInterrupt\u001b[0m                         Traceback (most recent call last)",
      "\u001b[0;32m<ipython-input-414-a47793f7e0b8>\u001b[0m in \u001b[0;36m<module>\u001b[0;34m()\u001b[0m\n\u001b[1;32m      1\u001b[0m \u001b[0mall_from_addresses\u001b[0m \u001b[0;34m=\u001b[0m \u001b[0mlist\u001b[0m\u001b[0;34m(\u001b[0m\u001b[0minactive_addresses\u001b[0m\u001b[0;34m.\u001b[0m\u001b[0mindex\u001b[0m\u001b[0;34m)\u001b[0m\u001b[0;34m\u001b[0m\u001b[0m\n\u001b[1;32m      2\u001b[0m \u001b[0mall_to_addresses\u001b[0m \u001b[0;34m=\u001b[0m \u001b[0mlist\u001b[0m\u001b[0;34m(\u001b[0m\u001b[0mtransactions_df\u001b[0m\u001b[0;34m[\u001b[0m\u001b[0;34m\"to\"\u001b[0m\u001b[0;34m]\u001b[0m\u001b[0;34m.\u001b[0m\u001b[0munique\u001b[0m\u001b[0;34m(\u001b[0m\u001b[0;34m)\u001b[0m\u001b[0;34m)\u001b[0m\u001b[0;34m\u001b[0m\u001b[0m\n\u001b[0;32m----> 3\u001b[0;31m \u001b[0mno_out_transactions_addresses\u001b[0m \u001b[0;34m=\u001b[0m \u001b[0;34m[\u001b[0m\u001b[0ma\u001b[0m \u001b[0;32mfor\u001b[0m \u001b[0ma\u001b[0m \u001b[0;32min\u001b[0m \u001b[0mtqdm_notebook\u001b[0m\u001b[0;34m(\u001b[0m\u001b[0mall_to_addresses\u001b[0m\u001b[0;34m)\u001b[0m \u001b[0;32mif\u001b[0m \u001b[0ma\u001b[0m \u001b[0;32mnot\u001b[0m \u001b[0;32min\u001b[0m \u001b[0mall_from_addresses\u001b[0m\u001b[0;34m]\u001b[0m\u001b[0;34m\u001b[0m\u001b[0m\n\u001b[0m",
      "\u001b[0;32m<ipython-input-414-a47793f7e0b8>\u001b[0m in \u001b[0;36m<listcomp>\u001b[0;34m(.0)\u001b[0m\n\u001b[1;32m      1\u001b[0m \u001b[0mall_from_addresses\u001b[0m \u001b[0;34m=\u001b[0m \u001b[0mlist\u001b[0m\u001b[0;34m(\u001b[0m\u001b[0minactive_addresses\u001b[0m\u001b[0;34m.\u001b[0m\u001b[0mindex\u001b[0m\u001b[0;34m)\u001b[0m\u001b[0;34m\u001b[0m\u001b[0m\n\u001b[1;32m      2\u001b[0m \u001b[0mall_to_addresses\u001b[0m \u001b[0;34m=\u001b[0m \u001b[0mlist\u001b[0m\u001b[0;34m(\u001b[0m\u001b[0mtransactions_df\u001b[0m\u001b[0;34m[\u001b[0m\u001b[0;34m\"to\"\u001b[0m\u001b[0;34m]\u001b[0m\u001b[0;34m.\u001b[0m\u001b[0munique\u001b[0m\u001b[0;34m(\u001b[0m\u001b[0;34m)\u001b[0m\u001b[0;34m)\u001b[0m\u001b[0;34m\u001b[0m\u001b[0m\n\u001b[0;32m----> 3\u001b[0;31m \u001b[0mno_out_transactions_addresses\u001b[0m \u001b[0;34m=\u001b[0m \u001b[0;34m[\u001b[0m\u001b[0ma\u001b[0m \u001b[0;32mfor\u001b[0m \u001b[0ma\u001b[0m \u001b[0;32min\u001b[0m \u001b[0mtqdm_notebook\u001b[0m\u001b[0;34m(\u001b[0m\u001b[0mall_to_addresses\u001b[0m\u001b[0;34m)\u001b[0m \u001b[0;32mif\u001b[0m \u001b[0ma\u001b[0m \u001b[0;32mnot\u001b[0m \u001b[0;32min\u001b[0m \u001b[0mall_from_addresses\u001b[0m\u001b[0;34m]\u001b[0m\u001b[0;34m\u001b[0m\u001b[0m\n\u001b[0m",
      "\u001b[0;31mKeyboardInterrupt\u001b[0m: "
     ]
    }
   ],
   "source": [
    "all_from_addresses = list(inactive_addresses.index)\n",
    "all_to_addresses = list(transactions_df[\"to\"].unique())\n",
    "no_out_transactions_addresses = [a for a in tqdm_notebook(all_to_addresses) if a not in all_from_addresses]"
   ]
  },
  {
   "cell_type": "code",
   "execution_count": 137,
   "metadata": {},
   "outputs": [],
   "source": [
    "holders = no_out_transactions_addresses + list(holders)"
   ]
  },
  {
   "cell_type": "markdown",
   "metadata": {},
   "source": [
    "## Адреса Airdrop"
   ]
  },
  {
   "cell_type": "markdown",
   "metadata": {},
   "source": [
    "## Трейдеры"
   ]
  },
  {
   "cell_type": "markdown",
   "metadata": {},
   "source": [
    "Можно отличить по количеству транзакций к и от бирж"
   ]
  },
  {
   "cell_type": "code",
   "execution_count": 147,
   "metadata": {},
   "outputs": [],
   "source": [
    "cex_transactions_df = transactions_df[transactions_df.apply(lambda x: (x[\"from\"] in cex_addresses) or (x[\"to\"] in cex_addresses), axis=1)]"
   ]
  },
  {
   "cell_type": "code",
   "execution_count": 148,
   "metadata": {},
   "outputs": [],
   "source": [
    "from_addresses = cex_transactions_df[[\"from\", \"value\"]].groupby(\"from\").count()\n",
    "from_addresses[\"value1\"] = from_addresses[\"value\"]\n",
    "to_addresses = cex_transactions_df[[\"to\", \"value\"]].groupby(\"to\").count()\n",
    "to_addresses[\"value2\"] = to_addresses[\"value\"]"
   ]
  },
  {
   "cell_type": "code",
   "execution_count": 149,
   "metadata": {},
   "outputs": [],
   "source": [
    "traders_df = pd.concat([from_addresses[[\"value1\"]], to_addresses[[\"value2\"]]], axis=1, sort=False).fillna(0)"
   ]
  },
  {
   "cell_type": "code",
   "execution_count": 152,
   "metadata": {},
   "outputs": [],
   "source": [
    "traders_df[\"ratio\"] = traders_df[\"value1\"] / traders_df[\"value2\"]"
   ]
  },
  {
   "cell_type": "code",
   "execution_count": 153,
   "metadata": {},
   "outputs": [],
   "source": [
    "traders_df = traders_df[(traders_df[\"ratio\"] > 0.9) & (traders_df[\"ratio\"] < 1.1)]"
   ]
  },
  {
   "cell_type": "code",
   "execution_count": 162,
   "metadata": {},
   "outputs": [],
   "source": [
    "traders = list(traders_df.index)"
   ]
  },
  {
   "cell_type": "markdown",
   "metadata": {},
   "source": [
    "# Все типы"
   ]
  },
  {
   "cell_type": "code",
   "execution_count": 250,
   "metadata": {},
   "outputs": [],
   "source": [
    "all_addresses = set(list(transactions_df[\"from\"].unique()) + list(transactions_df[\"to\"].unique()))"
   ]
  },
  {
   "cell_type": "code",
   "execution_count": 251,
   "metadata": {},
   "outputs": [],
   "source": [
    "addresses_types_df = pd.DataFrame()\n",
    "addresses_types_df[\"address\"] = list(all_addresses)"
   ]
  },
  {
   "cell_type": "code",
   "execution_count": 252,
   "metadata": {},
   "outputs": [],
   "source": [
    "cex_addresses = set(cex_addresses)\n",
    "drop_addresses = set(drop_addresses)\n",
    "traders = set(traders)\n",
    "holders = set(holders)"
   ]
  },
  {
   "cell_type": "code",
   "execution_count": 253,
   "metadata": {},
   "outputs": [],
   "source": [
    "def detect_type(address):\n",
    "    if address in cex_addresses:\n",
    "        return \"cex\"\n",
    "    elif address in drop_addresses:\n",
    "        return \"drop\"\n",
    "    elif address in traders:\n",
    "        return \"trader\"\n",
    "    elif address in holders:\n",
    "        return \"holder\"\n",
    "    else:\n",
    "        return \"investor\""
   ]
  },
  {
   "cell_type": "code",
   "execution_count": 254,
   "metadata": {},
   "outputs": [],
   "source": [
    "addresses_types_df[\"type\"] = addresses_types_df[\"address\"].apply(detect_type)"
   ]
  },
  {
   "cell_type": "code",
   "execution_count": 255,
   "metadata": {},
   "outputs": [
    {
     "data": {
      "text/plain": [
       "holder      48991\n",
       "investor     3420\n",
       "trader       1613\n",
       "cex            11\n",
       "drop            6\n",
       "Name: type, dtype: int64"
      ]
     },
     "execution_count": 255,
     "metadata": {},
     "output_type": "execute_result"
    }
   ],
   "source": [
    "addresses_types_df[\"type\"].value_counts()"
   ]
  },
  {
   "cell_type": "code",
   "execution_count": 256,
   "metadata": {},
   "outputs": [],
   "source": [
    "addresses_types_df = addresses_types_df.set_index(\"address\")"
   ]
  },
  {
   "cell_type": "code",
   "execution_count": 169,
   "metadata": {},
   "outputs": [],
   "source": [
    "addresses_types_df.to_csv(\"addresses_types.csv\")"
   ]
  },
  {
   "cell_type": "markdown",
   "metadata": {},
   "source": [
    "## Записать граф в БД"
   ]
  },
  {
   "cell_type": "code",
   "execution_count": 556,
   "metadata": {},
   "outputs": [],
   "source": [
    "users = [\"FundRequest\", \"SocialX\"]"
   ]
  },
  {
   "cell_type": "code",
   "execution_count": 557,
   "metadata": {},
   "outputs": [],
   "source": [
    "users_addresses = [a for u in users for a in find_contract(u).split(\"\\\\t\") if a.startswith(\"0x\")]"
   ]
  },
  {
   "cell_type": "code",
   "execution_count": 648,
   "metadata": {},
   "outputs": [],
   "source": [
    "drop_addresses = transactions_df.groupby(\"from\").count()[\"to\"].sort_values(ascending=False).head(20)"
   ]
  },
  {
   "cell_type": "code",
   "execution_count": 78,
   "metadata": {},
   "outputs": [
    {
     "data": {
      "application/vnd.jupyter.widget-view+json": {
       "model_id": "1653fee55e2249248b207daa7a61eb23",
       "version_major": 2,
       "version_minor": 0
      },
      "text/plain": [
       "HBox(children=(IntProgress(value=1, bar_style='info', max=1), HTML(value='')))"
      ]
     },
     "metadata": {},
     "output_type": "display_data"
    },
    {
     "ename": "TypeError",
     "evalue": "'builtin_function_or_method' object is not iterable",
     "output_type": "error",
     "traceback": [
      "\u001b[0;31m---------------------------------------------------------------------------\u001b[0m",
      "\u001b[0;31mTypeError\u001b[0m                                 Traceback (most recent call last)",
      "\u001b[0;32m<ipython-input-78-6b3e1d6b289b>\u001b[0m in \u001b[0;36m<module>\u001b[0;34m()\u001b[0m\n\u001b[0;32m----> 1\u001b[0;31m \u001b[0mout_transactions_number\u001b[0m \u001b[0;34m=\u001b[0m \u001b[0;34m[\u001b[0m\u001b[0mtransactions_df\u001b[0m\u001b[0;34m[\u001b[0m\u001b[0mtransactions_df\u001b[0m\u001b[0;34m[\u001b[0m\u001b[0;34m\"to\"\u001b[0m\u001b[0;34m]\u001b[0m \u001b[0;34m==\u001b[0m \u001b[0ma\u001b[0m\u001b[0;34m]\u001b[0m\u001b[0;34m.\u001b[0m\u001b[0mshape\u001b[0m\u001b[0;34m[\u001b[0m\u001b[0;36m0\u001b[0m\u001b[0;34m]\u001b[0m \u001b[0;32mfor\u001b[0m \u001b[0ma\u001b[0m \u001b[0;32min\u001b[0m \u001b[0mtqdm_notebook\u001b[0m\u001b[0;34m(\u001b[0m\u001b[0mdrop_addresses\u001b[0m\u001b[0;34m.\u001b[0m\u001b[0mindex\u001b[0m\u001b[0;34m)\u001b[0m\u001b[0;34m]\u001b[0m\u001b[0;34m\u001b[0m\u001b[0m\n\u001b[0m",
      "\u001b[0;32m<ipython-input-78-6b3e1d6b289b>\u001b[0m in \u001b[0;36m<listcomp>\u001b[0;34m(.0)\u001b[0m\n\u001b[0;32m----> 1\u001b[0;31m \u001b[0mout_transactions_number\u001b[0m \u001b[0;34m=\u001b[0m \u001b[0;34m[\u001b[0m\u001b[0mtransactions_df\u001b[0m\u001b[0;34m[\u001b[0m\u001b[0mtransactions_df\u001b[0m\u001b[0;34m[\u001b[0m\u001b[0;34m\"to\"\u001b[0m\u001b[0;34m]\u001b[0m \u001b[0;34m==\u001b[0m \u001b[0ma\u001b[0m\u001b[0;34m]\u001b[0m\u001b[0;34m.\u001b[0m\u001b[0mshape\u001b[0m\u001b[0;34m[\u001b[0m\u001b[0;36m0\u001b[0m\u001b[0;34m]\u001b[0m \u001b[0;32mfor\u001b[0m \u001b[0ma\u001b[0m \u001b[0;32min\u001b[0m \u001b[0mtqdm_notebook\u001b[0m\u001b[0;34m(\u001b[0m\u001b[0mdrop_addresses\u001b[0m\u001b[0;34m.\u001b[0m\u001b[0mindex\u001b[0m\u001b[0;34m)\u001b[0m\u001b[0;34m]\u001b[0m\u001b[0;34m\u001b[0m\u001b[0m\n\u001b[0m",
      "\u001b[0;32m/usr/local/lib/python3.5/dist-packages/tqdm/_tqdm_notebook.py\u001b[0m in \u001b[0;36m__iter__\u001b[0;34m(self, *args, **kwargs)\u001b[0m\n\u001b[1;32m    199\u001b[0m     \u001b[0;32mdef\u001b[0m \u001b[0m__iter__\u001b[0m\u001b[0;34m(\u001b[0m\u001b[0mself\u001b[0m\u001b[0;34m,\u001b[0m \u001b[0;34m*\u001b[0m\u001b[0margs\u001b[0m\u001b[0;34m,\u001b[0m \u001b[0;34m**\u001b[0m\u001b[0mkwargs\u001b[0m\u001b[0;34m)\u001b[0m\u001b[0;34m:\u001b[0m\u001b[0;34m\u001b[0m\u001b[0m\n\u001b[1;32m    200\u001b[0m         \u001b[0;32mtry\u001b[0m\u001b[0;34m:\u001b[0m\u001b[0;34m\u001b[0m\u001b[0m\n\u001b[0;32m--> 201\u001b[0;31m             \u001b[0;32mfor\u001b[0m \u001b[0mobj\u001b[0m \u001b[0;32min\u001b[0m \u001b[0msuper\u001b[0m\u001b[0;34m(\u001b[0m\u001b[0mtqdm_notebook\u001b[0m\u001b[0;34m,\u001b[0m \u001b[0mself\u001b[0m\u001b[0;34m)\u001b[0m\u001b[0;34m.\u001b[0m\u001b[0m__iter__\u001b[0m\u001b[0;34m(\u001b[0m\u001b[0;34m*\u001b[0m\u001b[0margs\u001b[0m\u001b[0;34m,\u001b[0m \u001b[0;34m**\u001b[0m\u001b[0mkwargs\u001b[0m\u001b[0;34m)\u001b[0m\u001b[0;34m:\u001b[0m\u001b[0;34m\u001b[0m\u001b[0m\n\u001b[0m\u001b[1;32m    202\u001b[0m                 \u001b[0;31m# return super(tqdm...) will not catch exception\u001b[0m\u001b[0;34m\u001b[0m\u001b[0;34m\u001b[0m\u001b[0m\n\u001b[1;32m    203\u001b[0m                 \u001b[0;32myield\u001b[0m \u001b[0mobj\u001b[0m\u001b[0;34m\u001b[0m\u001b[0m\n",
      "\u001b[0;32m/usr/local/lib/python3.5/dist-packages/tqdm/_tqdm.py\u001b[0m in \u001b[0;36m__iter__\u001b[0;34m(self)\u001b[0m\n\u001b[1;32m    928\u001b[0m \"\"\", fp_write=getattr(self.fp, 'write', sys.stderr.write))\n\u001b[1;32m    929\u001b[0m \u001b[0;34m\u001b[0m\u001b[0m\n\u001b[0;32m--> 930\u001b[0;31m             \u001b[0;32mfor\u001b[0m \u001b[0mobj\u001b[0m \u001b[0;32min\u001b[0m \u001b[0miterable\u001b[0m\u001b[0;34m:\u001b[0m\u001b[0;34m\u001b[0m\u001b[0m\n\u001b[0m\u001b[1;32m    931\u001b[0m                 \u001b[0;32myield\u001b[0m \u001b[0mobj\u001b[0m\u001b[0;34m\u001b[0m\u001b[0m\n\u001b[1;32m    932\u001b[0m                 \u001b[0;31m# Update and possibly print the progressbar.\u001b[0m\u001b[0;34m\u001b[0m\u001b[0;34m\u001b[0m\u001b[0m\n",
      "\u001b[0;31mTypeError\u001b[0m: 'builtin_function_or_method' object is not iterable"
     ]
    }
   ],
   "source": [
    "out_transactions_number = [transactions_df[transactions_df[\"to\"] == a].shape[0] for a in tqdm_notebook(drop_addresses.index)]"
   ]
  },
  {
   "cell_type": "code",
   "execution_count": null,
   "metadata": {},
   "outputs": [],
   "source": [
    "drop_addresses_df = pd.DataFrame()\n",
    "drop_addresses_df[\"addresses\"] = drop_addresses.index\n",
    "drop_addresses_df[\"out\"] = list(drop_addresses)\n",
    "drop_addresses_df[\"in\"] = out_transactions_number"
   ]
  },
  {
   "cell_type": "code",
   "execution_count": null,
   "metadata": {},
   "outputs": [],
   "source": [
    "drop_addresses_df[\"distribution\"] = drop_addresses_df.apply(lambda x: x[\"out\"] >= x[\"in\"]*10, axis=1)"
   ]
  },
  {
   "cell_type": "code",
   "execution_count": null,
   "metadata": {},
   "outputs": [],
   "source": [
    "drop_addresses = drop_addresses_df[drop_addresses_df[\"distribution\"]][\"addresses\"]"
   ]
  },
  {
   "cell_type": "code",
   "execution_count": null,
   "metadata": {},
   "outputs": [],
   "source": [
    "drop_addresses = list(drop_addresses)"
   ]
  },
  {
   "cell_type": "code",
   "execution_count": 127,
   "metadata": {},
   "outputs": [],
   "source": [
    "# cex_addresses = ['0xa8ace92ea2d9174f75208ee44495f459e0491a96',\n",
    "#  '0x0681d8db095565fe8a346fa0277bffde9c0edbbf',\n",
    "#  '0x236f9f97e0e62388479bf9e5ba4889e46b0273c3',\n",
    "#  '0x629a7144235259336ea2694167f3c8b856edd7dc',\n",
    "#  '0x3f5ce5fbfe3e9af3971dd833d26ba9b5c936f0be',\n",
    "#  '0xf73c3c65bde10bf26c2e1763104e609a41702efe',\n",
    "#  '0xe8a0e282e6a3e8023465accd47fae39dd5db010b',\n",
    "#  '0xd551234ae421e3bcba99a0da6d736074f22192ff',\n",
    "#  '0xfe9e8709d3215310075d67e3ed32a380ccf451c8',\n",
    "#  '0x6cc5f688a315f3dc28a7781717a9a798a59fda7b',\n",
    "#  '0x564286362092d8e7936f0549571a803b203aaced',\n",
    "#  '0x8d12a197cb00d4747a1fe03395095ce2a5cc6819',\n",
    "#  '0xe88d6d63389d5c91e6348e379913f330739ad2c4']"
   ]
  },
  {
   "cell_type": "code",
   "execution_count": 103,
   "metadata": {},
   "outputs": [],
   "source": [
    "def get_types(window):    \n",
    "    # Find holders\n",
    "    inactive_addresses = window[[\"from\", \"value\"]].groupby(\"from\").count().sort_values(\"value\")\n",
    "    holders = inactive_addresses[inactive_addresses[\"value\"] <= 1].index\n",
    "    all_from_addresses = list(inactive_addresses.index)\n",
    "    all_to_addresses = list(window[\"to\"].unique())\n",
    "    no_out_transactions_addresses = [a for a in all_to_addresses if a not in all_from_addresses]\n",
    "    holders = no_out_transactions_addresses + list(holders)\n",
    "    \n",
    "    # Find traders\n",
    "    cex_transactions_df = window[window.apply(lambda x: (x[\"from\"] in cex_addresses) or (x[\"to\"] in cex_addresses), axis=1)]\n",
    "    from_addresses = cex_transactions_df[[\"from\", \"value\"]].groupby(\"from\").count()\n",
    "    from_addresses[\"value1\"] = from_addresses[\"value\"]\n",
    "    to_addresses = cex_transactions_df[[\"to\", \"value\"]].groupby(\"to\").count()\n",
    "    to_addresses[\"value2\"] = to_addresses[\"value\"]\n",
    "    traders_df = pd.concat([from_addresses[[\"value1\"]], to_addresses[[\"value2\"]]], axis=1, sort=False).fillna(0)\n",
    "    traders_df[\"ratio\"] = traders_df[\"value1\"] / traders_df[\"value2\"]\n",
    "    traders_df = traders_df[(traders_df[\"ratio\"] > 0.8) & (traders_df[\"ratio\"] < 1.2)]\n",
    "    traders = list(traders_df.index)\n",
    "    \n",
    "#     # Find contracts\n",
    "    all_addresses = list(set(list(window[\"from\"].unique()) + list(window[\"to\"].unique())))\n",
    "    contracts = []\n",
    "    for addresses in tqdm_notebook(np.array_split(all_addresses, int(len(all_addresses) / 900))):\n",
    "        try:\n",
    "            query = {\n",
    "                \"query\": {\n",
    "                    \"terms\": {\n",
    "                        \"address\": list(addresses)\n",
    "                    }\n",
    "                }\n",
    "            }\n",
    "            result = client.search(index='ethereum-contract', doc_type=\"contract\", query=query, size=1000)['hits']['hits']\n",
    "            contracts += [r[\"_id\"] for r in result]\n",
    "        except:\n",
    "            pass\n",
    "    \n",
    "    # Create DF with types\n",
    "    addresses_types_df = pd.DataFrame()\n",
    "    all_addresses = set(list(window[\"from\"].unique()) + list(window[\"to\"].unique()))\n",
    "    addresses_types_df[\"address\"] = list(all_addresses)\n",
    "    addresses_types_df[\"type\"] = \"investor\"\n",
    "    addresses_types_df = addresses_types_df.set_index(\"address\")\n",
    "    addresses_types_df.loc[traders, \"type\"] = \"trader\"\n",
    "    for address in drop_addresses:\n",
    "        if address in addresses_types_df.index:\n",
    "            addresses_types_df.loc[address, \"type\"] = \"airdrop\"\n",
    "    addresses_types_df.loc[contracts, \"type\"] = \"contract\"\n",
    "    addresses_types_df.loc[holders, \"type\"] = \"holder\"\n",
    "    for address in cex_addresses:\n",
    "        if address in addresses_types_df.index:\n",
    "            addresses_types_df.loc[address, \"type\"] = \"cex\"\n",
    "    return addresses_types_df"
   ]
  },
  {
   "cell_type": "code",
   "execution_count": 95,
   "metadata": {},
   "outputs": [],
   "source": [
    "def get_balances(window):\n",
    "    outcomes = window[[\"from\", \"value\"]].groupby(\"from\").sum()\n",
    "    incomes = window[[\"to\", \"value\"]].groupby(\"to\").sum()\n",
    "    balances = {}\n",
    "    for address, row in incomes.iterrows():\n",
    "        balances[address] = row[\"value\"]\n",
    "    for address, row in outcomes.iterrows():\n",
    "        balances[address] = np.abs(balances.get(address, 0) - row[\"value\"])\n",
    "    return balances"
   ]
  },
  {
   "cell_type": "code",
   "execution_count": 96,
   "metadata": {},
   "outputs": [],
   "source": [
    "def create_graph(window):\n",
    "    drop_addresses = window[window[\"method\"] == \"transferFrom\"].groupby(\"from\").count()[\"to\"].sort_values(ascending=False)\n",
    "    G = nx.DiGraph()\n",
    "    G.add_nodes_from(window[\"to\"].unique())\n",
    "    G.add_edges_from(set([(r[\"from\"], r[\"to\"]) for i, r in window.iterrows()]))\n",
    "    return G"
   ]
  },
  {
   "cell_type": "code",
   "execution_count": 97,
   "metadata": {},
   "outputs": [],
   "source": [
    "def reduce_components(G):\n",
    "    components = sorted(nx.weakly_connected_component_subgraphs(G), key=lambda x: -len(x))\n",
    "    graph = components[0]\n",
    "    for component in components[1:]:\n",
    "        if (len(component.nodes) > 0.5 * len(components[0].nodes)) and (len(component.nodes) > 5):\n",
    "            graph = nx.compose(graph, component)\n",
    "    return graph"
   ]
  },
  {
   "cell_type": "code",
   "execution_count": 98,
   "metadata": {},
   "outputs": [
    {
     "data": {
      "text/plain": [
       "6067253"
      ]
     },
     "execution_count": 98,
     "metadata": {},
     "output_type": "execute_result"
    }
   ],
   "source": [
    "transactions_df[\"block_id\"].max()"
   ]
  },
  {
   "cell_type": "code",
   "execution_count": 99,
   "metadata": {},
   "outputs": [],
   "source": [
    "def get_distance(x):\n",
    "    if x < start_block:\n",
    "        return (start_block - x) / BEFORE_BLOCK_GAP\n",
    "    elif x > start_block:\n",
    "        return (x - start_block) / AFTER_BLOCK_GAP\n",
    "    else:\n",
    "        return 0"
   ]
  },
  {
   "cell_type": "code",
   "execution_count": 100,
   "metadata": {},
   "outputs": [],
   "source": [
    "transactions_df[\"time\"] = transactions_df[\"block_id\"].apply(get_distance)"
   ]
  },
  {
   "cell_type": "code",
   "execution_count": 87,
   "metadata": {},
   "outputs": [],
   "source": [
    "BEFORE_BLOCK_GAP = 100000\n",
    "AFTER_BLOCK_GAP = 1000000"
   ]
  },
  {
   "cell_type": "code",
   "execution_count": 88,
   "metadata": {},
   "outputs": [
    {
     "data": {
      "text/plain": [
       "5179745"
      ]
     },
     "execution_count": 88,
     "metadata": {},
     "output_type": "execute_result"
    }
   ],
   "source": [
    "start_block"
   ]
  },
  {
   "cell_type": "code",
   "execution_count": 89,
   "metadata": {},
   "outputs": [],
   "source": [
    "new_transactions = transactions_df[(transactions_df[\"block_id\"] > start_block - BEFORE_BLOCK_GAP) & (transactions_df[\"block_id\"] < start_block + AFTER_BLOCK_GAP)]"
   ]
  },
  {
   "cell_type": "code",
   "execution_count": 90,
   "metadata": {},
   "outputs": [
    {
     "data": {
      "text/plain": [
       "(8141, 15)"
      ]
     },
     "execution_count": 90,
     "metadata": {},
     "output_type": "execute_result"
    }
   ],
   "source": [
    "new_transactions.shape"
   ]
  },
  {
   "cell_type": "code",
   "execution_count": 104,
   "metadata": {
    "scrolled": false
   },
   "outputs": [
    {
     "data": {
      "application/vnd.jupyter.widget-view+json": {
       "model_id": "1b11040edb534bdb85cd1e08120e1acc",
       "version_major": 2,
       "version_minor": 0
      },
      "text/plain": [
       "HBox(children=(IntProgress(value=0, max=7), HTML(value='')))"
      ]
     },
     "metadata": {},
     "output_type": "display_data"
    }
   ],
   "source": [
    "window = new_transactions.sort_values(\"block_id\")\n",
    "addresses_types_df = get_types(window)"
   ]
  },
  {
   "cell_type": "code",
   "execution_count": 105,
   "metadata": {},
   "outputs": [],
   "source": [
    "graph = create_graph(window)"
   ]
  },
  {
   "cell_type": "markdown",
   "metadata": {},
   "source": [
    "Serve only proxy nodes from airdrop node"
   ]
  },
  {
   "cell_type": "code",
   "execution_count": 106,
   "metadata": {},
   "outputs": [
    {
     "data": {
      "application/vnd.jupyter.widget-view+json": {
       "model_id": "82ab1365937c463884b52b71e710b75b",
       "version_major": 2,
       "version_minor": 0
      },
      "text/plain": [
       "HBox(children=(IntProgress(value=0, max=7057), HTML(value='')))"
      ]
     },
     "metadata": {},
     "output_type": "display_data"
    }
   ],
   "source": [
    "degrees = list(sorted(dict(graph.degree).items(), key=lambda x: x[1]))\n",
    "for node, degree in tqdm_notebook(degrees):\n",
    "    out_nodes = list(graph.successors(node))\n",
    "    in_nodes = list(graph.predecessors(node)) \n",
    "    if not len(out_nodes):\n",
    "        graph.remove_node(node)\n",
    "    if (len(out_nodes) == 1) and (len(in_nodes) == 1):\n",
    "        out_node = out_nodes[0]\n",
    "        in_node = in_nodes[0]\n",
    "        if addresses_types_df.loc[in_node, \"type\"] == \"airdrop\":\n",
    "            if graph.degree[out_node] == 0:\n",
    "                graph.remove_node(node)\n",
    "                graph.remove_node(out_node)\n",
    "            else:\n",
    "                graph.remove_node(node)            \n",
    "                try:\n",
    "                    if in_node not in graph.predecessors(out_node):\n",
    "                        graph.add_edge(in_node, out_node)\n",
    "                except:\n",
    "                    print(\"Exception!\", out_node)"
   ]
  },
  {
   "cell_type": "code",
   "execution_count": 107,
   "metadata": {},
   "outputs": [],
   "source": [
    "graph = reduce_components(graph)"
   ]
  },
  {
   "cell_type": "code",
   "execution_count": 108,
   "metadata": {},
   "outputs": [
    {
     "data": {
      "text/plain": [
       "1502"
      ]
     },
     "execution_count": 108,
     "metadata": {},
     "output_type": "execute_result"
    }
   ],
   "source": [
    "len(graph.nodes)"
   ]
  },
  {
   "cell_type": "code",
   "execution_count": 125,
   "metadata": {},
   "outputs": [],
   "source": [
    "addresses_types_df.loc[\"0x236f9f97e0e62388479bf9e5ba4889e46b0273c3\", \"type\"] = \"cex\""
   ]
  },
  {
   "cell_type": "code",
   "execution_count": 126,
   "metadata": {},
   "outputs": [],
   "source": [
    "a = [{\"address\": n, \"type\": addresses_types_df[\"type\"].loc[n]} for n in graph]"
   ]
  },
  {
   "cell_type": "code",
   "execution_count": 1,
   "metadata": {},
   "outputs": [
    {
     "ename": "NameError",
     "evalue": "name 'token_transactions_df' is not defined",
     "output_type": "error",
     "traceback": [
      "\u001b[0;31m---------------------------------------------------------------------------\u001b[0m",
      "\u001b[0;31mNameError\u001b[0m                                 Traceback (most recent call last)",
      "\u001b[0;32m<ipython-input-1-e1166c35b8f8>\u001b[0m in \u001b[0;36m<module>\u001b[0;34m()\u001b[0m\n\u001b[0;32m----> 1\u001b[0;31m \u001b[0mtoken_transactions_df\u001b[0m\u001b[0;34m[\u001b[0m\u001b[0;34m\"value\"\u001b[0m\u001b[0;34m]\u001b[0m\u001b[0;34m.\u001b[0m\u001b[0msum\u001b[0m\u001b[0;34m(\u001b[0m\u001b[0;34m)\u001b[0m\u001b[0;34m\u001b[0m\u001b[0m\n\u001b[0m",
      "\u001b[0;31mNameError\u001b[0m: name 'token_transactions_df' is not defined"
     ]
    }
   ],
   "source": [
    "token_transactions_df[\"value\"].sum()"
   ]
  },
  {
   "cell_type": "code",
   "execution_count": 127,
   "metadata": {},
   "outputs": [],
   "source": [
    "def get_value(a, b):\n",
    "    return token_transactions_df[(token_transactions_df[\"from\"] == a) & (token_transactions_df[\"to\"] == b)][\"value\"].sum()"
   ]
  },
  {
   "cell_type": "code",
   "execution_count": 128,
   "metadata": {
    "scrolled": true
   },
   "outputs": [
    {
     "data": {
      "application/vnd.jupyter.widget-view+json": {
       "model_id": "0800a9d61d7c4f3a9ff5cf5b08e9ba39",
       "version_major": 2,
       "version_minor": 0
      },
      "text/plain": [
       "HBox(children=(IntProgress(value=0, max=1883), HTML(value='')))"
      ]
     },
     "metadata": {},
     "output_type": "display_data"
    }
   ],
   "source": [
    "t = [{\"from\": a, \"to\": b} for a, b in tqdm_notebook(graph.edges)]"
   ]
  },
  {
   "cell_type": "code",
   "execution_count": 129,
   "metadata": {},
   "outputs": [],
   "source": [
    "airdrop_jsons = json.load(open(\"prepared_airdrops.json\"))"
   ]
  },
  {
   "cell_type": "code",
   "execution_count": 130,
   "metadata": {},
   "outputs": [],
   "source": [
    "prices = [a for a in airdrop_jsons if a[\"name\"] == \"Qtum \"][0][\"prices\"]"
   ]
  },
  {
   "cell_type": "code",
   "execution_count": 134,
   "metadata": {},
   "outputs": [],
   "source": [
    "airdrop_json = {\n",
    "    \"name\": \"Viuly\",\n",
    "    \"image\": \"https://www.bitbetnews.com/wp-content/uploads/2018/03/shto_takoe_kriptovalyuta_viuly.jpg\",\n",
    "    \"addresses\": a,\n",
    "    \"transactions\": t,\n",
    "    \"prices\": prices\n",
    "}"
   ]
  },
  {
   "cell_type": "code",
   "execution_count": 135,
   "metadata": {},
   "outputs": [],
   "source": [
    "json.dump(airdrop_json, open(\"graph/airdrops/viuly_airdrop.json\", \"w\"))"
   ]
  },
  {
   "cell_type": "code",
   "execution_count": 436,
   "metadata": {},
   "outputs": [],
   "source": [
    "node_color = addresses_df[\"cluster\"].to_dict()"
   ]
  },
  {
   "cell_type": "code",
   "execution_count": 439,
   "metadata": {},
   "outputs": [
    {
     "data": {
      "text/plain": [
       "[]"
      ]
     },
     "execution_count": 439,
     "metadata": {},
     "output_type": "execute_result"
    }
   ],
   "source": [
    "colors = addresses_df[\"cluster\"].to_dict()\n",
    "[n for n in graph.nodes if n not in colors]"
   ]
  },
  {
   "cell_type": "code",
   "execution_count": null,
   "metadata": {},
   "outputs": [],
   "source": []
  },
  {
   "cell_type": "markdown",
   "metadata": {},
   "source": [
    "- Как токен используется? Как можно найти тех, кто реально использует токен?\n",
    "- Что дает ICO dock?"
   ]
  },
  {
   "cell_type": "markdown",
   "metadata": {},
   "source": [
    "# Дропы vs ICO"
   ]
  },
  {
   "cell_type": "code",
   "execution_count": 512,
   "metadata": {},
   "outputs": [],
   "source": [
    "drop_addresses = list(addresses_types_df[addresses_types_df[\"type\"] == \"airdrop\"].index)"
   ]
  },
  {
   "cell_type": "code",
   "execution_count": 513,
   "metadata": {
    "scrolled": false
   },
   "outputs": [],
   "source": [
    "query = {\n",
    "    \"size\": 0,\n",
    "    \"query\": {\n",
    "        \"bool\": {\n",
    "            \"must\": [\n",
    "                {\"terms\": {\"to\": drop_addresses}}\n",
    "            ]\n",
    "        }\n",
    "    },\n",
    "    \"aggs\": {\n",
    "        \"drops\": {\n",
    "            \"terms\": {\n",
    "                \"field\": \"to\",\n",
    "                \"size\": len(drop_addresses),\n",
    "            },\n",
    "            \"aggs\": {\n",
    "                \"income\": {\n",
    "                    \"sum\": {\n",
    "                        \"field\": \"value\"\n",
    "                    }\n",
    "                },\n",
    "                \"incoming_addresses\": {\n",
    "                    \"cardinality\": {\n",
    "                        \"field\": \"from\"\n",
    "                    }\n",
    "                }\n",
    "            }\n",
    "        }\n",
    "    }\n",
    "}\n",
    "\n",
    "result = client.search(index=\"ethereum-internal-transaction\", doc_type=\"itx\", query=query)"
   ]
  },
  {
   "cell_type": "code",
   "execution_count": 515,
   "metadata": {},
   "outputs": [
    {
     "data": {
      "text/plain": [
       "{'drops': {'buckets': [{'doc_count': 45506,\n",
       "    'income': {'value': 340235.44172850234},\n",
       "    'incoming_addresses': {'value': 30117},\n",
       "    'key': '0x30146933a3a0babc74ec0b3403bec69281ba5914'},\n",
       "   {'doc_count': 171,\n",
       "    'income': {'value': 339.9712186604738},\n",
       "    'incoming_addresses': {'value': 103},\n",
       "    'key': '0xb99adfb2679bfb78636900bec8df9793fa073841'},\n",
       "   {'doc_count': 93,\n",
       "    'income': {'value': 0.0},\n",
       "    'incoming_addresses': {'value': 1},\n",
       "    'key': '0xc7300057a24b495e08b4bd7b99694848b44d6204'},\n",
       "   {'doc_count': 15,\n",
       "    'income': {'value': 36.730258570984006},\n",
       "    'incoming_addresses': {'value': 5},\n",
       "    'key': '0x83b1638d7fe26b79bb0edb2cffd16428e7676244'},\n",
       "   {'doc_count': 6,\n",
       "    'income': {'value': 0.12175630300771445},\n",
       "    'incoming_addresses': {'value': 5},\n",
       "    'key': '0xae397137cd037fe6f45f7df5b49c845ef6402e58'}],\n",
       "  'doc_count_error_upper_bound': 0,\n",
       "  'sum_other_doc_count': 0}}"
      ]
     },
     "execution_count": 515,
     "metadata": {},
     "output_type": "execute_result"
    }
   ],
   "source": [
    "result['aggregations']"
   ]
  },
  {
   "cell_type": "markdown",
   "metadata": {},
   "source": [
    "# Эффекты дропов"
   ]
  },
  {
   "cell_type": "code",
   "execution_count": 448,
   "metadata": {},
   "outputs": [],
   "source": [
    "prices_df = pd.read_csv(\"_prices.csv\")"
   ]
  },
  {
   "cell_type": "code",
   "execution_count": 616,
   "metadata": {},
   "outputs": [
    {
     "data": {
      "text/plain": [
       "<matplotlib.lines.Line2D at 0x7fc8bcb8ca90>"
      ]
     },
     "execution_count": 616,
     "metadata": {},
     "output_type": "execute_result"
    },
    {
     "data": {
      "image/png": "[encoded data removed]",
      "text/plain": [
       "<matplotlib.figure.Figure at 0x7fc8bc2894e0>"
      ]
     },
     "metadata": {},
     "output_type": "display_data"
    }
   ],
   "source": [
    "x = prices_df.sort_values(\"block\")[\"block\"]\n",
    "y = prices_df.sort_values(\"block\")[\"USD\"]\n",
    "plt.figure(figsize=(15, 3))\n",
    "plt.plot(x, y)\n",
    "plt.axvline(get_block_by_timestamp(\"2018-04-03\"))\n",
    "# plt.axvline(get_block_by_timestamp(\"2018-03-03\"))"
   ]
  },
  {
   "cell_type": "markdown",
   "metadata": {},
   "source": [
    "- Количество транзакций на биржу \n",
    "- Количество баунти хантеров\n",
    "- Количество инвестиций на адреса crowdsale\n",
    "\n",
    "- Бонусные баллы?"
   ]
  },
  {
   "cell_type": "markdown",
   "metadata": {},
   "source": [
    "- Изменение курсов (до и после даты)\n",
    "- Изменение размера комьюнити (до и после даты), на графике"
   ]
  },
  {
   "cell_type": "markdown",
   "metadata": {},
   "source": [
    "# Визуализировать время"
   ]
  },
  {
   "cell_type": "markdown",
   "metadata": {},
   "source": [
    "# Найти баунти хантеров и инвесторов\n",
    "\n",
    "Баунти хантеры:\n",
    "- Имеют большое количество токенов\n",
    "- Имеют небольшую среднюю ETH транзакцию\n",
    "\n",
    "Инвесторы:\n",
    "- Отправляют ETH в ответ на дроп\n",
    "- Участвуют в ICO"
   ]
  },
  {
   "cell_type": "markdown",
   "metadata": {},
   "source": [
    "## Dock"
   ]
  },
  {
   "cell_type": "code",
   "execution_count": 3,
   "metadata": {},
   "outputs": [],
   "source": [
    "drop_addresses = [\"0xfc31cdbd39253fd43eb1776e446b33183d613dc9\"]"
   ]
  },
  {
   "cell_type": "code",
   "execution_count": 5,
   "metadata": {},
   "outputs": [],
   "source": [
    "cex_addresses"
   ]
  },
  {
   "cell_type": "code",
   "execution_count": 6,
   "metadata": {},
   "outputs": [],
   "source": [
    "transactions_df = pd.read_csv(\"dock_airdrop.csv\")"
   ]
  },
  {
   "cell_type": "code",
   "execution_count": 276,
   "metadata": {},
   "outputs": [],
   "source": [
    "AFTER_BLOCK_GAP = 1000000\n",
    "end_block = start_block + AFTER_BLOCK_GAP"
   ]
  },
  {
   "cell_type": "code",
   "execution_count": 277,
   "metadata": {},
   "outputs": [
    {
     "data": {
      "text/plain": [
       "(40574, 11)"
      ]
     },
     "execution_count": 277,
     "metadata": {},
     "output_type": "execute_result"
    }
   ],
   "source": [
    "transactions_df[(transactions_df[\"block_id\"] > start_block) & (transactions_df[\"block_id\"] < end_block) & (transactions_df[\"from\"] == \"0xfc31cdbd39253fd43eb1776e446b33183d613dc9\")].shape"
   ]
  },
  {
   "cell_type": "markdown",
   "metadata": {},
   "source": [
    "- Найти всех участников дропа\n",
    "- Убрать биржи/дропы\n",
    "- Кластеризовать по признакам (до дропа)\n",
    "    - Средний вход eth\n",
    "    - Средний выход eth\n",
    "    - Количество имеющихся токенов на счете до дропа - (количество уникальных контрактов)\n",
    "    - Количество и объем транзакций ICO (пока не трогать)\n",
    "    - Количество обращений к контрактам (c ненулевым input)\n",
    "    - Количество исходящих транзакций на биржи \n",
    "    - Количество входящих транзакций с бирж\n",
    "- Агрегировать по кластерам\n",
    "- Посмотреть, какие кластеры могут влиять на качество дропа"
   ]
  },
  {
   "cell_type": "code",
   "execution_count": 504,
   "metadata": {},
   "outputs": [],
   "source": [
    "all_addresses = list(set(list(window[\"from\"].unique()) + list(window[\"to\"].unique())))"
   ]
  },
  {
   "cell_type": "code",
   "execution_count": 505,
   "metadata": {},
   "outputs": [],
   "source": [
    "addresses_df = pd.DataFrame()\n",
    "addresses_df[\"address\"] = all_addresses\n",
    "addresses_df = addresses_df.set_index('address')"
   ]
  },
  {
   "cell_type": "code",
   "execution_count": 506,
   "metadata": {},
   "outputs": [],
   "source": [
    "def chunks(l, n):\n",
    "    \"\"\"Yield successive n-sized chunks from l.\"\"\"\n",
    "    for i in range(0, len(l), n):\n",
    "        yield l[i:i + n]"
   ]
  },
  {
   "cell_type": "code",
   "execution_count": 510,
   "metadata": {},
   "outputs": [],
   "source": [
    "def add_features(index, doc_type, query_lambda, key):\n",
    "    result = []\n",
    "    for addresses in tqdm_notebook(list(chunks(all_addresses, 100))):\n",
    "        query = query_lambda(addresses, key)\n",
    "        result.append(client.search(index=index, doc_type=doc_type, query=query))\n",
    "\n",
    "    results = {b[\"key\"]: b[key][\"value\"] for r in result for b in r[\"aggregations\"][\"drops\"][\"buckets\"]}\n",
    "    for address, value in tqdm_notebook(results.items()):\n",
    "        addresses_df.loc[address, key] = value"
   ]
  },
  {
   "cell_type": "code",
   "execution_count": 515,
   "metadata": {
    "scrolled": false
   },
   "outputs": [
    {
     "data": {
      "application/vnd.jupyter.widget-view+json": {
       "model_id": "40d9d7597f604ee7a6fe3edfb485b612",
       "version_major": 2,
       "version_minor": 0
      },
      "text/plain": [
       "HBox(children=(IntProgress(value=0, max=415), HTML(value='')))"
      ]
     },
     "metadata": {},
     "output_type": "display_data"
    },
    {
     "data": {
      "application/vnd.jupyter.widget-view+json": {
       "model_id": "b6662032ddf446ea92a068a7a38abb51",
       "version_major": 2,
       "version_minor": 0
      },
      "text/plain": [
       "HBox(children=(IntProgress(value=0, max=34703), HTML(value='')))"
      ]
     },
     "metadata": {},
     "output_type": "display_data"
    }
   ],
   "source": [
    "def query(addresses, key):\n",
    "    query = {\n",
    "        \"size\": 0,\n",
    "        \"query\": {\n",
    "            \"bool\": {\n",
    "                \"must\": [\n",
    "                    {\"terms\": {\"to\": addresses}},\n",
    "                    {\"range\": {\"blockNumber\": {\"lte\": start_block}}}\n",
    "                ]\n",
    "            }\n",
    "        },\n",
    "        \"aggs\": {\n",
    "            \"drops\": {\n",
    "                \"terms\": {\n",
    "                    \"field\": \"to\",\n",
    "                    \"size\": len(addresses),\n",
    "                },\n",
    "                \"aggs\": {\n",
    "                    key: {\n",
    "                        \"avg\": {\n",
    "                            \"field\": \"value\"\n",
    "                        }\n",
    "                    }\n",
    "                }\n",
    "            }\n",
    "        }\n",
    "    }\n",
    "    return query\n",
    "\n",
    "add_features(index=\"ethereum-internal-transaction\", doc_type=\"itx\", query_lambda=avg_income_query, key=\"avg_income\")"
   ]
  },
  {
   "cell_type": "code",
   "execution_count": 516,
   "metadata": {},
   "outputs": [
    {
     "data": {
      "application/vnd.jupyter.widget-view+json": {
       "model_id": "5653b27a47f44a9899f3cba8c160907f",
       "version_major": 2,
       "version_minor": 0
      },
      "text/plain": [
       "HBox(children=(IntProgress(value=0, max=415), HTML(value='')))"
      ]
     },
     "metadata": {},
     "output_type": "display_data"
    },
    {
     "data": {
      "application/vnd.jupyter.widget-view+json": {
       "model_id": "7015032544d544c7b32727fb6426ad2f",
       "version_major": 2,
       "version_minor": 0
      },
      "text/plain": [
       "HBox(children=(IntProgress(value=0, max=33284), HTML(value='')))"
      ]
     },
     "metadata": {},
     "output_type": "display_data"
    }
   ],
   "source": [
    "def query(addresses, key):\n",
    "    query = {\n",
    "        \"size\": 0,\n",
    "        \"query\": {\n",
    "            \"bool\": {\n",
    "                \"must\": [\n",
    "                    {\"terms\": {\"from\": addresses}},\n",
    "                    {\"range\": {\"blockNumber\": {\"lte\": start_block}}}\n",
    "                ]\n",
    "            }\n",
    "        },\n",
    "        \"aggs\": {\n",
    "            \"drops\": {\n",
    "                \"terms\": {\n",
    "                    \"field\": \"from\",\n",
    "                    \"size\": len(addresses),\n",
    "                },\n",
    "                \"aggs\": {\n",
    "                    key: {\n",
    "                        \"avg\": {\n",
    "                            \"field\": \"value\"\n",
    "                        }\n",
    "                    }\n",
    "                }\n",
    "            }\n",
    "        }\n",
    "    }\n",
    "    return query\n",
    "\n",
    "add_features(index=\"ethereum-internal-transaction\", doc_type=\"itx\", query_lambda=query, key=\"avg_outcome\")"
   ]
  },
  {
   "cell_type": "code",
   "execution_count": 517,
   "metadata": {},
   "outputs": [
    {
     "data": {
      "application/vnd.jupyter.widget-view+json": {
       "model_id": "b202e0041282415fb2558bc527c5f3ef",
       "version_major": 2,
       "version_minor": 0
      },
      "text/plain": [
       "HBox(children=(IntProgress(value=0, max=415), HTML(value='')))"
      ]
     },
     "metadata": {},
     "output_type": "display_data"
    },
    {
     "data": {
      "application/vnd.jupyter.widget-view+json": {
       "model_id": "9cf59be28d3e4aee975e92378f98e753",
       "version_major": 2,
       "version_minor": 0
      },
      "text/plain": [
       "HBox(children=(IntProgress(value=0, max=8262), HTML(value='')))"
      ]
     },
     "metadata": {},
     "output_type": "display_data"
    }
   ],
   "source": [
    "def query(addresses, key):\n",
    "    query = {\n",
    "        \"size\": 0,\n",
    "        \"query\": {\n",
    "            \"bool\": {\n",
    "                \"must\": [\n",
    "                    {\"terms\": {\"to.keyword\": addresses}},\n",
    "                    {\"term\": {\"token.keyword\": TOKEN}},\n",
    "                    {\"range\": {\"block_id\": {\"lte\": start_block}}}\n",
    "                ]\n",
    "            }\n",
    "        },\n",
    "        \"aggs\": {\n",
    "            \"drops\": {\n",
    "                \"terms\": {\n",
    "                    \"field\": \"to.keyword\",\n",
    "                    \"size\": len(addresses),\n",
    "                },\n",
    "                \"aggs\": {\n",
    "                    key: {\n",
    "                        \"sum\": {\n",
    "                            \"field\": \"value\"\n",
    "                        }\n",
    "                    }\n",
    "                }\n",
    "            }\n",
    "        }\n",
    "    }\n",
    "    return query\n",
    "\n",
    "add_features(index=\"ethereum-token-transaction\", doc_type=\"tx\", query_lambda=query, key=\"token_income\")"
   ]
  },
  {
   "cell_type": "code",
   "execution_count": 519,
   "metadata": {},
   "outputs": [
    {
     "data": {
      "application/vnd.jupyter.widget-view+json": {
       "model_id": "1ec83d41a9314dd68f482f3c7abbb95a",
       "version_major": 2,
       "version_minor": 0
      },
      "text/plain": [
       "HBox(children=(IntProgress(value=0, max=415), HTML(value='')))"
      ]
     },
     "metadata": {},
     "output_type": "display_data"
    },
    {
     "data": {
      "application/vnd.jupyter.widget-view+json": {
       "model_id": "3c86577547b642f0a7ec2e1cdd85a74a",
       "version_major": 2,
       "version_minor": 0
      },
      "text/plain": [
       "HBox(children=(IntProgress(value=0, max=30656), HTML(value='')))"
      ]
     },
     "metadata": {},
     "output_type": "display_data"
    }
   ],
   "source": [
    "def query(addresses, key):\n",
    "    query = {\n",
    "        \"size\": 0,\n",
    "        \"query\": {\n",
    "            \"bool\": {\n",
    "                \"must\": [\n",
    "                    {\"terms\": {\"from\": addresses}},\n",
    "                    {\"query_string\": {\"query\": \"!(input:0x)\"}},\n",
    "                    {\"range\": {\"block_id\": {\"lte\": start_block}}}\n",
    "                ]\n",
    "            }\n",
    "        },\n",
    "        \"aggs\": {\n",
    "            \"drops\": {\n",
    "                \"terms\": {\n",
    "                    \"field\": \"from\",\n",
    "                    \"size\": len(addresses),\n",
    "                },\n",
    "                \"aggs\": {\n",
    "                    key: {\n",
    "                        \"cardinality\": {\n",
    "                            \"field\": \"to\"\n",
    "                        }\n",
    "                    }\n",
    "                }\n",
    "            }\n",
    "        }\n",
    "    }\n",
    "    return query\n",
    "\n",
    "add_features(index=\"ethereum-internal-transaction\", doc_type=\"itx\", query_lambda=query, key=\"contract_transactions\")"
   ]
  },
  {
   "cell_type": "code",
   "execution_count": 550,
   "metadata": {},
   "outputs": [
    {
     "data": {
      "application/vnd.jupyter.widget-view+json": {
       "model_id": "f70561df9a604780a4ee5c2635c233f6",
       "version_major": 2,
       "version_minor": 0
      },
      "text/plain": [
       "HBox(children=(IntProgress(value=0, max=415), HTML(value='')))"
      ]
     },
     "metadata": {},
     "output_type": "display_data"
    },
    {
     "data": {
      "application/vnd.jupyter.widget-view+json": {
       "model_id": "5a9aa0447b2944129d827804835d36d8",
       "version_major": 2,
       "version_minor": 0
      },
      "text/plain": [
       "HBox(children=(IntProgress(value=0, max=16892), HTML(value='')))"
      ]
     },
     "metadata": {},
     "output_type": "display_data"
    }
   ],
   "source": [
    "def query(addresses, key):\n",
    "    query = {\n",
    "        \"size\": 0,\n",
    "        \"query\": {\n",
    "            \"bool\": {\n",
    "                \"must\": [\n",
    "                    {\"terms\": {\"from\": addresses}},\n",
    "                    {\"terms\": {\"to\": cex_addresses}},\n",
    "                ]\n",
    "            }\n",
    "        },\n",
    "        \"aggs\": {\n",
    "            \"drops\": {\n",
    "                \"terms\": {\n",
    "                    \"field\": \"from\",\n",
    "                    \"size\": len(addresses),\n",
    "                },\n",
    "                \"aggs\": {\n",
    "                    key: {\n",
    "                        \"value_count\": {\n",
    "                            \"field\": \"value\"\n",
    "                        }\n",
    "                    }\n",
    "                }\n",
    "            }\n",
    "        }\n",
    "    }\n",
    "    return query\n",
    "\n",
    "add_features(index=\"ethereum-internal-transaction\", doc_type=\"itx\", query_lambda=query, key=\"exchange_transactions\")"
   ]
  },
  {
   "cell_type": "code",
   "execution_count": 587,
   "metadata": {
    "scrolled": false
   },
   "outputs": [
    {
     "data": {
      "application/vnd.jupyter.widget-view+json": {
       "model_id": "aec95c61962b417fa9410e84df759e20",
       "version_major": 2,
       "version_minor": 0
      },
      "text/plain": [
       "HBox(children=(IntProgress(value=0, max=415), HTML(value='')))"
      ]
     },
     "metadata": {},
     "output_type": "display_data"
    },
    {
     "data": {
      "application/vnd.jupyter.widget-view+json": {
       "model_id": "d3b17d7d208445edb6d52102f74acd4b",
       "version_major": 2,
       "version_minor": 0
      },
      "text/plain": [
       "HBox(children=(IntProgress(value=0, max=25461), HTML(value='')))"
      ]
     },
     "metadata": {},
     "output_type": "display_data"
    }
   ],
   "source": [
    "def query(addresses, key):\n",
    "    query = {\n",
    "        \"size\": 0,\n",
    "        \"query\": {\n",
    "            \"bool\": {\n",
    "                \"must\": [\n",
    "                    {\"terms\": {\"to\": addresses}},\n",
    "                    {\"terms\": {\"from\": cex_addresses}},\n",
    "                ]\n",
    "            }\n",
    "        },\n",
    "        \"aggs\": {\n",
    "            \"drops\": {\n",
    "                \"terms\": {\n",
    "                    \"field\": \"to\",\n",
    "                    \"size\": len(addresses),\n",
    "                },\n",
    "                \"aggs\": {\n",
    "                    key: {\n",
    "                        \"value_count\": {\n",
    "                            \"field\": \"value\"\n",
    "                        }\n",
    "                    }\n",
    "                }\n",
    "            }\n",
    "        }\n",
    "    }\n",
    "    return query\n",
    "\n",
    "add_features(index=\"ethereum-internal-transaction\", doc_type=\"itx\", query_lambda=query, key=\"out_exchange_transactions\")"
   ]
  },
  {
   "cell_type": "code",
   "execution_count": 591,
   "metadata": {},
   "outputs": [],
   "source": [
    "from sklearn.cluster import KMeans\n",
    "from sklearn.decomposition import PCA"
   ]
  },
  {
   "cell_type": "code",
   "execution_count": 592,
   "metadata": {},
   "outputs": [],
   "source": [
    "addresses_df.to_csv(\"addresses_stats1.csv\")"
   ]
  },
  {
   "cell_type": "code",
   "execution_count": 613,
   "metadata": {},
   "outputs": [],
   "source": [
    "addresses_df = pd.read_csv(\"addresses_stats1.csv\").set_index(\"address\")"
   ]
  },
  {
   "cell_type": "code",
   "execution_count": 597,
   "metadata": {},
   "outputs": [],
   "source": [
    "for column in addresses_df.columns:\n",
    "    addresses_df[column] = np.log(addresses_df[column].fillna(0) + 1 + 0.00001 * np.random.randn(addresses_df.shape[0]))"
   ]
  },
  {
   "cell_type": "code",
   "execution_count": 598,
   "metadata": {},
   "outputs": [],
   "source": [
    "kmeans = KMeans(n_clusters=10)\n",
    "clusters = kmeans.fit_predict(addresses_df)"
   ]
  },
  {
   "cell_type": "code",
   "execution_count": 615,
   "metadata": {},
   "outputs": [],
   "source": [
    "addresses_df[\"cluster\"] = clusters"
   ]
  },
  {
   "cell_type": "code",
   "execution_count": 600,
   "metadata": {},
   "outputs": [],
   "source": [
    "pca = PCA(n_components=2)\n",
    "pca_stats = pca.fit_transform(addresses_df)"
   ]
  },
  {
   "cell_type": "code",
   "execution_count": 601,
   "metadata": {},
   "outputs": [],
   "source": [
    "from sklearn.manifold import TSNE\n",
    "# pca_stats = TSNE(n_components=2, verbose=1).fit_transform(addresses_df)"
   ]
  },
  {
   "cell_type": "code",
   "execution_count": 602,
   "metadata": {},
   "outputs": [
    {
     "data": {
      "text/plain": [
       "<matplotlib.legend.Legend at 0x7f4f16cd26a0>"
      ]
     },
     "execution_count": 602,
     "metadata": {},
     "output_type": "execute_result"
    },
    {
     "data": {
      "image/png": "[encoded data removed]",
      "text/plain": [
       "<matplotlib.figure.Figure at 0x7f4f16d29e80>"
      ]
     },
     "metadata": {},
     "output_type": "display_data"
    }
   ],
   "source": [
    "plt.figure(figsize=(20, 20))\n",
    "for cluster in addresses_df[\"cluster\"].unique():\n",
    "    stats = pca_stats[addresses_df[\"cluster\"] == cluster]\n",
    "    plt.scatter(stats.transpose()[0], stats.transpose()[1], label=cluster)\n",
    "plt.legend()"
   ]
  },
  {
   "cell_type": "code",
   "execution_count": 603,
   "metadata": {},
   "outputs": [],
   "source": [
    "clusters = addresses_df[\"cluster\"]"
   ]
  },
  {
   "cell_type": "code",
   "execution_count": 604,
   "metadata": {},
   "outputs": [],
   "source": [
    "addresses_df[\"cluster\"] = clusters"
   ]
  },
  {
   "cell_type": "code",
   "execution_count": 617,
   "metadata": {},
   "outputs": [],
   "source": [
    "cleaned_addresses = addresses_df[~addresses_df.index.isin(cex_addresses + drop_addresses)]"
   ]
  },
  {
   "cell_type": "code",
   "execution_count": 618,
   "metadata": {
    "scrolled": true
   },
   "outputs": [
    {
     "data": {
      "text/html": [
       "<div>\n",
       "<style scoped>\n",
       "    .dataframe tbody tr th:only-of-type {\n",
       "        vertical-align: middle;\n",
       "    }\n",
       "\n",
       "    .dataframe tbody tr th {\n",
       "        vertical-align: top;\n",
       "    }\n",
       "\n",
       "    .dataframe thead th {\n",
       "        text-align: right;\n",
       "    }\n",
       "</style>\n",
       "<table border=\"1\" class=\"dataframe\">\n",
       "  <thead>\n",
       "    <tr style=\"text-align: right;\">\n",
       "      <th></th>\n",
       "      <th>avg_income</th>\n",
       "      <th>avg_outcome</th>\n",
       "      <th>token_income</th>\n",
       "      <th>contract_transactions</th>\n",
       "      <th>exchange_transactions</th>\n",
       "      <th>out_exchange_transactions</th>\n",
       "    </tr>\n",
       "    <tr>\n",
       "      <th>cluster</th>\n",
       "      <th></th>\n",
       "      <th></th>\n",
       "      <th></th>\n",
       "      <th></th>\n",
       "      <th></th>\n",
       "      <th></th>\n",
       "    </tr>\n",
       "  </thead>\n",
       "  <tbody>\n",
       "    <tr>\n",
       "      <th>0</th>\n",
       "      <td>1.522184</td>\n",
       "      <td>0.684226</td>\n",
       "      <td>10714.000000</td>\n",
       "      <td>17.0</td>\n",
       "      <td>26.5</td>\n",
       "      <td>16.0</td>\n",
       "    </tr>\n",
       "    <tr>\n",
       "      <th>1</th>\n",
       "      <td>0.611492</td>\n",
       "      <td>0.325489</td>\n",
       "      <td>107.139999</td>\n",
       "      <td>6.0</td>\n",
       "      <td>2.0</td>\n",
       "      <td>2.0</td>\n",
       "    </tr>\n",
       "    <tr>\n",
       "      <th>2</th>\n",
       "      <td>0.198234</td>\n",
       "      <td>0.138000</td>\n",
       "      <td>NaN</td>\n",
       "      <td>1.0</td>\n",
       "      <td>1.0</td>\n",
       "      <td>1.0</td>\n",
       "    </tr>\n",
       "    <tr>\n",
       "      <th>3</th>\n",
       "      <td>1.935696</td>\n",
       "      <td>1.093373</td>\n",
       "      <td>10714.000000</td>\n",
       "      <td>9.0</td>\n",
       "      <td>3.0</td>\n",
       "      <td>5.0</td>\n",
       "    </tr>\n",
       "    <tr>\n",
       "      <th>4</th>\n",
       "      <td>0.689281</td>\n",
       "      <td>0.319622</td>\n",
       "      <td>NaN</td>\n",
       "      <td>8.0</td>\n",
       "      <td>15.0</td>\n",
       "      <td>7.0</td>\n",
       "    </tr>\n",
       "    <tr>\n",
       "      <th>5</th>\n",
       "      <td>1.003000</td>\n",
       "      <td>0.998150</td>\n",
       "      <td>10714.000000</td>\n",
       "      <td>2.0</td>\n",
       "      <td>2.0</td>\n",
       "      <td>2.0</td>\n",
       "    </tr>\n",
       "    <tr>\n",
       "      <th>6</th>\n",
       "      <td>0.470000</td>\n",
       "      <td>0.423077</td>\n",
       "      <td>NaN</td>\n",
       "      <td>2.0</td>\n",
       "      <td>3.0</td>\n",
       "      <td>3.0</td>\n",
       "    </tr>\n",
       "    <tr>\n",
       "      <th>7</th>\n",
       "      <td>3.368182</td>\n",
       "      <td>2.233333</td>\n",
       "      <td>NaN</td>\n",
       "      <td>3.0</td>\n",
       "      <td>2.0</td>\n",
       "      <td>2.0</td>\n",
       "    </tr>\n",
       "    <tr>\n",
       "      <th>8</th>\n",
       "      <td>1.484388</td>\n",
       "      <td>0.488792</td>\n",
       "      <td>NaN</td>\n",
       "      <td>25.0</td>\n",
       "      <td>79.0</td>\n",
       "      <td>26.0</td>\n",
       "    </tr>\n",
       "    <tr>\n",
       "      <th>9</th>\n",
       "      <td>5.197162</td>\n",
       "      <td>3.055185</td>\n",
       "      <td>NaN</td>\n",
       "      <td>17.0</td>\n",
       "      <td>3.0</td>\n",
       "      <td>8.0</td>\n",
       "    </tr>\n",
       "  </tbody>\n",
       "</table>\n",
       "</div>"
      ],
      "text/plain": [
       "         avg_income  avg_outcome  token_income  contract_transactions  \\\n",
       "cluster                                                                 \n",
       "0          1.522184     0.684226  10714.000000                   17.0   \n",
       "1          0.611492     0.325489    107.139999                    6.0   \n",
       "2          0.198234     0.138000           NaN                    1.0   \n",
       "3          1.935696     1.093373  10714.000000                    9.0   \n",
       "4          0.689281     0.319622           NaN                    8.0   \n",
       "5          1.003000     0.998150  10714.000000                    2.0   \n",
       "6          0.470000     0.423077           NaN                    2.0   \n",
       "7          3.368182     2.233333           NaN                    3.0   \n",
       "8          1.484388     0.488792           NaN                   25.0   \n",
       "9          5.197162     3.055185           NaN                   17.0   \n",
       "\n",
       "         exchange_transactions  out_exchange_transactions  \n",
       "cluster                                                    \n",
       "0                         26.5                       16.0  \n",
       "1                          2.0                        2.0  \n",
       "2                          1.0                        1.0  \n",
       "3                          3.0                        5.0  \n",
       "4                         15.0                        7.0  \n",
       "5                          2.0                        2.0  \n",
       "6                          3.0                        3.0  \n",
       "7                          2.0                        2.0  \n",
       "8                         79.0                       26.0  \n",
       "9                          3.0                        8.0  "
      ]
     },
     "execution_count": 618,
     "metadata": {},
     "output_type": "execute_result"
    }
   ],
   "source": [
    "cleaned_addresses.groupby(\"cluster\").median()"
   ]
  },
  {
   "cell_type": "code",
   "execution_count": 619,
   "metadata": {},
   "outputs": [
    {
     "data": {
      "text/html": [
       "<div>\n",
       "<style scoped>\n",
       "    .dataframe tbody tr th:only-of-type {\n",
       "        vertical-align: middle;\n",
       "    }\n",
       "\n",
       "    .dataframe tbody tr th {\n",
       "        vertical-align: top;\n",
       "    }\n",
       "\n",
       "    .dataframe thead th {\n",
       "        text-align: right;\n",
       "    }\n",
       "</style>\n",
       "<table border=\"1\" class=\"dataframe\">\n",
       "  <thead>\n",
       "    <tr style=\"text-align: right;\">\n",
       "      <th></th>\n",
       "      <th>avg_income</th>\n",
       "      <th>avg_outcome</th>\n",
       "      <th>token_income</th>\n",
       "      <th>contract_transactions</th>\n",
       "      <th>exchange_transactions</th>\n",
       "      <th>out_exchange_transactions</th>\n",
       "    </tr>\n",
       "    <tr>\n",
       "      <th>cluster</th>\n",
       "      <th></th>\n",
       "      <th></th>\n",
       "      <th></th>\n",
       "      <th></th>\n",
       "      <th></th>\n",
       "      <th></th>\n",
       "    </tr>\n",
       "  </thead>\n",
       "  <tbody>\n",
       "    <tr>\n",
       "      <th>0</th>\n",
       "      <td>1.522184</td>\n",
       "      <td>0.684226</td>\n",
       "      <td>10714.000000</td>\n",
       "      <td>17.0</td>\n",
       "      <td>26.5</td>\n",
       "      <td>16.0</td>\n",
       "    </tr>\n",
       "    <tr>\n",
       "      <th>1</th>\n",
       "      <td>0.611492</td>\n",
       "      <td>0.325489</td>\n",
       "      <td>107.139999</td>\n",
       "      <td>6.0</td>\n",
       "      <td>2.0</td>\n",
       "      <td>2.0</td>\n",
       "    </tr>\n",
       "    <tr>\n",
       "      <th>2</th>\n",
       "      <td>0.198234</td>\n",
       "      <td>0.138000</td>\n",
       "      <td>NaN</td>\n",
       "      <td>1.0</td>\n",
       "      <td>1.0</td>\n",
       "      <td>1.0</td>\n",
       "    </tr>\n",
       "    <tr>\n",
       "      <th>3</th>\n",
       "      <td>1.935696</td>\n",
       "      <td>1.093373</td>\n",
       "      <td>10714.000000</td>\n",
       "      <td>9.0</td>\n",
       "      <td>3.0</td>\n",
       "      <td>5.0</td>\n",
       "    </tr>\n",
       "    <tr>\n",
       "      <th>4</th>\n",
       "      <td>0.689281</td>\n",
       "      <td>0.319622</td>\n",
       "      <td>NaN</td>\n",
       "      <td>8.0</td>\n",
       "      <td>15.0</td>\n",
       "      <td>7.0</td>\n",
       "    </tr>\n",
       "    <tr>\n",
       "      <th>5</th>\n",
       "      <td>1.003000</td>\n",
       "      <td>0.998150</td>\n",
       "      <td>10714.000000</td>\n",
       "      <td>2.0</td>\n",
       "      <td>2.0</td>\n",
       "      <td>2.0</td>\n",
       "    </tr>\n",
       "    <tr>\n",
       "      <th>6</th>\n",
       "      <td>0.470000</td>\n",
       "      <td>0.423077</td>\n",
       "      <td>NaN</td>\n",
       "      <td>2.0</td>\n",
       "      <td>3.0</td>\n",
       "      <td>3.0</td>\n",
       "    </tr>\n",
       "    <tr>\n",
       "      <th>7</th>\n",
       "      <td>3.368182</td>\n",
       "      <td>2.233333</td>\n",
       "      <td>NaN</td>\n",
       "      <td>3.0</td>\n",
       "      <td>2.0</td>\n",
       "      <td>2.0</td>\n",
       "    </tr>\n",
       "    <tr>\n",
       "      <th>8</th>\n",
       "      <td>1.484388</td>\n",
       "      <td>0.488792</td>\n",
       "      <td>NaN</td>\n",
       "      <td>25.0</td>\n",
       "      <td>79.0</td>\n",
       "      <td>26.0</td>\n",
       "    </tr>\n",
       "    <tr>\n",
       "      <th>9</th>\n",
       "      <td>5.197162</td>\n",
       "      <td>3.055185</td>\n",
       "      <td>NaN</td>\n",
       "      <td>17.0</td>\n",
       "      <td>3.0</td>\n",
       "      <td>8.0</td>\n",
       "    </tr>\n",
       "  </tbody>\n",
       "</table>\n",
       "</div>"
      ],
      "text/plain": [
       "         avg_income  avg_outcome  token_income  contract_transactions  \\\n",
       "cluster                                                                 \n",
       "0          1.522184     0.684226  10714.000000                   17.0   \n",
       "1          0.611492     0.325489    107.139999                    6.0   \n",
       "2          0.198234     0.138000           NaN                    1.0   \n",
       "3          1.935696     1.093373  10714.000000                    9.0   \n",
       "4          0.689281     0.319622           NaN                    8.0   \n",
       "5          1.003000     0.998150  10714.000000                    2.0   \n",
       "6          0.470000     0.423077           NaN                    2.0   \n",
       "7          3.368182     2.233333           NaN                    3.0   \n",
       "8          1.484388     0.488792           NaN                   25.0   \n",
       "9          5.197162     3.055185           NaN                   17.0   \n",
       "\n",
       "         exchange_transactions  out_exchange_transactions  \n",
       "cluster                                                    \n",
       "0                         26.5                       16.0  \n",
       "1                          2.0                        2.0  \n",
       "2                          1.0                        1.0  \n",
       "3                          3.0                        5.0  \n",
       "4                         15.0                        7.0  \n",
       "5                          2.0                        2.0  \n",
       "6                          3.0                        3.0  \n",
       "7                          2.0                        2.0  \n",
       "8                         79.0                       26.0  \n",
       "9                          3.0                        8.0  "
      ]
     },
     "execution_count": 619,
     "metadata": {},
     "output_type": "execute_result"
    }
   ],
   "source": [
    "cleaned_addresses.groupby(\"cluster\").median()"
   ]
  },
  {
   "cell_type": "code",
   "execution_count": 620,
   "metadata": {
    "scrolled": false
   },
   "outputs": [
    {
     "data": {
      "text/plain": [
       "<matplotlib.axes._subplots.AxesSubplot at 0x7f4f15c9f6a0>"
      ]
     },
     "execution_count": 620,
     "metadata": {},
     "output_type": "execute_result"
    },
    {
     "data": {
      "text/plain": [
       "<matplotlib.figure.Figure at 0x7f4f167baa90>"
      ]
     },
     "metadata": {},
     "output_type": "display_data"
    },
    {
     "data": {
      "image/png": "[encoded data removed]",
      "text/plain": [
       "<matplotlib.figure.Figure at 0x7f4f16cb3cf8>"
      ]
     },
     "metadata": {},
     "output_type": "display_data"
    }
   ],
   "source": [
    "plt.figure()\n",
    "(cleaned_addresses.groupby(\"cluster\").median() / cleaned_addresses.groupby(\"cluster\").median().max(axis=0)).plot(kind=\"bar\", figsize=(20, 10))"
   ]
  },
  {
   "cell_type": "markdown",
   "metadata": {},
   "source": [
    "## Viuly"
   ]
  },
  {
   "cell_type": "code",
   "execution_count": 3,
   "metadata": {},
   "outputs": [],
   "source": [
    "drop_addresses = [\"0x30146933a3a0babc74ec0b3403bec69281ba5914\"]"
   ]
  },
  {
   "cell_type": "code",
   "execution_count": 7,
   "metadata": {},
   "outputs": [],
   "source": [
    "cex_addresses = ['0x236f9f97e0e62388479bf9e5ba4889e46b0273c3',\n",
    " '0x2a0c0dbecc7e4d658f48e01e3fa353f44050c208',\n",
    " '0x6cc5f688a315f3dc28a7781717a9a798a59fda7b',\n",
    " '0x8d12a197cb00d4747a1fe03395095ce2a5cc6819']"
   ]
  },
  {
   "cell_type": "code",
   "execution_count": 8,
   "metadata": {},
   "outputs": [],
   "source": [
    "transactions_df = pd.read_csv(\"viuly_airdrop.csv\")"
   ]
  },
  {
   "cell_type": "code",
   "execution_count": 9,
   "metadata": {},
   "outputs": [],
   "source": [
    "start_block = 5179745"
   ]
  },
  {
   "cell_type": "code",
   "execution_count": 31,
   "metadata": {},
   "outputs": [],
   "source": [
    "AFTER_BLOCK_GAP = 200000\n",
    "BEFORE_BLOCK_GAP = 100000\n",
    "end_block = start_block + AFTER_BLOCK_GAP"
   ]
  },
  {
   "cell_type": "code",
   "execution_count": 32,
   "metadata": {},
   "outputs": [
    {
     "data": {
      "text/plain": [
       "(195, 15)"
      ]
     },
     "execution_count": 32,
     "metadata": {},
     "output_type": "execute_result"
    }
   ],
   "source": [
    "transactions_df[(transactions_df[\"block_id\"] > start_block - BEFORE_BLOCK_GAP) & (transactions_df[\"block_id\"] < start_block + AFTER_BLOCK_GAP) & (transactions_df[\"from\"] == \"0x30146933a3a0babc74ec0b3403bec69281ba5914\")].shape"
   ]
  },
  {
   "cell_type": "code",
   "execution_count": 33,
   "metadata": {},
   "outputs": [],
   "source": [
    "airdrop_transactions = transactions_df[(transactions_df[\"block_id\"] > start_block - BEFORE_BLOCK_GAP) & (transactions_df[\"block_id\"] < start_block + AFTER_BLOCK_GAP) & (transactions_df[\"from\"] == \"0x30146933a3a0babc74ec0b3403bec69281ba5914\")]"
   ]
  },
  {
   "cell_type": "code",
   "execution_count": 37,
   "metadata": {},
   "outputs": [
    {
     "data": {
      "text/plain": [
       "[<matplotlib.lines.Line2D at 0x7f8986b8cd30>]"
      ]
     },
     "execution_count": 37,
     "metadata": {},
     "output_type": "execute_result"
    },
    {
     "data": {
      "image/png": "[encoded data removed]",
      "text/plain": [
       "<matplotlib.figure.Figure at 0x7f8995108358>"
      ]
     },
     "metadata": {},
     "output_type": "display_data"
    }
   ],
   "source": [
    "plt.plot(airdrop_transactions[[\"block_id\", \"tx_hash\"]].groupby(\"block_id\").count())"
   ]
  },
  {
   "cell_type": "markdown",
   "metadata": {},
   "source": [
    "- Найти всех участников дропа\n",
    "- Убрать биржи/дропы\n",
    "- Кластеризовать по признакам (до дропа)\n",
    "    - Средний вход eth\n",
    "    - Средний выход eth\n",
    "    - Количество имеющихся токенов на счете до дропа - (количество уникальных контрактов)\n",
    "    - Количество и объем транзакций ICO (пока не трогать)\n",
    "    - Количество обращений к контрактам (c ненулевым input)\n",
    "    - Количество исходящих транзакций на биржи \n",
    "    - Количество входящих транзакций с бирж\n",
    "- Агрегировать по кластерам\n",
    "- Посмотреть, какие кластеры могут влиять на качество дропа"
   ]
  },
  {
   "cell_type": "code",
   "execution_count": 54,
   "metadata": {},
   "outputs": [],
   "source": [
    "all_addresses = list(set(list(transactions_df[\"from\"].unique()) + list(transactions_df[\"to\"].unique())))[1:]"
   ]
  },
  {
   "cell_type": "code",
   "execution_count": 55,
   "metadata": {},
   "outputs": [],
   "source": [
    "addresses_df = pd.DataFrame()\n",
    "addresses_df[\"address\"] = all_addresses\n",
    "addresses_df = addresses_df.set_index('address')"
   ]
  },
  {
   "cell_type": "code",
   "execution_count": 56,
   "metadata": {},
   "outputs": [],
   "source": [
    "def chunks(l, n):\n",
    "    \"\"\"Yield successive n-sized chunks from l.\"\"\"\n",
    "    for i in range(0, len(l), n):\n",
    "        yield l[i:i + n]"
   ]
  },
  {
   "cell_type": "code",
   "execution_count": 61,
   "metadata": {},
   "outputs": [],
   "source": [
    "def add_features(index, doc_type, query_lambda, key):\n",
    "    result = []\n",
    "    for addresses in tqdm_notebook(list(chunks(all_addresses, 1000))):\n",
    "        query = query_lambda(addresses, key)\n",
    "        result.append(client.search(index=index, doc_type=doc_type, query=query))\n",
    "\n",
    "    results = {b[\"key\"]: b[key][\"value\"] for r in result for b in r[\"aggregations\"][\"drops\"][\"buckets\"]}\n",
    "    for address, value in tqdm_notebook(results.items()):\n",
    "        addresses_df.loc[address, key] = value"
   ]
  },
  {
   "cell_type": "code",
   "execution_count": 62,
   "metadata": {},
   "outputs": [
    {
     "data": {
      "text/plain": [
       "5179745"
      ]
     },
     "execution_count": 62,
     "metadata": {},
     "output_type": "execute_result"
    }
   ],
   "source": [
    "start_block"
   ]
  },
  {
   "cell_type": "code",
   "execution_count": 63,
   "metadata": {
    "scrolled": false
   },
   "outputs": [
    {
     "data": {
      "application/vnd.jupyter.widget-view+json": {
       "model_id": "656be1ac6aea4ec6853f10209db6ed4a",
       "version_major": 2,
       "version_minor": 0
      },
      "text/plain": [
       "HBox(children=(IntProgress(value=0, max=972), HTML(value='')))"
      ]
     },
     "metadata": {},
     "output_type": "display_data"
    },
    {
     "data": {
      "application/vnd.jupyter.widget-view+json": {
       "model_id": "ef76f485da594bcdbca54f8a9ec265c9",
       "version_major": 2,
       "version_minor": 0
      },
      "text/plain": [
       "HBox(children=(IntProgress(value=0, max=964642), HTML(value='')))"
      ]
     },
     "metadata": {},
     "output_type": "display_data"
    }
   ],
   "source": [
    "def query(addresses, key):\n",
    "    query = {\n",
    "        \"size\": 0,\n",
    "        \"query\": {\n",
    "            \"bool\": {\n",
    "                \"must\": [\n",
    "                    {\"terms\": {\"to\": addresses}},\n",
    "                    {\"range\": {\"blockNumber\": {\"lte\": start_block}}}\n",
    "                ]\n",
    "            }\n",
    "        },\n",
    "        \"aggs\": {\n",
    "            \"drops\": {\n",
    "                \"terms\": {\n",
    "                    \"field\": \"to\",\n",
    "                    \"size\": len(addresses),\n",
    "                },\n",
    "                \"aggs\": {\n",
    "                    key: {\n",
    "                        \"avg\": {\n",
    "                            \"field\": \"value\"\n",
    "                        }\n",
    "                    }\n",
    "                }\n",
    "            }\n",
    "        }\n",
    "    }\n",
    "    return query\n",
    "\n",
    "add_features(index=\"ethereum-internal-transaction\", doc_type=\"itx\", query_lambda=query, key=\"avg_income\")"
   ]
  },
  {
   "cell_type": "code",
   "execution_count": 64,
   "metadata": {},
   "outputs": [
    {
     "data": {
      "application/vnd.jupyter.widget-view+json": {
       "model_id": "63a67f9d653549979a7779c865edd95c",
       "version_major": 2,
       "version_minor": 0
      },
      "text/plain": [
       "HBox(children=(IntProgress(value=0, max=972), HTML(value='')))"
      ]
     },
     "metadata": {},
     "output_type": "display_data"
    },
    {
     "data": {
      "application/vnd.jupyter.widget-view+json": {
       "model_id": "becb35002181474fb1b2096f49d823a7",
       "version_major": 2,
       "version_minor": 0
      },
      "text/plain": [
       "HBox(children=(IntProgress(value=0, max=730660), HTML(value='')))"
      ]
     },
     "metadata": {},
     "output_type": "display_data"
    }
   ],
   "source": [
    "def query(addresses, key):\n",
    "    query = {\n",
    "        \"size\": 0,\n",
    "        \"query\": {\n",
    "            \"bool\": {\n",
    "                \"must\": [\n",
    "                    {\"terms\": {\"from\": addresses}},\n",
    "                    {\"range\": {\"blockNumber\": {\"lte\": start_block}}}\n",
    "                ]\n",
    "            }\n",
    "        },\n",
    "        \"aggs\": {\n",
    "            \"drops\": {\n",
    "                \"terms\": {\n",
    "                    \"field\": \"from\",\n",
    "                    \"size\": len(addresses),\n",
    "                },\n",
    "                \"aggs\": {\n",
    "                    key: {\n",
    "                        \"avg\": {\n",
    "                            \"field\": \"value\"\n",
    "                        }\n",
    "                    }\n",
    "                }\n",
    "            }\n",
    "        }\n",
    "    }\n",
    "    return query\n",
    "\n",
    "add_features(index=\"ethereum-internal-transaction\", doc_type=\"itx\", query_lambda=query, key=\"avg_outcome\")"
   ]
  },
  {
   "cell_type": "code",
   "execution_count": 65,
   "metadata": {},
   "outputs": [
    {
     "data": {
      "application/vnd.jupyter.widget-view+json": {
       "model_id": "71eef1240df34cc3b7dea07610e6508a",
       "version_major": 2,
       "version_minor": 0
      },
      "text/plain": [
       "HBox(children=(IntProgress(value=0, max=972), HTML(value='')))"
      ]
     },
     "metadata": {},
     "output_type": "display_data"
    },
    {
     "ename": "NameError",
     "evalue": "name 'TOKEN' is not defined",
     "output_type": "error",
     "traceback": [
      "\u001b[0;31m---------------------------------------------------------------------------\u001b[0m",
      "\u001b[0;31mNameError\u001b[0m                                 Traceback (most recent call last)",
      "\u001b[0;32m<ipython-input-65-809f4fbc82c6>\u001b[0m in \u001b[0;36m<module>\u001b[0;34m()\u001b[0m\n\u001b[1;32m     29\u001b[0m     \u001b[0;32mreturn\u001b[0m \u001b[0mquery\u001b[0m\u001b[0;34m\u001b[0m\u001b[0m\n\u001b[1;32m     30\u001b[0m \u001b[0;34m\u001b[0m\u001b[0m\n\u001b[0;32m---> 31\u001b[0;31m \u001b[0madd_features\u001b[0m\u001b[0;34m(\u001b[0m\u001b[0mindex\u001b[0m\u001b[0;34m=\u001b[0m\u001b[0;34m\"ethereum-token-transaction\"\u001b[0m\u001b[0;34m,\u001b[0m \u001b[0mdoc_type\u001b[0m\u001b[0;34m=\u001b[0m\u001b[0;34m\"tx\"\u001b[0m\u001b[0;34m,\u001b[0m \u001b[0mquery_lambda\u001b[0m\u001b[0;34m=\u001b[0m\u001b[0mquery\u001b[0m\u001b[0;34m,\u001b[0m \u001b[0mkey\u001b[0m\u001b[0;34m=\u001b[0m\u001b[0;34m\"token_income\"\u001b[0m\u001b[0;34m)\u001b[0m\u001b[0;34m\u001b[0m\u001b[0m\n\u001b[0m",
      "\u001b[0;32m<ipython-input-61-9419c5629178>\u001b[0m in \u001b[0;36madd_features\u001b[0;34m(index, doc_type, query_lambda, key)\u001b[0m\n\u001b[1;32m      2\u001b[0m     \u001b[0mresult\u001b[0m \u001b[0;34m=\u001b[0m \u001b[0;34m[\u001b[0m\u001b[0;34m]\u001b[0m\u001b[0;34m\u001b[0m\u001b[0m\n\u001b[1;32m      3\u001b[0m     \u001b[0;32mfor\u001b[0m \u001b[0maddresses\u001b[0m \u001b[0;32min\u001b[0m \u001b[0mtqdm_notebook\u001b[0m\u001b[0;34m(\u001b[0m\u001b[0mlist\u001b[0m\u001b[0;34m(\u001b[0m\u001b[0mchunks\u001b[0m\u001b[0;34m(\u001b[0m\u001b[0mall_addresses\u001b[0m\u001b[0;34m,\u001b[0m \u001b[0;36m1000\u001b[0m\u001b[0;34m)\u001b[0m\u001b[0;34m)\u001b[0m\u001b[0;34m)\u001b[0m\u001b[0;34m:\u001b[0m\u001b[0;34m\u001b[0m\u001b[0m\n\u001b[0;32m----> 4\u001b[0;31m         \u001b[0mquery\u001b[0m \u001b[0;34m=\u001b[0m \u001b[0mquery_lambda\u001b[0m\u001b[0;34m(\u001b[0m\u001b[0maddresses\u001b[0m\u001b[0;34m,\u001b[0m \u001b[0mkey\u001b[0m\u001b[0;34m)\u001b[0m\u001b[0;34m\u001b[0m\u001b[0m\n\u001b[0m\u001b[1;32m      5\u001b[0m         \u001b[0mresult\u001b[0m\u001b[0;34m.\u001b[0m\u001b[0mappend\u001b[0m\u001b[0;34m(\u001b[0m\u001b[0mclient\u001b[0m\u001b[0;34m.\u001b[0m\u001b[0msearch\u001b[0m\u001b[0;34m(\u001b[0m\u001b[0mindex\u001b[0m\u001b[0;34m=\u001b[0m\u001b[0mindex\u001b[0m\u001b[0;34m,\u001b[0m \u001b[0mdoc_type\u001b[0m\u001b[0;34m=\u001b[0m\u001b[0mdoc_type\u001b[0m\u001b[0;34m,\u001b[0m \u001b[0mquery\u001b[0m\u001b[0;34m=\u001b[0m\u001b[0mquery\u001b[0m\u001b[0;34m)\u001b[0m\u001b[0;34m)\u001b[0m\u001b[0;34m\u001b[0m\u001b[0m\n\u001b[1;32m      6\u001b[0m \u001b[0;34m\u001b[0m\u001b[0m\n",
      "\u001b[0;32m<ipython-input-65-809f4fbc82c6>\u001b[0m in \u001b[0;36mquery\u001b[0;34m(addresses, key)\u001b[0m\n\u001b[1;32m      6\u001b[0m                 \"must\": [\n\u001b[1;32m      7\u001b[0m                     \u001b[0;34m{\u001b[0m\u001b[0;34m\"terms\"\u001b[0m\u001b[0;34m:\u001b[0m \u001b[0;34m{\u001b[0m\u001b[0;34m\"to.keyword\"\u001b[0m\u001b[0;34m:\u001b[0m \u001b[0maddresses\u001b[0m\u001b[0;34m}\u001b[0m\u001b[0;34m}\u001b[0m\u001b[0;34m,\u001b[0m\u001b[0;34m\u001b[0m\u001b[0m\n\u001b[0;32m----> 8\u001b[0;31m                     \u001b[0;34m{\u001b[0m\u001b[0;34m\"term\"\u001b[0m\u001b[0;34m:\u001b[0m \u001b[0;34m{\u001b[0m\u001b[0;34m\"token.keyword\"\u001b[0m\u001b[0;34m:\u001b[0m \u001b[0mTOKEN\u001b[0m\u001b[0;34m}\u001b[0m\u001b[0;34m}\u001b[0m\u001b[0;34m,\u001b[0m\u001b[0;34m\u001b[0m\u001b[0m\n\u001b[0m\u001b[1;32m      9\u001b[0m                     \u001b[0;34m{\u001b[0m\u001b[0;34m\"range\"\u001b[0m\u001b[0;34m:\u001b[0m \u001b[0;34m{\u001b[0m\u001b[0;34m\"block_id\"\u001b[0m\u001b[0;34m:\u001b[0m \u001b[0;34m{\u001b[0m\u001b[0;34m\"lte\"\u001b[0m\u001b[0;34m:\u001b[0m \u001b[0mstart_block\u001b[0m\u001b[0;34m}\u001b[0m\u001b[0;34m}\u001b[0m\u001b[0;34m}\u001b[0m\u001b[0;34m\u001b[0m\u001b[0m\n\u001b[1;32m     10\u001b[0m                 ]\n",
      "\u001b[0;31mNameError\u001b[0m: name 'TOKEN' is not defined"
     ]
    }
   ],
   "source": [
    "def query(addresses, key):\n",
    "    query = {\n",
    "        \"size\": 0,\n",
    "        \"query\": {\n",
    "            \"bool\": {\n",
    "                \"must\": [\n",
    "                    {\"terms\": {\"to.keyword\": addresses}},\n",
    "                    {\"term\": {\"token.keyword\": TOKEN}},\n",
    "                    {\"range\": {\"block_id\": {\"lte\": start_block}}}\n",
    "                ]\n",
    "            }\n",
    "        },\n",
    "        \"aggs\": {\n",
    "            \"drops\": {\n",
    "                \"terms\": {\n",
    "                    \"field\": \"to.keyword\",\n",
    "                    \"size\": len(addresses),\n",
    "                },\n",
    "                \"aggs\": {\n",
    "                    key: {\n",
    "                        \"sum\": {\n",
    "                            \"field\": \"value\"\n",
    "                        }\n",
    "                    }\n",
    "                }\n",
    "            }\n",
    "        }\n",
    "    }\n",
    "    return query\n",
    "\n",
    "add_features(index=\"ethereum-token-transaction\", doc_type=\"tx\", query_lambda=query, key=\"token_income\")"
   ]
  },
  {
   "cell_type": "code",
   "execution_count": null,
   "metadata": {},
   "outputs": [],
   "source": [
    "def query(addresses, key):\n",
    "    query = {\n",
    "        \"size\": 0,\n",
    "        \"query\": {\n",
    "            \"bool\": {\n",
    "                \"must\": [\n",
    "                    {\"terms\": {\"from\": addresses}},\n",
    "                    {\"query_string\": {\"query\": \"!(input:0x)\"}},\n",
    "                    {\"range\": {\"block_id\": {\"lte\": start_block}}}\n",
    "                ]\n",
    "            }\n",
    "        },\n",
    "        \"aggs\": {\n",
    "            \"drops\": {\n",
    "                \"terms\": {\n",
    "                    \"field\": \"from\",\n",
    "                    \"size\": len(addresses),\n",
    "                },\n",
    "                \"aggs\": {\n",
    "                    key: {\n",
    "                        \"cardinality\": {\n",
    "                            \"field\": \"to\"\n",
    "                        }\n",
    "                    }\n",
    "                }\n",
    "            }\n",
    "        }\n",
    "    }\n",
    "    return query\n",
    "\n",
    "add_features(index=\"ethereum-internal-transaction\", doc_type=\"itx\", query_lambda=query, key=\"contract_transactions\")"
   ]
  },
  {
   "cell_type": "code",
   "execution_count": null,
   "metadata": {},
   "outputs": [],
   "source": [
    "def query(addresses, key):\n",
    "    query = {\n",
    "        \"size\": 0,\n",
    "        \"query\": {\n",
    "            \"bool\": {\n",
    "                \"must\": [\n",
    "                    {\"terms\": {\"from\": addresses}},\n",
    "                    {\"terms\": {\"to\": cex_addresses}},\n",
    "                ]\n",
    "            }\n",
    "        },\n",
    "        \"aggs\": {\n",
    "            \"drops\": {\n",
    "                \"terms\": {\n",
    "                    \"field\": \"from\",\n",
    "                    \"size\": len(addresses),\n",
    "                },\n",
    "                \"aggs\": {\n",
    "                    key: {\n",
    "                        \"value_count\": {\n",
    "                            \"field\": \"value\"\n",
    "                        }\n",
    "                    }\n",
    "                }\n",
    "            }\n",
    "        }\n",
    "    }\n",
    "    return query\n",
    "\n",
    "add_features(index=\"ethereum-internal-transaction\", doc_type=\"itx\", query_lambda=query, key=\"exchange_transactions\")"
   ]
  },
  {
   "cell_type": "code",
   "execution_count": null,
   "metadata": {
    "scrolled": false
   },
   "outputs": [],
   "source": [
    "def query(addresses, key):\n",
    "    query = {\n",
    "        \"size\": 0,\n",
    "        \"query\": {\n",
    "            \"bool\": {\n",
    "                \"must\": [\n",
    "                    {\"terms\": {\"to\": addresses}},\n",
    "                    {\"terms\": {\"from\": cex_addresses}},\n",
    "                ]\n",
    "            }\n",
    "        },\n",
    "        \"aggs\": {\n",
    "            \"drops\": {\n",
    "                \"terms\": {\n",
    "                    \"field\": \"to\",\n",
    "                    \"size\": len(addresses),\n",
    "                },\n",
    "                \"aggs\": {\n",
    "                    key: {\n",
    "                        \"value_count\": {\n",
    "                            \"field\": \"value\"\n",
    "                        }\n",
    "                    }\n",
    "                }\n",
    "            }\n",
    "        }\n",
    "    }\n",
    "    return query\n",
    "\n",
    "add_features(index=\"ethereum-internal-transaction\", doc_type=\"itx\", query_lambda=query, key=\"out_exchange_transactions\")"
   ]
  },
  {
   "cell_type": "code",
   "execution_count": null,
   "metadata": {},
   "outputs": [],
   "source": [
    "from sklearn.cluster import KMeans\n",
    "from sklearn.decomposition import PCA"
   ]
  },
  {
   "cell_type": "code",
   "execution_count": null,
   "metadata": {},
   "outputs": [],
   "source": [
    "addresses_df.to_csv(\"addresses_stats2.csv\")"
   ]
  },
  {
   "cell_type": "code",
   "execution_count": 613,
   "metadata": {},
   "outputs": [],
   "source": [
    "addresses_df = pd.read_csv(\"addresses_stats2.csv\").set_index(\"address\")"
   ]
  },
  {
   "cell_type": "code",
   "execution_count": 597,
   "metadata": {},
   "outputs": [],
   "source": [
    "for column in addresses_df.columns:\n",
    "    addresses_df[column] = np.log(addresses_df[column].fillna(0) + 1 + 0.00001 * np.random.randn(addresses_df.shape[0]))"
   ]
  },
  {
   "cell_type": "code",
   "execution_count": 598,
   "metadata": {},
   "outputs": [],
   "source": [
    "kmeans = KMeans(n_clusters=10)\n",
    "clusters = kmeans.fit_predict(addresses_df)"
   ]
  },
  {
   "cell_type": "code",
   "execution_count": 615,
   "metadata": {},
   "outputs": [],
   "source": [
    "addresses_df[\"cluster\"] = clusters"
   ]
  },
  {
   "cell_type": "code",
   "execution_count": 600,
   "metadata": {},
   "outputs": [],
   "source": [
    "pca = PCA(n_components=2)\n",
    "pca_stats = pca.fit_transform(addresses_df)"
   ]
  },
  {
   "cell_type": "code",
   "execution_count": 601,
   "metadata": {},
   "outputs": [],
   "source": [
    "from sklearn.manifold import TSNE\n",
    "# pca_stats = TSNE(n_components=2, verbose=1).fit_transform(addresses_df)"
   ]
  },
  {
   "cell_type": "code",
   "execution_count": 602,
   "metadata": {},
   "outputs": [
    {
     "data": {
      "text/plain": [
       "<matplotlib.legend.Legend at 0x7f4f16cd26a0>"
      ]
     },
     "execution_count": 602,
     "metadata": {},
     "output_type": "execute_result"
    },
    {
     "data": {
      "image/png": "[encoded data removed]",
      "text/plain": [
       "<matplotlib.figure.Figure at 0x7f4f16d29e80>"
      ]
     },
     "metadata": {},
     "output_type": "display_data"
    }
   ],
   "source": [
    "plt.figure(figsize=(20, 20))\n",
    "for cluster in addresses_df[\"cluster\"].unique():\n",
    "    stats = pca_stats[addresses_df[\"cluster\"] == cluster]\n",
    "    plt.scatter(stats.transpose()[0], stats.transpose()[1], label=cluster)\n",
    "plt.legend()"
   ]
  },
  {
   "cell_type": "code",
   "execution_count": 603,
   "metadata": {},
   "outputs": [],
   "source": [
    "clusters = addresses_df[\"cluster\"]"
   ]
  },
  {
   "cell_type": "code",
   "execution_count": 604,
   "metadata": {},
   "outputs": [],
   "source": [
    "addresses_df[\"cluster\"] = clusters"
   ]
  },
  {
   "cell_type": "code",
   "execution_count": 617,
   "metadata": {},
   "outputs": [],
   "source": [
    "cleaned_addresses = addresses_df[~addresses_df.index.isin(cex_addresses + drop_addresses)]"
   ]
  },
  {
   "cell_type": "code",
   "execution_count": 618,
   "metadata": {
    "scrolled": true
   },
   "outputs": [
    {
     "data": {
      "text/html": [
       "<div>\n",
       "<style scoped>\n",
       "    .dataframe tbody tr th:only-of-type {\n",
       "        vertical-align: middle;\n",
       "    }\n",
       "\n",
       "    .dataframe tbody tr th {\n",
       "        vertical-align: top;\n",
       "    }\n",
       "\n",
       "    .dataframe thead th {\n",
       "        text-align: right;\n",
       "    }\n",
       "</style>\n",
       "<table border=\"1\" class=\"dataframe\">\n",
       "  <thead>\n",
       "    <tr style=\"text-align: right;\">\n",
       "      <th></th>\n",
       "      <th>avg_income</th>\n",
       "      <th>avg_outcome</th>\n",
       "      <th>token_income</th>\n",
       "      <th>contract_transactions</th>\n",
       "      <th>exchange_transactions</th>\n",
       "      <th>out_exchange_transactions</th>\n",
       "    </tr>\n",
       "    <tr>\n",
       "      <th>cluster</th>\n",
       "      <th></th>\n",
       "      <th></th>\n",
       "      <th></th>\n",
       "      <th></th>\n",
       "      <th></th>\n",
       "      <th></th>\n",
       "    </tr>\n",
       "  </thead>\n",
       "  <tbody>\n",
       "    <tr>\n",
       "      <th>0</th>\n",
       "      <td>1.522184</td>\n",
       "      <td>0.684226</td>\n",
       "      <td>10714.000000</td>\n",
       "      <td>17.0</td>\n",
       "      <td>26.5</td>\n",
       "      <td>16.0</td>\n",
       "    </tr>\n",
       "    <tr>\n",
       "      <th>1</th>\n",
       "      <td>0.611492</td>\n",
       "      <td>0.325489</td>\n",
       "      <td>107.139999</td>\n",
       "      <td>6.0</td>\n",
       "      <td>2.0</td>\n",
       "      <td>2.0</td>\n",
       "    </tr>\n",
       "    <tr>\n",
       "      <th>2</th>\n",
       "      <td>0.198234</td>\n",
       "      <td>0.138000</td>\n",
       "      <td>NaN</td>\n",
       "      <td>1.0</td>\n",
       "      <td>1.0</td>\n",
       "      <td>1.0</td>\n",
       "    </tr>\n",
       "    <tr>\n",
       "      <th>3</th>\n",
       "      <td>1.935696</td>\n",
       "      <td>1.093373</td>\n",
       "      <td>10714.000000</td>\n",
       "      <td>9.0</td>\n",
       "      <td>3.0</td>\n",
       "      <td>5.0</td>\n",
       "    </tr>\n",
       "    <tr>\n",
       "      <th>4</th>\n",
       "      <td>0.689281</td>\n",
       "      <td>0.319622</td>\n",
       "      <td>NaN</td>\n",
       "      <td>8.0</td>\n",
       "      <td>15.0</td>\n",
       "      <td>7.0</td>\n",
       "    </tr>\n",
       "    <tr>\n",
       "      <th>5</th>\n",
       "      <td>1.003000</td>\n",
       "      <td>0.998150</td>\n",
       "      <td>10714.000000</td>\n",
       "      <td>2.0</td>\n",
       "      <td>2.0</td>\n",
       "      <td>2.0</td>\n",
       "    </tr>\n",
       "    <tr>\n",
       "      <th>6</th>\n",
       "      <td>0.470000</td>\n",
       "      <td>0.423077</td>\n",
       "      <td>NaN</td>\n",
       "      <td>2.0</td>\n",
       "      <td>3.0</td>\n",
       "      <td>3.0</td>\n",
       "    </tr>\n",
       "    <tr>\n",
       "      <th>7</th>\n",
       "      <td>3.368182</td>\n",
       "      <td>2.233333</td>\n",
       "      <td>NaN</td>\n",
       "      <td>3.0</td>\n",
       "      <td>2.0</td>\n",
       "      <td>2.0</td>\n",
       "    </tr>\n",
       "    <tr>\n",
       "      <th>8</th>\n",
       "      <td>1.484388</td>\n",
       "      <td>0.488792</td>\n",
       "      <td>NaN</td>\n",
       "      <td>25.0</td>\n",
       "      <td>79.0</td>\n",
       "      <td>26.0</td>\n",
       "    </tr>\n",
       "    <tr>\n",
       "      <th>9</th>\n",
       "      <td>5.197162</td>\n",
       "      <td>3.055185</td>\n",
       "      <td>NaN</td>\n",
       "      <td>17.0</td>\n",
       "      <td>3.0</td>\n",
       "      <td>8.0</td>\n",
       "    </tr>\n",
       "  </tbody>\n",
       "</table>\n",
       "</div>"
      ],
      "text/plain": [
       "         avg_income  avg_outcome  token_income  contract_transactions  \\\n",
       "cluster                                                                 \n",
       "0          1.522184     0.684226  10714.000000                   17.0   \n",
       "1          0.611492     0.325489    107.139999                    6.0   \n",
       "2          0.198234     0.138000           NaN                    1.0   \n",
       "3          1.935696     1.093373  10714.000000                    9.0   \n",
       "4          0.689281     0.319622           NaN                    8.0   \n",
       "5          1.003000     0.998150  10714.000000                    2.0   \n",
       "6          0.470000     0.423077           NaN                    2.0   \n",
       "7          3.368182     2.233333           NaN                    3.0   \n",
       "8          1.484388     0.488792           NaN                   25.0   \n",
       "9          5.197162     3.055185           NaN                   17.0   \n",
       "\n",
       "         exchange_transactions  out_exchange_transactions  \n",
       "cluster                                                    \n",
       "0                         26.5                       16.0  \n",
       "1                          2.0                        2.0  \n",
       "2                          1.0                        1.0  \n",
       "3                          3.0                        5.0  \n",
       "4                         15.0                        7.0  \n",
       "5                          2.0                        2.0  \n",
       "6                          3.0                        3.0  \n",
       "7                          2.0                        2.0  \n",
       "8                         79.0                       26.0  \n",
       "9                          3.0                        8.0  "
      ]
     },
     "execution_count": 618,
     "metadata": {},
     "output_type": "execute_result"
    }
   ],
   "source": [
    "cleaned_addresses.groupby(\"cluster\").median()"
   ]
  },
  {
   "cell_type": "code",
   "execution_count": 619,
   "metadata": {},
   "outputs": [
    {
     "data": {
      "text/html": [
       "<div>\n",
       "<style scoped>\n",
       "    .dataframe tbody tr th:only-of-type {\n",
       "        vertical-align: middle;\n",
       "    }\n",
       "\n",
       "    .dataframe tbody tr th {\n",
       "        vertical-align: top;\n",
       "    }\n",
       "\n",
       "    .dataframe thead th {\n",
       "        text-align: right;\n",
       "    }\n",
       "</style>\n",
       "<table border=\"1\" class=\"dataframe\">\n",
       "  <thead>\n",
       "    <tr style=\"text-align: right;\">\n",
       "      <th></th>\n",
       "      <th>avg_income</th>\n",
       "      <th>avg_outcome</th>\n",
       "      <th>token_income</th>\n",
       "      <th>contract_transactions</th>\n",
       "      <th>exchange_transactions</th>\n",
       "      <th>out_exchange_transactions</th>\n",
       "    </tr>\n",
       "    <tr>\n",
       "      <th>cluster</th>\n",
       "      <th></th>\n",
       "      <th></th>\n",
       "      <th></th>\n",
       "      <th></th>\n",
       "      <th></th>\n",
       "      <th></th>\n",
       "    </tr>\n",
       "  </thead>\n",
       "  <tbody>\n",
       "    <tr>\n",
       "      <th>0</th>\n",
       "      <td>1.522184</td>\n",
       "      <td>0.684226</td>\n",
       "      <td>10714.000000</td>\n",
       "      <td>17.0</td>\n",
       "      <td>26.5</td>\n",
       "      <td>16.0</td>\n",
       "    </tr>\n",
       "    <tr>\n",
       "      <th>1</th>\n",
       "      <td>0.611492</td>\n",
       "      <td>0.325489</td>\n",
       "      <td>107.139999</td>\n",
       "      <td>6.0</td>\n",
       "      <td>2.0</td>\n",
       "      <td>2.0</td>\n",
       "    </tr>\n",
       "    <tr>\n",
       "      <th>2</th>\n",
       "      <td>0.198234</td>\n",
       "      <td>0.138000</td>\n",
       "      <td>NaN</td>\n",
       "      <td>1.0</td>\n",
       "      <td>1.0</td>\n",
       "      <td>1.0</td>\n",
       "    </tr>\n",
       "    <tr>\n",
       "      <th>3</th>\n",
       "      <td>1.935696</td>\n",
       "      <td>1.093373</td>\n",
       "      <td>10714.000000</td>\n",
       "      <td>9.0</td>\n",
       "      <td>3.0</td>\n",
       "      <td>5.0</td>\n",
       "    </tr>\n",
       "    <tr>\n",
       "      <th>4</th>\n",
       "      <td>0.689281</td>\n",
       "      <td>0.319622</td>\n",
       "      <td>NaN</td>\n",
       "      <td>8.0</td>\n",
       "      <td>15.0</td>\n",
       "      <td>7.0</td>\n",
       "    </tr>\n",
       "    <tr>\n",
       "      <th>5</th>\n",
       "      <td>1.003000</td>\n",
       "      <td>0.998150</td>\n",
       "      <td>10714.000000</td>\n",
       "      <td>2.0</td>\n",
       "      <td>2.0</td>\n",
       "      <td>2.0</td>\n",
       "    </tr>\n",
       "    <tr>\n",
       "      <th>6</th>\n",
       "      <td>0.470000</td>\n",
       "      <td>0.423077</td>\n",
       "      <td>NaN</td>\n",
       "      <td>2.0</td>\n",
       "      <td>3.0</td>\n",
       "      <td>3.0</td>\n",
       "    </tr>\n",
       "    <tr>\n",
       "      <th>7</th>\n",
       "      <td>3.368182</td>\n",
       "      <td>2.233333</td>\n",
       "      <td>NaN</td>\n",
       "      <td>3.0</td>\n",
       "      <td>2.0</td>\n",
       "      <td>2.0</td>\n",
       "    </tr>\n",
       "    <tr>\n",
       "      <th>8</th>\n",
       "      <td>1.484388</td>\n",
       "      <td>0.488792</td>\n",
       "      <td>NaN</td>\n",
       "      <td>25.0</td>\n",
       "      <td>79.0</td>\n",
       "      <td>26.0</td>\n",
       "    </tr>\n",
       "    <tr>\n",
       "      <th>9</th>\n",
       "      <td>5.197162</td>\n",
       "      <td>3.055185</td>\n",
       "      <td>NaN</td>\n",
       "      <td>17.0</td>\n",
       "      <td>3.0</td>\n",
       "      <td>8.0</td>\n",
       "    </tr>\n",
       "  </tbody>\n",
       "</table>\n",
       "</div>"
      ],
      "text/plain": [
       "         avg_income  avg_outcome  token_income  contract_transactions  \\\n",
       "cluster                                                                 \n",
       "0          1.522184     0.684226  10714.000000                   17.0   \n",
       "1          0.611492     0.325489    107.139999                    6.0   \n",
       "2          0.198234     0.138000           NaN                    1.0   \n",
       "3          1.935696     1.093373  10714.000000                    9.0   \n",
       "4          0.689281     0.319622           NaN                    8.0   \n",
       "5          1.003000     0.998150  10714.000000                    2.0   \n",
       "6          0.470000     0.423077           NaN                    2.0   \n",
       "7          3.368182     2.233333           NaN                    3.0   \n",
       "8          1.484388     0.488792           NaN                   25.0   \n",
       "9          5.197162     3.055185           NaN                   17.0   \n",
       "\n",
       "         exchange_transactions  out_exchange_transactions  \n",
       "cluster                                                    \n",
       "0                         26.5                       16.0  \n",
       "1                          2.0                        2.0  \n",
       "2                          1.0                        1.0  \n",
       "3                          3.0                        5.0  \n",
       "4                         15.0                        7.0  \n",
       "5                          2.0                        2.0  \n",
       "6                          3.0                        3.0  \n",
       "7                          2.0                        2.0  \n",
       "8                         79.0                       26.0  \n",
       "9                          3.0                        8.0  "
      ]
     },
     "execution_count": 619,
     "metadata": {},
     "output_type": "execute_result"
    }
   ],
   "source": [
    "cleaned_addresses.groupby(\"cluster\").median()"
   ]
  },
  {
   "cell_type": "code",
   "execution_count": 620,
   "metadata": {
    "scrolled": false
   },
   "outputs": [
    {
     "data": {
      "text/plain": [
       "<matplotlib.axes._subplots.AxesSubplot at 0x7f4f15c9f6a0>"
      ]
     },
     "execution_count": 620,
     "metadata": {},
     "output_type": "execute_result"
    },
    {
     "data": {
      "text/plain": [
       "<matplotlib.figure.Figure at 0x7f4f167baa90>"
      ]
     },
     "metadata": {},
     "output_type": "display_data"
    },
    {
     "data": {
      "image/png": "[encoded data removed]",
      "text/plain": [
       "<matplotlib.figure.Figure at 0x7f4f16cb3cf8>"
      ]
     },
     "metadata": {},
     "output_type": "display_data"
    }
   ],
   "source": [
    "plt.figure()\n",
    "(cleaned_addresses.groupby(\"cluster\").median() / cleaned_addresses.groupby(\"cluster\").median().max(axis=0)).plot(kind=\"bar\", figsize=(20, 10))"
   ]
  },
  {
   "cell_type": "code",
   "execution_count": null,
   "metadata": {},
   "outputs": [],
   "source": []
  },
  {
   "cell_type": "code",
   "execution_count": null,
   "metadata": {},
   "outputs": [],
   "source": []
  }
 ],
 "metadata": {
  "kernelspec": {
   "display_name": "Python 3",
   "language": "python",
   "name": "python3"
  },
  "language_info": {
   "codemirror_mode": {
    "name": "ipython",
    "version": 3
   },
   "file_extension": ".py",
   "mimetype": "text/x-python",
   "name": "python",
   "nbconvert_exporter": "python",
   "pygments_lexer": "ipython3",
   "version": "3.5.2"
  }
 },
 "nbformat": 4,
 "nbformat_minor": 2
}
