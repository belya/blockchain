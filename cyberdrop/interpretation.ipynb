{
 "cells": [
  {
   "cell_type": "code",
   "execution_count": 1,
   "metadata": {},
   "outputs": [],
   "source": [
    "from pyquery import PyQuery as pq\n",
    "import requests\n",
    "from tqdm import tqdm_notebook\n",
    "from tqdm import tqdm_notebook as tqdm\n",
    "from pyelasticsearch import ElasticSearch\n",
    "import pandas as pd\n",
    "from datetime import datetime, timedelta\n",
    "import networkx as nx\n",
    "import matplotlib.pyplot as plt\n",
    "from IPython.display import display, clear_output\n",
    "from time import sleep\n",
    "from matplotlib import animation\n",
    "from matplotlib import gridspec\n",
    "from IPython.display import HTML\n",
    "import json\n",
    "import numpy as np"
   ]
  },
  {
   "cell_type": "markdown",
   "metadata": {},
   "source": [
    "For each token in prepared_airdrops\n",
    "- Find airdrop transactions\n",
    "- Create transactions graph\n",
    "- Find drops and cexs\n",
    "- Find ICO address, if it presents\n",
    "- Find airdrop participants\n",
    "- Get features for them (before and after the airdrop)\n",
    "- Clusterize (do not accumulate features!)"
   ]
  },
  {
   "cell_type": "code",
   "execution_count": 2,
   "metadata": {},
   "outputs": [],
   "source": [
    "client = ElasticSearch(\"http://localhost:9201\")"
   ]
  },
  {
   "cell_type": "code",
   "execution_count": 3,
   "metadata": {},
   "outputs": [],
   "source": [
    "airdrops = json.load(open(\"prepared_airdrops.json\"))"
   ]
  },
  {
   "cell_type": "code",
   "execution_count": 6,
   "metadata": {},
   "outputs": [],
   "source": [
    "NUMBER_OF_JOBS = 1000"
   ]
  },
  {
   "cell_type": "code",
   "execution_count": null,
   "metadata": {},
   "outputs": [],
   "source": [
    "# Snovio"
   ]
  },
  {
   "cell_type": "code",
   "execution_count": 7,
   "metadata": {},
   "outputs": [],
   "source": [
    "  def _count_by_object_or_string_query(client, query, index, doc_type):\n",
    "    \"\"\"\n",
    "    Count objects in ElasticSearch by specified query\n",
    "\n",
    "    Parameters\n",
    "    ----------\n",
    "    query : dict or str\n",
    "        ElasticSearch query\n",
    "    index : str\n",
    "        ElasticSearch index\n",
    "    doc_type : str\n",
    "        Document type\n",
    "\n",
    "    Returns\n",
    "    -------\n",
    "    int\n",
    "        Number of objects in ElasticSearch\n",
    "    \"\"\"\n",
    "    count_body = ''\n",
    "    count_parameters = {}\n",
    "    if type(query) is str:\n",
    "      count_parameters['q'] = query\n",
    "    else:\n",
    "      count_body = {\n",
    "        'query': query\n",
    "      }\n",
    "    return client.send_request('GET', [index, doc_type, '_count'], count_body, count_parameters)\n",
    "\n",
    "  def iterate(client, index, doc_type, query, per=NUMBER_OF_JOBS):\n",
    "    \"\"\"\n",
    "    Iterate through elasticsearch records\n",
    "\n",
    "    Will return a chunk of records each time\n",
    "\n",
    "    Parameters\n",
    "    ----------\n",
    "    index : str\n",
    "        ElasticSearch index\n",
    "    doc_type : str\n",
    "        Document type\n",
    "    query : dict or str\n",
    "        ElasticSearch query\n",
    "    per : int\n",
    "        Max length of chunk\n",
    "\n",
    "    Returns\n",
    "    -------\n",
    "    generator\n",
    "        Generator that returns chunks with records by specified query\n",
    "    \"\"\"\n",
    "    items_count = _count_by_object_or_string_query(client, query, index=index, doc_type=doc_type)['count']\n",
    "    pages = round(items_count / per + 0.4999)\n",
    "    scroll_id = None\n",
    "    for page in tqdm(range(pages)):\n",
    "      if not scroll_id:\n",
    "        pagination_parameters = {'scroll': '60m', 'size': per}\n",
    "        pagination_body = {}\n",
    "        if type(query) is str:\n",
    "          pagination_parameters['q'] = query\n",
    "        else:\n",
    "          pagination_body['query'] = query\n",
    "        response = client.send_request('GET', [index, doc_type, '_search'], pagination_body, pagination_parameters)\n",
    "        scroll_id = response['_scroll_id']\n",
    "        page_items = response['hits']['hits']\n",
    "      else:\n",
    "        page_items = client.send_request('POST', ['_search', 'scroll'], {'scroll': '60m', 'scroll_id': scroll_id}, {})['hits']['hits']\n",
    "      yield page_items"
   ]
  },
  {
   "cell_type": "markdown",
   "metadata": {},
   "source": [
    "- Найти количество транзакций в эластике\n",
    "- Найти узел, с которого началась раздача, для каждого из токенов, + время максимальной активности узла + узлы, которым были сделаны транзакции\n",
    "- Извлечь признаки найденных узлов до времени дропа"
   ]
  },
  {
   "cell_type": "code",
   "execution_count": 6,
   "metadata": {},
   "outputs": [],
   "source": [
    "def find_airdrop_address(contract, start_block):\n",
    "    query = {\n",
    "        \"query\": {\n",
    "            \"bool\": {\n",
    "                \"must\": [\n",
    "                    {\"term\": {\"to\": contract}},\n",
    "                    {\"range\": {\"blockNumber\": {\"gte\": start_block}}}\n",
    "                ]\n",
    "            }\n",
    "        },\n",
    "        \"aggs\": {\n",
    "            \"holders\": {\n",
    "                \"terms\": {\n",
    "                    \"field\": \"from\",\n",
    "                    \"size\": 1000\n",
    "                }\n",
    "            }\n",
    "        }\n",
    "    }\n",
    "    buckets = client.search(index=\"ethereum-internal-transaction\", doc_type=\"itx\", query=query)[\"aggregations\"][\"holders\"][\"buckets\"]\n",
    "    return [(bucket[\"key\"], bucket[\"doc_count\"]) for bucket in buckets]"
   ]
  },
  {
   "cell_type": "code",
   "execution_count": 44,
   "metadata": {},
   "outputs": [],
   "source": [
    "def find_participants(contract, start_block, airdrop):\n",
    "    query = {\n",
    "        \"query\": {\n",
    "            \"bool\": {\n",
    "                \"must\": [\n",
    "                    {\"term\": {\"from.keyword\": airdrop}},\n",
    "                    {\"term\": {\"token.keyword\": contract}},\n",
    "                    {\"range\": {\"block_id\": {\"gte\": start_block}}}\n",
    "                ]\n",
    "            }\n",
    "        },\n",
    "        \"aggs\": {\n",
    "            \"holders\": {\n",
    "                \"terms\": {\n",
    "                    \"field\": \"to.keyword\",\n",
    "                    \"size\": 30000,\n",
    "                    \"order\": {\n",
    "                        \"amount\": \"desc\"\n",
    "                    }\n",
    "                },\n",
    "                \"aggs\": {\n",
    "                    \"amount\": {\n",
    "                        \"sum\": {\n",
    "                            \"field\": \"value\"\n",
    "                        }\n",
    "                    }\n",
    "                }\n",
    "            },\n",
    "        }\n",
    "    }\n",
    "    buckets = client.search(index=\"ethereum-token-transaction\", doc_type=\"tx\", query=query)[\"aggregations\"][\"holders\"][\"buckets\"]\n",
    "    return [(bucket[\"key\"], bucket[\"amount\"][\"value\"]) for bucket in buckets]"
   ]
  },
  {
   "cell_type": "code",
   "execution_count": 94,
   "metadata": {},
   "outputs": [
    {
     "name": "stdout",
     "output_type": "stream",
     "text": [
      "B2BX\n"
     ]
    }
   ],
   "source": [
    "airdrop = airdrops[3]\n",
    "print(airdrop[\"name\"])\n",
    "addresses = find_airdrop_address(airdrop['contract'], airdrop[\"start_block\"])"
   ]
  },
  {
   "cell_type": "code",
   "execution_count": 9,
   "metadata": {},
   "outputs": [],
   "source": [
    "def find_name(address):\n",
    "    document = pq(\"https://etherscan.io/address/{}\".format(address))\n",
    "    return document(\"font[title='NameTag']\").text()"
   ]
  },
  {
   "cell_type": "code",
   "execution_count": 13,
   "metadata": {},
   "outputs": [
    {
     "data": {
      "application/vnd.jupyter.widget-view+json": {
       "model_id": "2885e46bc1134373a54929b24b453f7c",
       "version_major": 2,
       "version_minor": 0
      },
      "text/plain": [
       "HBox(children=(IntProgress(value=0, max=600), HTML(value='')))"
      ]
     },
     "metadata": {},
     "output_type": "display_data"
    },
    {
     "name": "stdout",
     "output_type": "stream",
     "text": [
      "\n"
     ]
    }
   ],
   "source": [
    "names = {}\n",
    "for address, _ in tqdm_notebook(addresses[0:600]):\n",
    "    name = find_name(address)\n",
    "    if name:\n",
    "        names[address] = name"
   ]
  },
  {
   "cell_type": "code",
   "execution_count": 14,
   "metadata": {},
   "outputs": [],
   "source": [
    "# cexs = [\"Binance\", \"Kucoin\", \"Gate.io\", \"IDEX\", \"Coinbene\", \"EtherDelta\", \"Bancor\", \"Okex\", \"Kryptono\", \"Bibox\", \"Cobinhood\", \"Coss.io\", \"Huobi\", \"Bitfinex\", \"HitBTC\", \"Liqui.io\", \"0xProtocol\", \"Coindelta\", \"Yunbi\", \"Mercatox\", \"Bittrex\", \"Tidex\"]\n",
    "cex_addresses = [a for a, n in names.items()]# if not n in [\"Fcoin\", \"Freewallet\", \"TokenStore\"]]"
   ]
  },
  {
   "cell_type": "code",
   "execution_count": 97,
   "metadata": {},
   "outputs": [],
   "source": [
    "addresses_df = pd.DataFrame()"
   ]
  },
  {
   "cell_type": "code",
   "execution_count": 99,
   "metadata": {},
   "outputs": [],
   "source": [
    "addresses_df[\"address\"] = [address for address, _ in addresses]\n",
    "addresses_df[\"transactions\"] = [number for _, number in addresses]"
   ]
  },
  {
   "cell_type": "code",
   "execution_count": 101,
   "metadata": {},
   "outputs": [],
   "source": [
    "# drop_address = addresses_df[~addresses_df[\"address\"].isin(cex_addresses)].iloc[0][\"address\"]\n",
    "drop_address = addresses_df.iloc[0][\"address\"]"
   ]
  },
  {
   "cell_type": "code",
   "execution_count": 102,
   "metadata": {},
   "outputs": [],
   "source": [
    "participants = find_participants(airdrop['contract'], airdrop[\"start_block\"], drop_address)"
   ]
  },
  {
   "cell_type": "code",
   "execution_count": 103,
   "metadata": {
    "scrolled": false
   },
   "outputs": [],
   "source": [
    "participants_df = pd.DataFrame(participants, columns=[\"address\", \"amount_of_given_tokens\"]).set_index(\"address\")"
   ]
  },
  {
   "cell_type": "markdown",
   "metadata": {},
   "source": [
    "# For one airdrop"
   ]
  },
  {
   "cell_type": "code",
   "execution_count": 73,
   "metadata": {},
   "outputs": [],
   "source": [
    "addresses_df = participants_df\n",
    "all_addresses = list(addresses_df.index)\n",
    "start_block = airdrop['start_block']\n",
    "TOKEN = airdrop[\"contract\"]"
   ]
  },
  {
   "cell_type": "code",
   "execution_count": 65,
   "metadata": {},
   "outputs": [],
   "source": [
    "def chunks(l, n):\n",
    "    \"\"\"Yield successive n-sized chunks from l.\"\"\"\n",
    "    for i in range(0, len(l), n):\n",
    "        yield l[i:i + n]\n",
    "\n",
    "def add_features(index, doc_type, query_lambda, key):\n",
    "    result = []\n",
    "    for addresses in tqdm_notebook(list(chunks(all_addresses, 1000))):\n",
    "        query = query_lambda(addresses, key)\n",
    "        result.append(client.search(index=index, doc_type=doc_type, query=query))\n",
    "\n",
    "    results = {b[\"key\"]: b[key][\"value\"] for r in result for b in r[\"aggregations\"][\"drops\"][\"buckets\"]}\n",
    "    for address, value in tqdm_notebook(results.items()):\n",
    "        addresses_df.loc[address, key] = value"
   ]
  },
  {
   "cell_type": "code",
   "execution_count": 70,
   "metadata": {},
   "outputs": [
    {
     "data": {
      "application/vnd.jupyter.widget-view+json": {
       "model_id": "99a30d41f54549aca992d4dce780c17d",
       "version_major": 2,
       "version_minor": 0
      },
      "text/plain": [
       "HBox(children=(IntProgress(value=0, max=30), HTML(value='')))"
      ]
     },
     "metadata": {},
     "output_type": "display_data"
    },
    {
     "data": {
      "application/vnd.jupyter.widget-view+json": {
       "model_id": "f7aab4a9b721432dbe68a99b3f3d8eb0",
       "version_major": 2,
       "version_minor": 0
      },
      "text/plain": [
       "HBox(children=(IntProgress(value=0, max=29766), HTML(value='')))"
      ]
     },
     "metadata": {},
     "output_type": "display_data"
    }
   ],
   "source": [
    "def query(addresses, key):\n",
    "    query = {\n",
    "        \"size\": 0,\n",
    "        \"query\": {\n",
    "            \"bool\": {\n",
    "                \"must\": [\n",
    "                    {\"terms\": {\"to\": addresses}},\n",
    "                    {\"range\": {\"blockNumber\": {\"lte\": start_block}}}\n",
    "                ]\n",
    "            }\n",
    "        },\n",
    "        \"aggs\": {\n",
    "            \"drops\": {\n",
    "                \"terms\": {\n",
    "                    \"field\": \"to\",\n",
    "                    \"size\": len(addresses),\n",
    "                },\n",
    "                \"aggs\": {\n",
    "                    key: {\n",
    "                        \"avg\": {\n",
    "                            \"field\": \"value\"\n",
    "                        }\n",
    "                    }\n",
    "                }\n",
    "            }\n",
    "        }\n",
    "    }\n",
    "    return query\n",
    "\n",
    "add_features(index=\"ethereum-internal-transaction\", doc_type=\"itx\", query_lambda=query, key=\"avg_income\")"
   ]
  },
  {
   "cell_type": "code",
   "execution_count": 71,
   "metadata": {},
   "outputs": [
    {
     "data": {
      "application/vnd.jupyter.widget-view+json": {
       "model_id": "e59a1a18bcb844db88728fc90d1e12e3",
       "version_major": 2,
       "version_minor": 0
      },
      "text/plain": [
       "HBox(children=(IntProgress(value=0, max=30), HTML(value='')))"
      ]
     },
     "metadata": {},
     "output_type": "display_data"
    },
    {
     "data": {
      "application/vnd.jupyter.widget-view+json": {
       "model_id": "3039ec7e145e4a9fa5765799e47696b5",
       "version_major": 2,
       "version_minor": 0
      },
      "text/plain": [
       "HBox(children=(IntProgress(value=0, max=22315), HTML(value='')))"
      ]
     },
     "metadata": {},
     "output_type": "display_data"
    }
   ],
   "source": [
    "def query(addresses, key):\n",
    "    query = {\n",
    "        \"size\": 0,\n",
    "        \"query\": {\n",
    "            \"bool\": {\n",
    "                \"must\": [\n",
    "                    {\"terms\": {\"from\": addresses}},\n",
    "                    {\"range\": {\"blockNumber\": {\"lte\": start_block}}}\n",
    "                ]\n",
    "            }\n",
    "        },\n",
    "        \"aggs\": {\n",
    "            \"drops\": {\n",
    "                \"terms\": {\n",
    "                    \"field\": \"from\",\n",
    "                    \"size\": len(addresses),\n",
    "                },\n",
    "                \"aggs\": {\n",
    "                    key: {\n",
    "                        \"avg\": {\n",
    "                            \"field\": \"value\"\n",
    "                        }\n",
    "                    }\n",
    "                }\n",
    "            }\n",
    "        }\n",
    "    }\n",
    "    return query\n",
    "\n",
    "add_features(index=\"ethereum-internal-transaction\", doc_type=\"itx\", query_lambda=query, key=\"avg_outcome\")"
   ]
  },
  {
   "cell_type": "code",
   "execution_count": 74,
   "metadata": {},
   "outputs": [
    {
     "data": {
      "application/vnd.jupyter.widget-view+json": {
       "model_id": "37893153758248fbb368d3517142e25f",
       "version_major": 2,
       "version_minor": 0
      },
      "text/plain": [
       "HBox(children=(IntProgress(value=0, max=30), HTML(value='')))"
      ]
     },
     "metadata": {},
     "output_type": "display_data"
    },
    {
     "data": {
      "application/vnd.jupyter.widget-view+json": {
       "model_id": "1bfe2768e12a41d9b6bce747fd58f97b",
       "version_major": 2,
       "version_minor": 0
      },
      "text/plain": [
       "HBox(children=(IntProgress(value=0, max=1361), HTML(value='')))"
      ]
     },
     "metadata": {},
     "output_type": "display_data"
    }
   ],
   "source": [
    "def query(addresses, key):\n",
    "    query = {\n",
    "        \"size\": 0,\n",
    "        \"query\": {\n",
    "            \"bool\": {\n",
    "                \"must\": [\n",
    "                    {\"terms\": {\"to.keyword\": addresses}},\n",
    "                    {\"term\": {\"token.keyword\": TOKEN}},\n",
    "                    {\"range\": {\"block_id\": {\"lte\": start_block}}}\n",
    "                ]\n",
    "            }\n",
    "        },\n",
    "        \"aggs\": {\n",
    "            \"drops\": {\n",
    "                \"terms\": {\n",
    "                    \"field\": \"to.keyword\",\n",
    "                    \"size\": len(addresses),\n",
    "                },\n",
    "                \"aggs\": {\n",
    "                    key: {\n",
    "                        \"sum\": {\n",
    "                            \"field\": \"value\"\n",
    "                        }\n",
    "                    }\n",
    "                }\n",
    "            }\n",
    "        }\n",
    "    }\n",
    "    return query\n",
    "\n",
    "add_features(index=\"ethereum-token-transaction\", doc_type=\"tx\", query_lambda=query, key=\"token_income\")"
   ]
  },
  {
   "cell_type": "code",
   "execution_count": 75,
   "metadata": {},
   "outputs": [
    {
     "data": {
      "application/vnd.jupyter.widget-view+json": {
       "model_id": "f9d081b1bb744a45b4bf80bf16384661",
       "version_major": 2,
       "version_minor": 0
      },
      "text/plain": [
       "HBox(children=(IntProgress(value=0, max=30), HTML(value='')))"
      ]
     },
     "metadata": {},
     "output_type": "display_data"
    },
    {
     "data": {
      "application/vnd.jupyter.widget-view+json": {
       "model_id": "66aaa5f93fe34cb780a6448cee4cb0a0",
       "version_major": 2,
       "version_minor": 0
      },
      "text/plain": [
       "HBox(children=(IntProgress(value=0, max=21330), HTML(value='')))"
      ]
     },
     "metadata": {},
     "output_type": "display_data"
    }
   ],
   "source": [
    "def query(addresses, key):\n",
    "    query = {\n",
    "        \"size\": 0,\n",
    "        \"query\": {\n",
    "            \"bool\": {\n",
    "                \"must\": [\n",
    "                    {\"terms\": {\"from\": addresses}},\n",
    "                    {\"query_string\": {\"query\": \"!(input:0x)\"}},\n",
    "                    {\"range\": {\"block_id\": {\"lte\": start_block}}}\n",
    "                ]\n",
    "            }\n",
    "        },\n",
    "        \"aggs\": {\n",
    "            \"drops\": {\n",
    "                \"terms\": {\n",
    "                    \"field\": \"from\",\n",
    "                    \"size\": len(addresses),\n",
    "                },\n",
    "                \"aggs\": {\n",
    "                    key: {\n",
    "                        \"cardinality\": {\n",
    "                            \"field\": \"to\"\n",
    "                        }\n",
    "                    }\n",
    "                }\n",
    "            }\n",
    "        }\n",
    "    }\n",
    "    return query\n",
    "\n",
    "add_features(index=\"ethereum-internal-transaction\", doc_type=\"itx\", query_lambda=query, key=\"contract_transactions\")"
   ]
  },
  {
   "cell_type": "code",
   "execution_count": 76,
   "metadata": {},
   "outputs": [
    {
     "data": {
      "application/vnd.jupyter.widget-view+json": {
       "model_id": "64d5b143ec75463d8a9def0ea47ea9e4",
       "version_major": 2,
       "version_minor": 0
      },
      "text/plain": [
       "HBox(children=(IntProgress(value=0, max=30), HTML(value='')))"
      ]
     },
     "metadata": {},
     "output_type": "display_data"
    },
    {
     "data": {
      "application/vnd.jupyter.widget-view+json": {
       "model_id": "74d44763b30b4b69898db0797d15e3b8",
       "version_major": 2,
       "version_minor": 0
      },
      "text/plain": [
       "HBox(children=(IntProgress(value=0, max=1261), HTML(value='')))"
      ]
     },
     "metadata": {},
     "output_type": "display_data"
    }
   ],
   "source": [
    "def query(addresses, key):\n",
    "    query = {\n",
    "        \"size\": 0,\n",
    "        \"query\": {\n",
    "            \"bool\": {\n",
    "                \"must\": [\n",
    "                    {\"terms\": {\"from\": addresses}},\n",
    "                    {\"terms\": {\"to\": cex_addresses}},\n",
    "                ]\n",
    "            }\n",
    "        },\n",
    "        \"aggs\": {\n",
    "            \"drops\": {\n",
    "                \"terms\": {\n",
    "                    \"field\": \"from\",\n",
    "                    \"size\": len(addresses),\n",
    "                },\n",
    "                \"aggs\": {\n",
    "                    key: {\n",
    "                        \"value_count\": {\n",
    "                            \"field\": \"value\"\n",
    "                        }\n",
    "                    }\n",
    "                }\n",
    "            }\n",
    "        }\n",
    "    }\n",
    "    return query\n",
    "\n",
    "add_features(index=\"ethereum-internal-transaction\", doc_type=\"itx\", query_lambda=query, key=\"exchange_transactions\")"
   ]
  },
  {
   "cell_type": "code",
   "execution_count": 77,
   "metadata": {},
   "outputs": [
    {
     "data": {
      "application/vnd.jupyter.widget-view+json": {
       "model_id": "9a7fa7a6597040d0b9c9ec43b22ba5eb",
       "version_major": 2,
       "version_minor": 0
      },
      "text/plain": [
       "HBox(children=(IntProgress(value=0, max=30), HTML(value='')))"
      ]
     },
     "metadata": {},
     "output_type": "display_data"
    },
    {
     "data": {
      "application/vnd.jupyter.widget-view+json": {
       "model_id": "f75f88d7e6d643d0ba43a465d2beccb5",
       "version_major": 2,
       "version_minor": 0
      },
      "text/plain": [
       "HBox(children=(IntProgress(value=0, max=7710), HTML(value='')))"
      ]
     },
     "metadata": {},
     "output_type": "display_data"
    }
   ],
   "source": [
    "def query(addresses, key):\n",
    "    query = {\n",
    "        \"size\": 0,\n",
    "        \"query\": {\n",
    "            \"bool\": {\n",
    "                \"must\": [\n",
    "                    {\"terms\": {\"to\": addresses}},\n",
    "                    {\"terms\": {\"from\": cex_addresses}},\n",
    "                ]\n",
    "            }\n",
    "        },\n",
    "        \"aggs\": {\n",
    "            \"drops\": {\n",
    "                \"terms\": {\n",
    "                    \"field\": \"to\",\n",
    "                    \"size\": len(addresses),\n",
    "                },\n",
    "                \"aggs\": {\n",
    "                    key: {\n",
    "                        \"value_count\": {\n",
    "                            \"field\": \"value\"\n",
    "                        }\n",
    "                    }\n",
    "                }\n",
    "            }\n",
    "        }\n",
    "    }\n",
    "    return query\n",
    "\n",
    "add_features(index=\"ethereum-internal-transaction\", doc_type=\"itx\", query_lambda=query, key=\"out_exchange_transactions\")"
   ]
  },
  {
   "cell_type": "code",
   "execution_count": 88,
   "metadata": {},
   "outputs": [],
   "source": [
    "addresses_df[\"airdrop\"] = airdrop[\"name\"]"
   ]
  },
  {
   "cell_type": "code",
   "execution_count": 3,
   "metadata": {},
   "outputs": [],
   "source": [
    "from sklearn.cluster import KMeans\n",
    "from sklearn.decomposition import PCA"
   ]
  },
  {
   "cell_type": "code",
   "execution_count": 89,
   "metadata": {},
   "outputs": [],
   "source": [
    "addresses_df.to_csv(\"addresses_stats_OMG.csv\")"
   ]
  },
  {
   "cell_type": "code",
   "execution_count": 85,
   "metadata": {},
   "outputs": [],
   "source": [
    "addresses_df = pd.read_csv(\"addresses_stats_OMG.csv\").set_index(\"address\")"
   ]
  },
  {
   "cell_type": "code",
   "execution_count": 83,
   "metadata": {},
   "outputs": [],
   "source": [
    "for column in addresses_df.columns:\n",
    "    addresses_df[column] = np.log(addresses_df[column].fillna(0) + 1 + 0.00001 * np.random.randn(addresses_df.shape[0]))"
   ]
  },
  {
   "cell_type": "code",
   "execution_count": 84,
   "metadata": {},
   "outputs": [],
   "source": [
    "kmeans = KMeans(n_clusters=10)\n",
    "clusters = kmeans.fit_predict(addresses_df)"
   ]
  },
  {
   "cell_type": "code",
   "execution_count": 86,
   "metadata": {},
   "outputs": [
    {
     "data": {
      "text/html": [
       "<div>\n",
       "<style scoped>\n",
       "    .dataframe tbody tr th:only-of-type {\n",
       "        vertical-align: middle;\n",
       "    }\n",
       "\n",
       "    .dataframe tbody tr th {\n",
       "        vertical-align: top;\n",
       "    }\n",
       "\n",
       "    .dataframe thead th {\n",
       "        text-align: right;\n",
       "    }\n",
       "</style>\n",
       "<table border=\"1\" class=\"dataframe\">\n",
       "  <thead>\n",
       "    <tr style=\"text-align: right;\">\n",
       "      <th></th>\n",
       "      <th>amount_of_given_tokens</th>\n",
       "      <th>avg_income</th>\n",
       "      <th>avg_outcome</th>\n",
       "      <th>token_income</th>\n",
       "      <th>contract_transactions</th>\n",
       "      <th>exchange_transactions</th>\n",
       "      <th>out_exchange_transactions</th>\n",
       "    </tr>\n",
       "    <tr>\n",
       "      <th>cluster</th>\n",
       "      <th></th>\n",
       "      <th></th>\n",
       "      <th></th>\n",
       "      <th></th>\n",
       "      <th></th>\n",
       "      <th></th>\n",
       "      <th></th>\n",
       "    </tr>\n",
       "  </thead>\n",
       "  <tbody>\n",
       "    <tr>\n",
       "      <th>0</th>\n",
       "      <td>188.352615</td>\n",
       "      <td>1775.128204</td>\n",
       "      <td>0.500000</td>\n",
       "      <td>NaN</td>\n",
       "      <td>1.0</td>\n",
       "      <td>3.0</td>\n",
       "      <td>1.0</td>\n",
       "    </tr>\n",
       "    <tr>\n",
       "      <th>1</th>\n",
       "      <td>18.487270</td>\n",
       "      <td>95.789421</td>\n",
       "      <td>82.624999</td>\n",
       "      <td>9.945000</td>\n",
       "      <td>2.0</td>\n",
       "      <td>3.0</td>\n",
       "      <td>2.0</td>\n",
       "    </tr>\n",
       "    <tr>\n",
       "      <th>2</th>\n",
       "      <td>25.211941</td>\n",
       "      <td>169.831955</td>\n",
       "      <td>0.500000</td>\n",
       "      <td>46.351753</td>\n",
       "      <td>1.0</td>\n",
       "      <td>2.0</td>\n",
       "      <td>1.0</td>\n",
       "    </tr>\n",
       "    <tr>\n",
       "      <th>3</th>\n",
       "      <td>21.913651</td>\n",
       "      <td>45.499650</td>\n",
       "      <td>18.649502</td>\n",
       "      <td>1125.854410</td>\n",
       "      <td>7.0</td>\n",
       "      <td>14.0</td>\n",
       "      <td>5.0</td>\n",
       "    </tr>\n",
       "    <tr>\n",
       "      <th>4</th>\n",
       "      <td>80.748283</td>\n",
       "      <td>422.492130</td>\n",
       "      <td>245.574783</td>\n",
       "      <td>18.667320</td>\n",
       "      <td>3.0</td>\n",
       "      <td>5.0</td>\n",
       "      <td>2.0</td>\n",
       "    </tr>\n",
       "    <tr>\n",
       "      <th>5</th>\n",
       "      <td>13.186980</td>\n",
       "      <td>32.545947</td>\n",
       "      <td>13.317857</td>\n",
       "      <td>21.039921</td>\n",
       "      <td>4.0</td>\n",
       "      <td>4.0</td>\n",
       "      <td>2.0</td>\n",
       "    </tr>\n",
       "    <tr>\n",
       "      <th>6</th>\n",
       "      <td>603.514954</td>\n",
       "      <td>3337.689240</td>\n",
       "      <td>1429.994995</td>\n",
       "      <td>1.000000</td>\n",
       "      <td>3.0</td>\n",
       "      <td>12.5</td>\n",
       "      <td>3.0</td>\n",
       "    </tr>\n",
       "    <tr>\n",
       "      <th>7</th>\n",
       "      <td>27.527805</td>\n",
       "      <td>52.890928</td>\n",
       "      <td>37.994986</td>\n",
       "      <td>4.000000</td>\n",
       "      <td>8.0</td>\n",
       "      <td>15.0</td>\n",
       "      <td>10.0</td>\n",
       "    </tr>\n",
       "    <tr>\n",
       "      <th>8</th>\n",
       "      <td>14.920390</td>\n",
       "      <td>2.241852</td>\n",
       "      <td>64.970639</td>\n",
       "      <td>46.945002</td>\n",
       "      <td>2.0</td>\n",
       "      <td>3.0</td>\n",
       "      <td>2.0</td>\n",
       "    </tr>\n",
       "    <tr>\n",
       "      <th>9</th>\n",
       "      <td>11.675320</td>\n",
       "      <td>27.511343</td>\n",
       "      <td>0.578680</td>\n",
       "      <td>32.117240</td>\n",
       "      <td>1.0</td>\n",
       "      <td>7.0</td>\n",
       "      <td>2.0</td>\n",
       "    </tr>\n",
       "  </tbody>\n",
       "</table>\n",
       "</div>"
      ],
      "text/plain": [
       "         amount_of_given_tokens   avg_income  avg_outcome  token_income  \\\n",
       "cluster                                                                   \n",
       "0                    188.352615  1775.128204     0.500000           NaN   \n",
       "1                     18.487270    95.789421    82.624999      9.945000   \n",
       "2                     25.211941   169.831955     0.500000     46.351753   \n",
       "3                     21.913651    45.499650    18.649502   1125.854410   \n",
       "4                     80.748283   422.492130   245.574783     18.667320   \n",
       "5                     13.186980    32.545947    13.317857     21.039921   \n",
       "6                    603.514954  3337.689240  1429.994995      1.000000   \n",
       "7                     27.527805    52.890928    37.994986      4.000000   \n",
       "8                     14.920390     2.241852    64.970639     46.945002   \n",
       "9                     11.675320    27.511343     0.578680     32.117240   \n",
       "\n",
       "         contract_transactions  exchange_transactions  \\\n",
       "cluster                                                 \n",
       "0                          1.0                    3.0   \n",
       "1                          2.0                    3.0   \n",
       "2                          1.0                    2.0   \n",
       "3                          7.0                   14.0   \n",
       "4                          3.0                    5.0   \n",
       "5                          4.0                    4.0   \n",
       "6                          3.0                   12.5   \n",
       "7                          8.0                   15.0   \n",
       "8                          2.0                    3.0   \n",
       "9                          1.0                    7.0   \n",
       "\n",
       "         out_exchange_transactions  \n",
       "cluster                             \n",
       "0                              1.0  \n",
       "1                              2.0  \n",
       "2                              1.0  \n",
       "3                              5.0  \n",
       "4                              2.0  \n",
       "5                              2.0  \n",
       "6                              3.0  \n",
       "7                             10.0  \n",
       "8                              2.0  \n",
       "9                              2.0  "
      ]
     },
     "execution_count": 86,
     "metadata": {},
     "output_type": "execute_result"
    }
   ],
   "source": [
    "addresses_df[\"cluster\"] = clusters\n",
    "addresses_df.groupby(\"cluster\").median()"
   ]
  },
  {
   "cell_type": "markdown",
   "metadata": {},
   "source": [
    "- Найти всех участников дропа\n",
    "- Убрать биржи/дропы\n",
    "- Кластеризовать по признакам (до дропа)\n",
    "    - Средний вход eth\n",
    "    - Средний выход eth\n",
    "    - Количество имеющихся токенов на счете до дропа - (количество уникальных контрактов)\n",
    "    - Количество и объем транзакций ICO (пока не трогать)\n",
    "    - Количество обращений к контрактам (c ненулевым input)\n",
    "    - Количество исходящих транзакций на биржи \n",
    "    - Количество входящих транзакций с бирж\n",
    "- Агрегировать по кластерам\n",
    "- Посмотреть, какие кластеры могут влиять на качество дропа"
   ]
  },
  {
   "cell_type": "markdown",
   "metadata": {},
   "source": [
    "# For each airdrop"
   ]
  },
  {
   "cell_type": "code",
   "execution_count": 90,
   "metadata": {},
   "outputs": [],
   "source": [
    "def avg_income_query(addresses, key):\n",
    "    query = {\n",
    "        \"size\": 0,\n",
    "        \"query\": {\n",
    "            \"bool\": {\n",
    "                \"must\": [\n",
    "                    {\"terms\": {\"to\": addresses}},\n",
    "                    {\"range\": {\"blockNumber\": {\"lte\": start_block}}}\n",
    "                ]\n",
    "            }\n",
    "        },\n",
    "        \"aggs\": {\n",
    "            \"drops\": {\n",
    "                \"terms\": {\n",
    "                    \"field\": \"to\",\n",
    "                    \"size\": len(addresses),\n",
    "                },\n",
    "                \"aggs\": {\n",
    "                    key: {\n",
    "                        \"avg\": {\n",
    "                            \"field\": \"value\"\n",
    "                        }\n",
    "                    }\n",
    "                }\n",
    "            }\n",
    "        }\n",
    "    }\n",
    "    return query\n",
    "\n",
    "def avg_outcome_query(addresses, key):\n",
    "    query = {\n",
    "        \"size\": 0,\n",
    "        \"query\": {\n",
    "            \"bool\": {\n",
    "                \"must\": [\n",
    "                    {\"terms\": {\"from\": addresses}},\n",
    "                    {\"range\": {\"blockNumber\": {\"lte\": start_block}}}\n",
    "                ]\n",
    "            }\n",
    "        },\n",
    "        \"aggs\": {\n",
    "            \"drops\": {\n",
    "                \"terms\": {\n",
    "                    \"field\": \"from\",\n",
    "                    \"size\": len(addresses),\n",
    "                },\n",
    "                \"aggs\": {\n",
    "                    key: {\n",
    "                        \"avg\": {\n",
    "                            \"field\": \"value\"\n",
    "                        }\n",
    "                    }\n",
    "                }\n",
    "            }\n",
    "        }\n",
    "    }\n",
    "    return query\n",
    "\n",
    "def token_income_query(addresses, key):\n",
    "    query = {\n",
    "        \"size\": 0,\n",
    "        \"query\": {\n",
    "            \"bool\": {\n",
    "                \"must\": [\n",
    "                    {\"terms\": {\"to.keyword\": addresses}},\n",
    "                    {\"term\": {\"token.keyword\": TOKEN}},\n",
    "                    {\"range\": {\"block_id\": {\"lte\": start_block}}}\n",
    "                ]\n",
    "            }\n",
    "        },\n",
    "        \"aggs\": {\n",
    "            \"drops\": {\n",
    "                \"terms\": {\n",
    "                    \"field\": \"to.keyword\",\n",
    "                    \"size\": len(addresses),\n",
    "                },\n",
    "                \"aggs\": {\n",
    "                    key: {\n",
    "                        \"sum\": {\n",
    "                            \"field\": \"value\"\n",
    "                        }\n",
    "                    }\n",
    "                }\n",
    "            }\n",
    "        }\n",
    "    }\n",
    "    return query\n",
    "\n",
    "def contract_transactions_query(addresses, key):\n",
    "    query = {\n",
    "        \"size\": 0,\n",
    "        \"query\": {\n",
    "            \"bool\": {\n",
    "                \"must\": [\n",
    "                    {\"terms\": {\"from\": addresses}},\n",
    "                    {\"query_string\": {\"query\": \"!(input:0x)\"}},\n",
    "                    {\"range\": {\"block_id\": {\"lte\": start_block}}}\n",
    "                ]\n",
    "            }\n",
    "        },\n",
    "        \"aggs\": {\n",
    "            \"drops\": {\n",
    "                \"terms\": {\n",
    "                    \"field\": \"from\",\n",
    "                    \"size\": len(addresses),\n",
    "                },\n",
    "                \"aggs\": {\n",
    "                    key: {\n",
    "                        \"cardinality\": {\n",
    "                            \"field\": \"to\"\n",
    "                        }\n",
    "                    }\n",
    "                }\n",
    "            }\n",
    "        }\n",
    "    }\n",
    "    return query\n",
    "\n",
    "def exchange_transactions_query(addresses, key):\n",
    "    query = {\n",
    "        \"size\": 0,\n",
    "        \"query\": {\n",
    "            \"bool\": {\n",
    "                \"must\": [\n",
    "                    {\"terms\": {\"from\": addresses}},\n",
    "                    {\"terms\": {\"to\": cex_addresses}},\n",
    "                ]\n",
    "            }\n",
    "        },\n",
    "        \"aggs\": {\n",
    "            \"drops\": {\n",
    "                \"terms\": {\n",
    "                    \"field\": \"from\",\n",
    "                    \"size\": len(addresses),\n",
    "                },\n",
    "                \"aggs\": {\n",
    "                    key: {\n",
    "                        \"value_count\": {\n",
    "                            \"field\": \"value\"\n",
    "                        }\n",
    "                    }\n",
    "                }\n",
    "            }\n",
    "        }\n",
    "    }\n",
    "    return query\n",
    "\n",
    "def out_exchange_transactions_query(addresses, key):\n",
    "    query = {\n",
    "        \"size\": 0,\n",
    "        \"query\": {\n",
    "            \"bool\": {\n",
    "                \"must\": [\n",
    "                    {\"terms\": {\"to\": addresses}},\n",
    "                    {\"terms\": {\"from\": cex_addresses}},\n",
    "                ]\n",
    "            }\n",
    "        },\n",
    "        \"aggs\": {\n",
    "            \"drops\": {\n",
    "                \"terms\": {\n",
    "                    \"field\": \"to\",\n",
    "                    \"size\": len(addresses),\n",
    "                },\n",
    "                \"aggs\": {\n",
    "                    key: {\n",
    "                        \"value_count\": {\n",
    "                            \"field\": \"value\"\n",
    "                        }\n",
    "                    }\n",
    "                }\n",
    "            }\n",
    "        }\n",
    "    }\n",
    "    return query\n",
    "\n"
   ]
  },
  {
   "cell_type": "code",
   "execution_count": 107,
   "metadata": {},
   "outputs": [
    {
     "data": {
      "text/plain": [
       "{'0x2f5e044ad4adac34c8d8df738fac7743eda1409c': '0x00b35e49de29b61fa3b0ad8d8be308543db89520',\n",
       " '0x5d51fcced3114a8bb5e90cdd0f9d682bcbcc5393': '0xd973fd302064ca47ea211f80caa22894c87f53be',\n",
       " '0x83cee9e086a77e492ee0bb93c2b0437ad6fdeccc': '0x61d40b844ea5b68c9c504fccdb05b68c2d7ae965',\n",
       " '0x9a642d6b3368ddc662ca244badf32cda716005bc': '0xea3e20c0e1e194b91f485cba126d03f8988ad25e',\n",
       " '0xbdc5bac39dbe132b1e030e898ae3830017d7d969': '0x1eeeaffe28d463dcf2c1898d19cf3871e9a17d7c',\n",
       " '0xd26114cd6ee289accf82350c8d8487fedb8a0c07': '0x862cb5b6eeaafb26ebb137e0c3c5d7728800439a',\n",
       " '0xf8e386eda857484f5a12e4b5daa9984e06e73705': '0x72002915559a0b586e8b71349f15679a9e784d22'}"
      ]
     },
     "execution_count": 107,
     "metadata": {},
     "output_type": "execute_result"
    }
   ],
   "source": [
    "drop_addresses"
   ]
  },
  {
   "cell_type": "code",
   "execution_count": null,
   "metadata": {
    "scrolled": false
   },
   "outputs": [],
   "source": [
    "all_addresses_df = []\n",
    "drop_addresses = {}\n",
    "for airdrop in tqdm_notebook(airdrops):\n",
    "    print(airdrop[\"name\"])\n",
    "    addresses = find_airdrop_address(airdrop['contract'], airdrop[\"start_block\"])\n",
    "    names = {}\n",
    "    for address, _ in tqdm_notebook(addresses[0:600]):\n",
    "        name = find_name(address)\n",
    "        if name:\n",
    "            names[address] = name\n",
    "    cex_addresses = [a for a, n in names.items()]\n",
    "    addresses_df = pd.DataFrame()\n",
    "    addresses_df[\"address\"] = [address for address, _ in addresses]\n",
    "    addresses_df[\"transactions\"] = [number for _, number in addresses]\n",
    "    drop_address = addresses_df[~addresses_df[\"address\"].isin(cex_addresses)].iloc[0][\"address\"]\n",
    "    drop_addresses[airdrop[\"contract\"]] = drop_address\n",
    "#     participants = find_participants(airdrop['contract'], airdrop[\"start_block\"], drop_address)\n",
    "#     participants_df = pd.DataFrame(participants, columns=[\"address\", \"amount_of_given_tokens\"]).set_index(\"address\")\n",
    "    \n",
    "#     addresses_df = participants_df\n",
    "#     all_addresses = list(addresses_df.index)\n",
    "#     start_block = airdrop['start_block']\n",
    "#     TOKEN = airdrop[\"contract\"]\n",
    "    \n",
    "#     add_features(index=\"ethereum-internal-transaction\", doc_type=\"itx\", query_lambda=avg_income_query, key=\"avg_income\") \n",
    "#     add_features(index=\"ethereum-internal-transaction\", doc_type=\"itx\", query_lambda=avg_outcome_query, key=\"avg_outcome\")\n",
    "#     add_features(index=\"ethereum-token-transaction\", doc_type=\"tx\", query_lambda=token_income_query, key=\"token_income\")    \n",
    "#     add_features(index=\"ethereum-internal-transaction\", doc_type=\"itx\", query_lambda=contract_transactions_query, key=\"contract_transactions\")\n",
    "#     add_features(index=\"ethereum-internal-transaction\", doc_type=\"itx\", query_lambda=exchange_transactions_query, key=\"exchange_transactions\")    \n",
    "#     add_features(index=\"ethereum-internal-transaction\", doc_type=\"itx\", query_lambda=out_exchange_transactions_query, key=\"out_exchange_transactions\")    \n",
    "    \n",
    "#     all_addresses_df.append(addresses_df)"
   ]
  },
  {
   "cell_type": "markdown",
   "metadata": {},
   "source": [
    "# Prepare all the graphs"
   ]
  },
  {
   "cell_type": "code",
   "execution_count": 118,
   "metadata": {},
   "outputs": [],
   "source": [
    "def prepare_name(name):\n",
    "    return name.lower().replace(\" \", \"_\")"
   ]
  },
  {
   "cell_type": "code",
   "execution_count": 109,
   "metadata": {},
   "outputs": [],
   "source": [
    "def create_graph(window):\n",
    "    drop_addresses = window[window[\"method\"] == \"transferFrom\"].groupby(\"from\").count()[\"to\"].sort_values(ascending=False)\n",
    "    G = nx.DiGraph()\n",
    "    G.add_nodes_from(window[\"to\"].unique())\n",
    "    G.add_edges_from(set([(r[\"from\"], r[\"to\"]) for i, r in window.iterrows()]))\n",
    "    return G"
   ]
  },
  {
   "cell_type": "code",
   "execution_count": 110,
   "metadata": {},
   "outputs": [],
   "source": [
    "def reduce_components(G):\n",
    "    components = sorted(nx.weakly_connected_component_subgraphs(G), key=lambda x: -len(x))\n",
    "    graph = components[0]\n",
    "    for component in components[1:]:\n",
    "        if (len(component.nodes) > 0.5 * len(components[0].nodes)) and (len(component.nodes) > 5):\n",
    "            graph = nx.compose(graph, component)\n",
    "    return graph"
   ]
  },
  {
   "cell_type": "code",
   "execution_count": 111,
   "metadata": {},
   "outputs": [],
   "source": [
    "def reduce_graph(graph, drop_address):\n",
    "    degrees = list(sorted(dict(graph.degree).items(), key=lambda x: x[1]))\n",
    "    for node, degree in tqdm_notebook(degrees):\n",
    "        out_nodes = list(graph.successors(node))\n",
    "        in_nodes = list(graph.predecessors(node)) \n",
    "        if not len(out_nodes):\n",
    "            graph.remove_node(node)\n",
    "        if (len(out_nodes) == 1) and (len(in_nodes) == 1):\n",
    "            out_node = out_nodes[0]\n",
    "            in_node = in_nodes[0]\n",
    "            if in_node == drop_address:\n",
    "                if graph.degree[out_node] == 0:\n",
    "                    graph.remove_node(node)\n",
    "                    graph.remove_node(out_node)\n",
    "                else:\n",
    "                    graph.remove_node(node)            \n",
    "                    try:\n",
    "                        if in_node not in graph.predecessors(out_node):\n",
    "                            graph.add_edge(in_node, out_node)\n",
    "                    except:\n",
    "                        print(\"Exception!\", out_node)"
   ]
  },
  {
   "cell_type": "code",
   "execution_count": null,
   "metadata": {},
   "outputs": [],
   "source": [
    "if airdrop[\"contract\"] not in drop_addresses:\n",
    "    continue\n",
    "\n",
    "BEFORE_BLOCK_GAP = 100000\n",
    "AFTER_BLOCK_GAP = 100000\n",
    "TOKEN = airdrop[\"contract\"]\n",
    "\n",
    "query = {\n",
    "    \"bool\": {\n",
    "        \"must\": [\n",
    "            {\"term\": {\"token.keyword\": TOKEN}},\n",
    "        ]\n",
    "    }\n",
    "}\n",
    "\n",
    "transactions = []\n",
    "for t in iterate(client, index=\"ethereum-token-transaction\", doc_type=\"tx\", query=query):\n",
    "    transactions += t\n",
    "transactions_df = pd.DataFrame([t[\"_source\"] for t in transactions])\n",
    "\n",
    "new_transactions = transactions_df[(transactions_df[\"block_id\"] > start_block - BEFORE_BLOCK_GAP) & (transactions_df[\"block_id\"] < start_block + AFTER_BLOCK_GAP)]\n",
    "\n",
    "window = new_transactions.sort_values(\"block_id\")\n",
    "\n",
    "drop_address = drop_addresses[airdrop[\"contract\"]]\n",
    "graph = create_graph(window)\n",
    "reduce_graph(graph, drop_address)\n",
    "\n",
    "a = [{\"address\": n} for n in graph]\n",
    "t = [{\"from\": a, \"to\": b} for a, b in tqdm_notebook(graph.edges)]\n",
    "prices = airdrop[\"prices\"]\n",
    "airdrop_json = {\n",
    "    \"name\": airdrop[\"name\"],\n",
    "    \"success\": airdrop[\"class\"],\n",
    "    \"addresses\": a,\n",
    "    \"transactions\": t,\n",
    "    \"prices\": prices\n",
    "}\n",
    "json.dump(airdrop_json, open(\"graph/airdrops/{}_airdrop.json\".format(prepare_name(airdrop[\"name\"])), \"w\"))\n",
    "\n",
    "print(airdrop[\"name\"])\n",
    "print(len(a))"
   ]
  },
  {
   "cell_type": "code",
   "execution_count": 120,
   "metadata": {},
   "outputs": [
    {
     "data": {
      "application/vnd.jupyter.widget-view+json": {
       "model_id": "4032f40d829845189dbeb209ccdde50e",
       "version_major": 2,
       "version_minor": 0
      },
      "text/plain": [
       "HBox(children=(IntProgress(value=0, max=17), HTML(value='')))"
      ]
     },
     "metadata": {},
     "output_type": "display_data"
    },
    {
     "data": {
      "application/vnd.jupyter.widget-view+json": {
       "model_id": "a450aa6e170241d0ac9fb103cee48377",
       "version_major": 2,
       "version_minor": 0
      },
      "text/plain": [
       "HBox(children=(IntProgress(value=0, max=1), HTML(value='')))"
      ]
     },
     "metadata": {},
     "output_type": "display_data"
    },
    {
     "data": {
      "application/vnd.jupyter.widget-view+json": {
       "model_id": "61e4fa0a7eca4704a05d2bc3fa9baa47",
       "version_major": 2,
       "version_minor": 0
      },
      "text/plain": [
       "HBox(children=(IntProgress(value=0, max=3), HTML(value='')))"
      ]
     },
     "metadata": {},
     "output_type": "display_data"
    },
    {
     "data": {
      "application/vnd.jupyter.widget-view+json": {
       "model_id": "53c9bb6c36c74b9893857a2419047077",
       "version_major": 2,
       "version_minor": 0
      },
      "text/plain": [
       "HBox(children=(IntProgress(value=1, bar_style='info', max=1), HTML(value='')))"
      ]
     },
     "metadata": {},
     "output_type": "display_data"
    },
    {
     "name": "stdout",
     "output_type": "stream",
     "text": [
      "Agora Exclusive Airdrop\n",
      "2\n"
     ]
    },
    {
     "data": {
      "application/vnd.jupyter.widget-view+json": {
       "model_id": "a11a684b198d441691738855930c8038",
       "version_major": 2,
       "version_minor": 0
      },
      "text/plain": [
       "HBox(children=(IntProgress(value=0, max=343), HTML(value='')))"
      ]
     },
     "metadata": {},
     "output_type": "display_data"
    },
    {
     "data": {
      "application/vnd.jupyter.widget-view+json": {
       "model_id": "9b6802d38127471999d48d24e2ebeb18",
       "version_major": 2,
       "version_minor": 0
      },
      "text/plain": [
       "HBox(children=(IntProgress(value=0, max=743), HTML(value='')))"
      ]
     },
     "metadata": {},
     "output_type": "display_data"
    },
    {
     "data": {
      "application/vnd.jupyter.widget-view+json": {
       "model_id": "661596feec694019a2ec8b3348c2b7d1",
       "version_major": 2,
       "version_minor": 0
      },
      "text/plain": [
       "HBox(children=(IntProgress(value=0, max=245), HTML(value='')))"
      ]
     },
     "metadata": {},
     "output_type": "display_data"
    },
    {
     "name": "stdout",
     "output_type": "stream",
     "text": [
      "Qtum \n",
      "588\n"
     ]
    },
    {
     "data": {
      "application/vnd.jupyter.widget-view+json": {
       "model_id": "162b5e14fbe74f1894f09c39c751f608",
       "version_major": 2,
       "version_minor": 0
      },
      "text/plain": [
       "HBox(children=(IntProgress(value=0, max=1885), HTML(value='')))"
      ]
     },
     "metadata": {},
     "output_type": "display_data"
    },
    {
     "data": {
      "application/vnd.jupyter.widget-view+json": {
       "model_id": "e671ee6940a4454e8a09fc78015d316c",
       "version_major": 2,
       "version_minor": 0
      },
      "text/plain": [
       "HBox(children=(IntProgress(value=0, max=63145), HTML(value='')))"
      ]
     },
     "metadata": {},
     "output_type": "display_data"
    },
    {
     "data": {
      "application/vnd.jupyter.widget-view+json": {
       "model_id": "3dd569cd60bc4065854d3f8a6848e730",
       "version_major": 2,
       "version_minor": 0
      },
      "text/plain": [
       "HBox(children=(IntProgress(value=0, max=57527), HTML(value='')))"
      ]
     },
     "metadata": {},
     "output_type": "display_data"
    },
    {
     "name": "stdout",
     "output_type": "stream",
     "text": [
      "OmiseGo\n",
      "41077\n"
     ]
    },
    {
     "data": {
      "application/vnd.jupyter.widget-view+json": {
       "model_id": "35c12094c5d640cdaeb289cd1724cf91",
       "version_major": 2,
       "version_minor": 0
      },
      "text/plain": [
       "HBox(children=(IntProgress(value=0, max=25), HTML(value='')))"
      ]
     },
     "metadata": {},
     "output_type": "display_data"
    },
    {
     "data": {
      "application/vnd.jupyter.widget-view+json": {
       "model_id": "69e65f27d1ee42ae97f21c1ac7786973",
       "version_major": 2,
       "version_minor": 0
      },
      "text/plain": [
       "HBox(children=(IntProgress(value=0, max=1329), HTML(value='')))"
      ]
     },
     "metadata": {},
     "output_type": "display_data"
    },
    {
     "data": {
      "application/vnd.jupyter.widget-view+json": {
       "model_id": "6dc635b886764bf29895c4436e5020f6",
       "version_major": 2,
       "version_minor": 0
      },
      "text/plain": [
       "HBox(children=(IntProgress(value=0, max=408), HTML(value='')))"
      ]
     },
     "metadata": {},
     "output_type": "display_data"
    },
    {
     "name": "stdout",
     "output_type": "stream",
     "text": [
      "B2BX\n",
      "279\n"
     ]
    },
    {
     "data": {
      "application/vnd.jupyter.widget-view+json": {
       "model_id": "551d59910b7a43feb28bd2265eb0f6fa",
       "version_major": 2,
       "version_minor": 0
      },
      "text/plain": [
       "HBox(children=(IntProgress(value=0, max=9), HTML(value='')))"
      ]
     },
     "metadata": {},
     "output_type": "display_data"
    },
    {
     "data": {
      "application/vnd.jupyter.widget-view+json": {
       "model_id": "d4e14a59c42d4e309454b736fc02ffe1",
       "version_major": 2,
       "version_minor": 0
      },
      "text/plain": [
       "HBox(children=(IntProgress(value=0, max=371), HTML(value='')))"
      ]
     },
     "metadata": {},
     "output_type": "display_data"
    },
    {
     "data": {
      "application/vnd.jupyter.widget-view+json": {
       "model_id": "b563087868b34df483c0680f51613d56",
       "version_major": 2,
       "version_minor": 0
      },
      "text/plain": [
       "HBox(children=(IntProgress(value=0, max=383), HTML(value='')))"
      ]
     },
     "metadata": {},
     "output_type": "display_data"
    },
    {
     "name": "stdout",
     "output_type": "stream",
     "text": [
      "Goldmint\n",
      "261\n"
     ]
    },
    {
     "data": {
      "application/vnd.jupyter.widget-view+json": {
       "model_id": "c7e26fc5625a4e1280275a08300051f1",
       "version_major": 2,
       "version_minor": 0
      },
      "text/plain": [
       "HBox(children=(IntProgress(value=0, max=1), HTML(value='')))"
      ]
     },
     "metadata": {},
     "output_type": "display_data"
    },
    {
     "name": "stdout",
     "output_type": "stream",
     "text": [
      "Indorse\n"
     ]
    },
    {
     "data": {
      "application/vnd.jupyter.widget-view+json": {
       "model_id": "377c9ff63c74435dbff9be7d7d19c472",
       "version_major": 2,
       "version_minor": 0
      },
      "text/plain": [
       "HBox(children=(IntProgress(value=0, max=30), HTML(value='')))"
      ]
     },
     "metadata": {},
     "output_type": "display_data"
    },
    {
     "data": {
      "application/vnd.jupyter.widget-view+json": {
       "model_id": "b17f9795020441e8957899cc953574e4",
       "version_major": 2,
       "version_minor": 0
      },
      "text/plain": [
       "HBox(children=(IntProgress(value=0, max=1268), HTML(value='')))"
      ]
     },
     "metadata": {},
     "output_type": "display_data"
    },
    {
     "data": {
      "application/vnd.jupyter.widget-view+json": {
       "model_id": "53b8d0eb9e244d968f0c018272d092e8",
       "version_major": 2,
       "version_minor": 0
      },
      "text/plain": [
       "HBox(children=(IntProgress(value=0, max=198), HTML(value='')))"
      ]
     },
     "metadata": {},
     "output_type": "display_data"
    },
    {
     "name": "stdout",
     "output_type": "stream",
     "text": [
      "Snovio\n",
      "358\n"
     ]
    }
   ],
   "source": [
    "for airdrop in tqdm_notebook([]):\n",
    "    try:\n",
    "        if airdrop[\"contract\"] not in drop_addresses:\n",
    "            continue\n",
    "\n",
    "        BEFORE_BLOCK_GAP = 100000\n",
    "        AFTER_BLOCK_GAP = 100000\n",
    "        TOKEN = airdrop[\"contract\"]\n",
    "\n",
    "        query = {\n",
    "            \"bool\": {\n",
    "                \"must\": [\n",
    "                    {\"term\": {\"token.keyword\": TOKEN}},\n",
    "                ]\n",
    "            }\n",
    "        }\n",
    "\n",
    "        transactions = []\n",
    "        for t in iterate(client, index=\"ethereum-token-transaction\", doc_type=\"tx\", query=query):\n",
    "            transactions += t\n",
    "        transactions_df = pd.DataFrame([t[\"_source\"] for t in transactions])\n",
    "\n",
    "        new_transactions = transactions_df[(transactions_df[\"block_id\"] > start_block - BEFORE_BLOCK_GAP) & (transactions_df[\"block_id\"] < start_block + AFTER_BLOCK_GAP)]\n",
    "\n",
    "        window = new_transactions.sort_values(\"block_id\")\n",
    "\n",
    "        drop_address = drop_addresses[airdrop[\"contract\"]]\n",
    "        graph = create_graph(window)\n",
    "        reduce_graph(graph, drop_address)\n",
    "\n",
    "        a = [{\"address\": n} for n in graph]\n",
    "        t = [{\"from\": a, \"to\": b} for a, b in tqdm_notebook(graph.edges)]\n",
    "        prices = airdrop[\"prices\"]\n",
    "        airdrop_json = {\n",
    "            \"name\": airdrop[\"name\"],\n",
    "            \"success\": airdrop[\"class\"],\n",
    "            \"addresses\": a,\n",
    "            \"transactions\": t,\n",
    "            \"prices\": prices\n",
    "        }\n",
    "        json.dump(airdrop_json, open(\"graph/airdrops/{}_airdrop.json\".format(prepare_name(airdrop[\"name\"])), \"w\"))\n",
    "\n",
    "        print(airdrop[\"name\"])\n",
    "        print(len(a))\n",
    "    except:\n",
    "        print(airdrop[\"name\"])"
   ]
  },
  {
   "cell_type": "markdown",
   "metadata": {},
   "source": [
    "TEST TRANSACTIONS"
   ]
  },
  {
   "cell_type": "code",
   "execution_count": null,
   "metadata": {},
   "outputs": [],
   "source": [
    "TOKEN = \"0xf3e014fe81267870624132ef3a646b8e83853a96\""
   ]
  },
  {
   "cell_type": "code",
   "execution_count": 9,
   "metadata": {},
   "outputs": [
    {
     "data": {
      "application/vnd.jupyter.widget-view+json": {
       "model_id": "27771cac45f04923a1b2130c0785abdf",
       "version_major": 2,
       "version_minor": 0
      },
      "text/plain": [
       "HBox(children=(IntProgress(value=0, max=579), HTML(value='')))"
      ]
     },
     "metadata": {},
     "output_type": "display_data"
    },
    {
     "ename": "KeyboardInterrupt",
     "evalue": "",
     "output_type": "error",
     "traceback": [
      "\u001b[0;31m---------------------------------------------------------------------------\u001b[0m",
      "\u001b[0;31mTypeError\u001b[0m                                 Traceback (most recent call last)",
      "\u001b[0;32m~/.local/lib/python3.5/site-packages/urllib3/connectionpool.py\u001b[0m in \u001b[0;36m_make_request\u001b[0;34m(self, conn, method, url, timeout, chunked, **httplib_request_kw)\u001b[0m\n\u001b[1;32m    376\u001b[0m             \u001b[0;32mtry\u001b[0m\u001b[0;34m:\u001b[0m  \u001b[0;31m# Python 2.7, use buffering of HTTP responses\u001b[0m\u001b[0;34m\u001b[0m\u001b[0m\n\u001b[0;32m--> 377\u001b[0;31m                 \u001b[0mhttplib_response\u001b[0m \u001b[0;34m=\u001b[0m \u001b[0mconn\u001b[0m\u001b[0;34m.\u001b[0m\u001b[0mgetresponse\u001b[0m\u001b[0;34m(\u001b[0m\u001b[0mbuffering\u001b[0m\u001b[0;34m=\u001b[0m\u001b[0;32mTrue\u001b[0m\u001b[0;34m)\u001b[0m\u001b[0;34m\u001b[0m\u001b[0m\n\u001b[0m\u001b[1;32m    378\u001b[0m             \u001b[0;32mexcept\u001b[0m \u001b[0mTypeError\u001b[0m\u001b[0;34m:\u001b[0m  \u001b[0;31m# Python 2.6 and older, Python 3\u001b[0m\u001b[0;34m\u001b[0m\u001b[0m\n",
      "\u001b[0;31mTypeError\u001b[0m: getresponse() got an unexpected keyword argument 'buffering'",
      "\nDuring handling of the above exception, another exception occurred:\n",
      "\u001b[0;31mKeyboardInterrupt\u001b[0m                         Traceback (most recent call last)",
      "\u001b[0;32m<ipython-input-9-f50f47626deb>\u001b[0m in \u001b[0;36m<module>\u001b[0;34m()\u001b[0m\n\u001b[1;32m      8\u001b[0m \u001b[0;34m\u001b[0m\u001b[0m\n\u001b[1;32m      9\u001b[0m \u001b[0mtransactions\u001b[0m \u001b[0;34m=\u001b[0m \u001b[0;34m[\u001b[0m\u001b[0;34m]\u001b[0m\u001b[0;34m\u001b[0m\u001b[0m\n\u001b[0;32m---> 10\u001b[0;31m \u001b[0;32mfor\u001b[0m \u001b[0mt\u001b[0m \u001b[0;32min\u001b[0m \u001b[0miterate\u001b[0m\u001b[0;34m(\u001b[0m\u001b[0mclient\u001b[0m\u001b[0;34m,\u001b[0m \u001b[0mindex\u001b[0m\u001b[0;34m=\u001b[0m\u001b[0;34m\"ethereum-internal-transaction\"\u001b[0m\u001b[0;34m,\u001b[0m \u001b[0mdoc_type\u001b[0m\u001b[0;34m=\u001b[0m\u001b[0;34m\"itx\"\u001b[0m\u001b[0;34m,\u001b[0m \u001b[0mquery\u001b[0m\u001b[0;34m=\u001b[0m\u001b[0mquery\u001b[0m\u001b[0;34m)\u001b[0m\u001b[0;34m:\u001b[0m\u001b[0;34m\u001b[0m\u001b[0m\n\u001b[0m\u001b[1;32m     11\u001b[0m     \u001b[0mtransactions\u001b[0m \u001b[0;34m+=\u001b[0m \u001b[0mt\u001b[0m\u001b[0;34m\u001b[0m\u001b[0m\n\u001b[1;32m     12\u001b[0m \u001b[0mtransactions_df\u001b[0m \u001b[0;34m=\u001b[0m \u001b[0mpd\u001b[0m\u001b[0;34m.\u001b[0m\u001b[0mDataFrame\u001b[0m\u001b[0;34m(\u001b[0m\u001b[0;34m[\u001b[0m\u001b[0mt\u001b[0m\u001b[0;34m[\u001b[0m\u001b[0;34m\"_source\"\u001b[0m\u001b[0;34m]\u001b[0m \u001b[0;32mfor\u001b[0m \u001b[0mt\u001b[0m \u001b[0;32min\u001b[0m \u001b[0mtransactions\u001b[0m\u001b[0;34m]\u001b[0m\u001b[0;34m)\u001b[0m\u001b[0;34m\u001b[0m\u001b[0m\n",
      "\u001b[0;32m<ipython-input-7-1f6f3bf9fbe2>\u001b[0m in \u001b[0;36miterate\u001b[0;34m(client, index, doc_type, query, per)\u001b[0m\n\u001b[1;32m     64\u001b[0m       \u001b[0mpage_items\u001b[0m \u001b[0;34m=\u001b[0m \u001b[0mresponse\u001b[0m\u001b[0;34m[\u001b[0m\u001b[0;34m'hits'\u001b[0m\u001b[0;34m]\u001b[0m\u001b[0;34m[\u001b[0m\u001b[0;34m'hits'\u001b[0m\u001b[0;34m]\u001b[0m\u001b[0;34m\u001b[0m\u001b[0m\n\u001b[1;32m     65\u001b[0m     \u001b[0;32melse\u001b[0m\u001b[0;34m:\u001b[0m\u001b[0;34m\u001b[0m\u001b[0m\n\u001b[0;32m---> 66\u001b[0;31m       \u001b[0mpage_items\u001b[0m \u001b[0;34m=\u001b[0m \u001b[0mclient\u001b[0m\u001b[0;34m.\u001b[0m\u001b[0msend_request\u001b[0m\u001b[0;34m(\u001b[0m\u001b[0;34m'POST'\u001b[0m\u001b[0;34m,\u001b[0m \u001b[0;34m[\u001b[0m\u001b[0;34m'_search'\u001b[0m\u001b[0;34m,\u001b[0m \u001b[0;34m'scroll'\u001b[0m\u001b[0;34m]\u001b[0m\u001b[0;34m,\u001b[0m \u001b[0;34m{\u001b[0m\u001b[0;34m'scroll'\u001b[0m\u001b[0;34m:\u001b[0m \u001b[0;34m'60m'\u001b[0m\u001b[0;34m,\u001b[0m \u001b[0;34m'scroll_id'\u001b[0m\u001b[0;34m:\u001b[0m \u001b[0mscroll_id\u001b[0m\u001b[0;34m}\u001b[0m\u001b[0;34m,\u001b[0m \u001b[0;34m{\u001b[0m\u001b[0;34m}\u001b[0m\u001b[0;34m)\u001b[0m\u001b[0;34m[\u001b[0m\u001b[0;34m'hits'\u001b[0m\u001b[0;34m]\u001b[0m\u001b[0;34m[\u001b[0m\u001b[0;34m'hits'\u001b[0m\u001b[0;34m]\u001b[0m\u001b[0;34m\u001b[0m\u001b[0m\n\u001b[0m\u001b[1;32m     67\u001b[0m     \u001b[0;32myield\u001b[0m \u001b[0mpage_items\u001b[0m\u001b[0;34m\u001b[0m\u001b[0m\n",
      "\u001b[0;32m/usr/local/lib/python3.5/dist-packages/pyelasticsearch/client.py\u001b[0m in \u001b[0;36msend_request\u001b[0;34m(self, method, path_components, body, query_params)\u001b[0m\n\u001b[1;32m    246\u001b[0m                 params=dict((k, self._utf8(self._to_query(v)))\n\u001b[1;32m    247\u001b[0m                             for k, v in iteritems(query_params)),\n\u001b[0;32m--> 248\u001b[0;31m                 body=body)\n\u001b[0m\u001b[1;32m    249\u001b[0m         \u001b[0;32mexcept\u001b[0m \u001b[0mSerializationError\u001b[0m \u001b[0;32mas\u001b[0m \u001b[0mexc\u001b[0m\u001b[0;34m:\u001b[0m\u001b[0;34m\u001b[0m\u001b[0m\n\u001b[1;32m    250\u001b[0m             \u001b[0;32mraise\u001b[0m \u001b[0mInvalidJsonResponseError\u001b[0m\u001b[0;34m(\u001b[0m\u001b[0mexc\u001b[0m\u001b[0;34m.\u001b[0m\u001b[0margs\u001b[0m\u001b[0;34m[\u001b[0m\u001b[0;36m0\u001b[0m\u001b[0;34m]\u001b[0m\u001b[0;34m)\u001b[0m\u001b[0;34m\u001b[0m\u001b[0m\n",
      "\u001b[0;32m/usr/local/lib/python3.5/dist-packages/elasticsearch/transport.py\u001b[0m in \u001b[0;36mperform_request\u001b[0;34m(self, method, url, params, body)\u001b[0m\n\u001b[1;32m    305\u001b[0m \u001b[0;34m\u001b[0m\u001b[0m\n\u001b[1;32m    306\u001b[0m             \u001b[0;32mtry\u001b[0m\u001b[0;34m:\u001b[0m\u001b[0;34m\u001b[0m\u001b[0m\n\u001b[0;32m--> 307\u001b[0;31m                 \u001b[0mstatus\u001b[0m\u001b[0;34m,\u001b[0m \u001b[0mheaders\u001b[0m\u001b[0;34m,\u001b[0m \u001b[0mdata\u001b[0m \u001b[0;34m=\u001b[0m \u001b[0mconnection\u001b[0m\u001b[0;34m.\u001b[0m\u001b[0mperform_request\u001b[0m\u001b[0;34m(\u001b[0m\u001b[0mmethod\u001b[0m\u001b[0;34m,\u001b[0m \u001b[0murl\u001b[0m\u001b[0;34m,\u001b[0m \u001b[0mparams\u001b[0m\u001b[0;34m,\u001b[0m \u001b[0mbody\u001b[0m\u001b[0;34m,\u001b[0m \u001b[0mignore\u001b[0m\u001b[0;34m=\u001b[0m\u001b[0mignore\u001b[0m\u001b[0;34m,\u001b[0m \u001b[0mtimeout\u001b[0m\u001b[0;34m=\u001b[0m\u001b[0mtimeout\u001b[0m\u001b[0;34m)\u001b[0m\u001b[0;34m\u001b[0m\u001b[0m\n\u001b[0m\u001b[1;32m    308\u001b[0m \u001b[0;34m\u001b[0m\u001b[0m\n\u001b[1;32m    309\u001b[0m             \u001b[0;32mexcept\u001b[0m \u001b[0mTransportError\u001b[0m \u001b[0;32mas\u001b[0m \u001b[0me\u001b[0m\u001b[0;34m:\u001b[0m\u001b[0;34m\u001b[0m\u001b[0m\n",
      "\u001b[0;32m/usr/local/lib/python3.5/dist-packages/elasticsearch/connection/http_urllib3.py\u001b[0m in \u001b[0;36mperform_request\u001b[0;34m(self, method, url, params, body, timeout, ignore)\u001b[0m\n\u001b[1;32m     76\u001b[0m                 \u001b[0mmethod\u001b[0m \u001b[0;34m=\u001b[0m \u001b[0mmethod\u001b[0m\u001b[0;34m.\u001b[0m\u001b[0mencode\u001b[0m\u001b[0;34m(\u001b[0m\u001b[0;34m'utf-8'\u001b[0m\u001b[0;34m)\u001b[0m\u001b[0;34m\u001b[0m\u001b[0m\n\u001b[1;32m     77\u001b[0m \u001b[0;34m\u001b[0m\u001b[0m\n\u001b[0;32m---> 78\u001b[0;31m             \u001b[0mresponse\u001b[0m \u001b[0;34m=\u001b[0m \u001b[0mself\u001b[0m\u001b[0;34m.\u001b[0m\u001b[0mpool\u001b[0m\u001b[0;34m.\u001b[0m\u001b[0murlopen\u001b[0m\u001b[0;34m(\u001b[0m\u001b[0mmethod\u001b[0m\u001b[0;34m,\u001b[0m \u001b[0murl\u001b[0m\u001b[0;34m,\u001b[0m \u001b[0mbody\u001b[0m\u001b[0;34m,\u001b[0m \u001b[0mretries\u001b[0m\u001b[0;34m=\u001b[0m\u001b[0;32mFalse\u001b[0m\u001b[0;34m,\u001b[0m \u001b[0mheaders\u001b[0m\u001b[0;34m=\u001b[0m\u001b[0mself\u001b[0m\u001b[0;34m.\u001b[0m\u001b[0mheaders\u001b[0m\u001b[0;34m,\u001b[0m \u001b[0;34m**\u001b[0m\u001b[0mkw\u001b[0m\u001b[0;34m)\u001b[0m\u001b[0;34m\u001b[0m\u001b[0m\n\u001b[0m\u001b[1;32m     79\u001b[0m             \u001b[0mduration\u001b[0m \u001b[0;34m=\u001b[0m \u001b[0mtime\u001b[0m\u001b[0;34m.\u001b[0m\u001b[0mtime\u001b[0m\u001b[0;34m(\u001b[0m\u001b[0;34m)\u001b[0m \u001b[0;34m-\u001b[0m \u001b[0mstart\u001b[0m\u001b[0;34m\u001b[0m\u001b[0m\n\u001b[1;32m     80\u001b[0m             \u001b[0mraw_data\u001b[0m \u001b[0;34m=\u001b[0m \u001b[0mresponse\u001b[0m\u001b[0;34m.\u001b[0m\u001b[0mdata\u001b[0m\u001b[0;34m.\u001b[0m\u001b[0mdecode\u001b[0m\u001b[0;34m(\u001b[0m\u001b[0;34m'utf-8'\u001b[0m\u001b[0;34m)\u001b[0m\u001b[0;34m\u001b[0m\u001b[0m\n",
      "\u001b[0;32m~/.local/lib/python3.5/site-packages/urllib3/connectionpool.py\u001b[0m in \u001b[0;36murlopen\u001b[0;34m(self, method, url, body, headers, retries, redirect, assert_same_host, timeout, pool_timeout, release_conn, chunked, body_pos, **response_kw)\u001b[0m\n\u001b[1;32m    598\u001b[0m                                                   \u001b[0mtimeout\u001b[0m\u001b[0;34m=\u001b[0m\u001b[0mtimeout_obj\u001b[0m\u001b[0;34m,\u001b[0m\u001b[0;34m\u001b[0m\u001b[0m\n\u001b[1;32m    599\u001b[0m                                                   \u001b[0mbody\u001b[0m\u001b[0;34m=\u001b[0m\u001b[0mbody\u001b[0m\u001b[0;34m,\u001b[0m \u001b[0mheaders\u001b[0m\u001b[0;34m=\u001b[0m\u001b[0mheaders\u001b[0m\u001b[0;34m,\u001b[0m\u001b[0;34m\u001b[0m\u001b[0m\n\u001b[0;32m--> 600\u001b[0;31m                                                   chunked=chunked)\n\u001b[0m\u001b[1;32m    601\u001b[0m \u001b[0;34m\u001b[0m\u001b[0m\n\u001b[1;32m    602\u001b[0m             \u001b[0;31m# If we're going to release the connection in ``finally:``, then\u001b[0m\u001b[0;34m\u001b[0m\u001b[0;34m\u001b[0m\u001b[0m\n",
      "\u001b[0;32m~/.local/lib/python3.5/site-packages/urllib3/connectionpool.py\u001b[0m in \u001b[0;36m_make_request\u001b[0;34m(self, conn, method, url, timeout, chunked, **httplib_request_kw)\u001b[0m\n\u001b[1;32m    378\u001b[0m             \u001b[0;32mexcept\u001b[0m \u001b[0mTypeError\u001b[0m\u001b[0;34m:\u001b[0m  \u001b[0;31m# Python 2.6 and older, Python 3\u001b[0m\u001b[0;34m\u001b[0m\u001b[0m\n\u001b[1;32m    379\u001b[0m                 \u001b[0;32mtry\u001b[0m\u001b[0;34m:\u001b[0m\u001b[0;34m\u001b[0m\u001b[0m\n\u001b[0;32m--> 380\u001b[0;31m                     \u001b[0mhttplib_response\u001b[0m \u001b[0;34m=\u001b[0m \u001b[0mconn\u001b[0m\u001b[0;34m.\u001b[0m\u001b[0mgetresponse\u001b[0m\u001b[0;34m(\u001b[0m\u001b[0;34m)\u001b[0m\u001b[0;34m\u001b[0m\u001b[0m\n\u001b[0m\u001b[1;32m    381\u001b[0m                 \u001b[0;32mexcept\u001b[0m \u001b[0mException\u001b[0m \u001b[0;32mas\u001b[0m \u001b[0me\u001b[0m\u001b[0;34m:\u001b[0m\u001b[0;34m\u001b[0m\u001b[0m\n\u001b[1;32m    382\u001b[0m                     \u001b[0;31m# Remove the TypeError from the exception chain in Python 3;\u001b[0m\u001b[0;34m\u001b[0m\u001b[0;34m\u001b[0m\u001b[0m\n",
      "\u001b[0;32m/usr/lib/python3.5/http/client.py\u001b[0m in \u001b[0;36mgetresponse\u001b[0;34m(self)\u001b[0m\n\u001b[1;32m   1195\u001b[0m         \u001b[0;32mtry\u001b[0m\u001b[0;34m:\u001b[0m\u001b[0;34m\u001b[0m\u001b[0m\n\u001b[1;32m   1196\u001b[0m             \u001b[0;32mtry\u001b[0m\u001b[0;34m:\u001b[0m\u001b[0;34m\u001b[0m\u001b[0m\n\u001b[0;32m-> 1197\u001b[0;31m                 \u001b[0mresponse\u001b[0m\u001b[0;34m.\u001b[0m\u001b[0mbegin\u001b[0m\u001b[0;34m(\u001b[0m\u001b[0;34m)\u001b[0m\u001b[0;34m\u001b[0m\u001b[0m\n\u001b[0m\u001b[1;32m   1198\u001b[0m             \u001b[0;32mexcept\u001b[0m \u001b[0mConnectionError\u001b[0m\u001b[0;34m:\u001b[0m\u001b[0;34m\u001b[0m\u001b[0m\n\u001b[1;32m   1199\u001b[0m                 \u001b[0mself\u001b[0m\u001b[0;34m.\u001b[0m\u001b[0mclose\u001b[0m\u001b[0;34m(\u001b[0m\u001b[0;34m)\u001b[0m\u001b[0;34m\u001b[0m\u001b[0m\n",
      "\u001b[0;32m/usr/lib/python3.5/http/client.py\u001b[0m in \u001b[0;36mbegin\u001b[0;34m(self)\u001b[0m\n\u001b[1;32m    295\u001b[0m         \u001b[0;31m# read until we get a non-100 response\u001b[0m\u001b[0;34m\u001b[0m\u001b[0;34m\u001b[0m\u001b[0m\n\u001b[1;32m    296\u001b[0m         \u001b[0;32mwhile\u001b[0m \u001b[0;32mTrue\u001b[0m\u001b[0;34m:\u001b[0m\u001b[0;34m\u001b[0m\u001b[0m\n\u001b[0;32m--> 297\u001b[0;31m             \u001b[0mversion\u001b[0m\u001b[0;34m,\u001b[0m \u001b[0mstatus\u001b[0m\u001b[0;34m,\u001b[0m \u001b[0mreason\u001b[0m \u001b[0;34m=\u001b[0m \u001b[0mself\u001b[0m\u001b[0;34m.\u001b[0m\u001b[0m_read_status\u001b[0m\u001b[0;34m(\u001b[0m\u001b[0;34m)\u001b[0m\u001b[0;34m\u001b[0m\u001b[0m\n\u001b[0m\u001b[1;32m    298\u001b[0m             \u001b[0;32mif\u001b[0m \u001b[0mstatus\u001b[0m \u001b[0;34m!=\u001b[0m \u001b[0mCONTINUE\u001b[0m\u001b[0;34m:\u001b[0m\u001b[0;34m\u001b[0m\u001b[0m\n\u001b[1;32m    299\u001b[0m                 \u001b[0;32mbreak\u001b[0m\u001b[0;34m\u001b[0m\u001b[0m\n",
      "\u001b[0;32m/usr/lib/python3.5/http/client.py\u001b[0m in \u001b[0;36m_read_status\u001b[0;34m(self)\u001b[0m\n\u001b[1;32m    256\u001b[0m \u001b[0;34m\u001b[0m\u001b[0m\n\u001b[1;32m    257\u001b[0m     \u001b[0;32mdef\u001b[0m \u001b[0m_read_status\u001b[0m\u001b[0;34m(\u001b[0m\u001b[0mself\u001b[0m\u001b[0;34m)\u001b[0m\u001b[0;34m:\u001b[0m\u001b[0;34m\u001b[0m\u001b[0m\n\u001b[0;32m--> 258\u001b[0;31m         \u001b[0mline\u001b[0m \u001b[0;34m=\u001b[0m \u001b[0mstr\u001b[0m\u001b[0;34m(\u001b[0m\u001b[0mself\u001b[0m\u001b[0;34m.\u001b[0m\u001b[0mfp\u001b[0m\u001b[0;34m.\u001b[0m\u001b[0mreadline\u001b[0m\u001b[0;34m(\u001b[0m\u001b[0m_MAXLINE\u001b[0m \u001b[0;34m+\u001b[0m \u001b[0;36m1\u001b[0m\u001b[0;34m)\u001b[0m\u001b[0;34m,\u001b[0m \u001b[0;34m\"iso-8859-1\"\u001b[0m\u001b[0;34m)\u001b[0m\u001b[0;34m\u001b[0m\u001b[0m\n\u001b[0m\u001b[1;32m    259\u001b[0m         \u001b[0;32mif\u001b[0m \u001b[0mlen\u001b[0m\u001b[0;34m(\u001b[0m\u001b[0mline\u001b[0m\u001b[0;34m)\u001b[0m \u001b[0;34m>\u001b[0m \u001b[0m_MAXLINE\u001b[0m\u001b[0;34m:\u001b[0m\u001b[0;34m\u001b[0m\u001b[0m\n\u001b[1;32m    260\u001b[0m             \u001b[0;32mraise\u001b[0m \u001b[0mLineTooLong\u001b[0m\u001b[0;34m(\u001b[0m\u001b[0;34m\"status line\"\u001b[0m\u001b[0;34m)\u001b[0m\u001b[0;34m\u001b[0m\u001b[0m\n",
      "\u001b[0;32m/usr/lib/python3.5/socket.py\u001b[0m in \u001b[0;36mreadinto\u001b[0;34m(self, b)\u001b[0m\n\u001b[1;32m    573\u001b[0m         \u001b[0;32mwhile\u001b[0m \u001b[0;32mTrue\u001b[0m\u001b[0;34m:\u001b[0m\u001b[0;34m\u001b[0m\u001b[0m\n\u001b[1;32m    574\u001b[0m             \u001b[0;32mtry\u001b[0m\u001b[0;34m:\u001b[0m\u001b[0;34m\u001b[0m\u001b[0m\n\u001b[0;32m--> 575\u001b[0;31m                 \u001b[0;32mreturn\u001b[0m \u001b[0mself\u001b[0m\u001b[0;34m.\u001b[0m\u001b[0m_sock\u001b[0m\u001b[0;34m.\u001b[0m\u001b[0mrecv_into\u001b[0m\u001b[0;34m(\u001b[0m\u001b[0mb\u001b[0m\u001b[0;34m)\u001b[0m\u001b[0;34m\u001b[0m\u001b[0m\n\u001b[0m\u001b[1;32m    576\u001b[0m             \u001b[0;32mexcept\u001b[0m \u001b[0mtimeout\u001b[0m\u001b[0;34m:\u001b[0m\u001b[0;34m\u001b[0m\u001b[0m\n\u001b[1;32m    577\u001b[0m                 \u001b[0mself\u001b[0m\u001b[0;34m.\u001b[0m\u001b[0m_timeout_occurred\u001b[0m \u001b[0;34m=\u001b[0m \u001b[0;32mTrue\u001b[0m\u001b[0;34m\u001b[0m\u001b[0m\n",
      "\u001b[0;31mKeyboardInterrupt\u001b[0m: "
     ]
    }
   ],
   "source": [
    "query = {\n",
    "    \"bool\": {\n",
    "        \"must\": [\n",
    "            {\"term\": {\"to\": TOKEN}},\n",
    "        ]\n",
    "    }\n",
    "}\n",
    "\n",
    "transactions = []\n",
    "for t in iterate(client, index=\"ethereum-internal-transaction\", doc_type=\"itx\", query=query):\n",
    "    transactions += t\n",
    "transactions_df = pd.DataFrame([t[\"_source\"] for t in transactions])"
   ]
  },
  {
   "cell_type": "code",
   "execution_count": null,
   "metadata": {},
   "outputs": [],
   "source": [
    "ABI = json.loads(\"\"\"[\n",
    "      {\n",
    "        \"outputs\": [\n",
    "          {\n",
    "            \"name\": \"\",\n",
    "            \"type\": \"string\"\n",
    "          }\n",
    "        ],\n",
    "        \"constant\": true,\n",
    "        \"payable\": false,\n",
    "        \"inputs\": [],\n",
    "        \"name\": \"name\",\n",
    "        \"type\": \"function\"\n",
    "      },\n",
    "      {\n",
    "        \"outputs\": [\n",
    "          {\n",
    "            \"name\": \"\",\n",
    "            \"type\": \"bool\"\n",
    "          }\n",
    "        ],\n",
    "        \"constant\": false,\n",
    "        \"payable\": false,\n",
    "        \"inputs\": [\n",
    "          {\n",
    "            \"name\": \"_spender\",\n",
    "            \"type\": \"address\"\n",
    "          },\n",
    "          {\n",
    "            \"name\": \"_value\",\n",
    "            \"type\": \"uint256\"\n",
    "          }\n",
    "        ],\n",
    "        \"name\": \"approve\",\n",
    "        \"type\": \"function\"\n",
    "      },\n",
    "      {\n",
    "        \"outputs\": [\n",
    "          {\n",
    "            \"name\": \"\",\n",
    "            \"type\": \"bool\"\n",
    "          }\n",
    "        ],\n",
    "        \"constant\": false,\n",
    "        \"payable\": false,\n",
    "        \"inputs\": [],\n",
    "        \"name\": \"activate\",\n",
    "        \"type\": \"function\"\n",
    "      },\n",
    "      {\n",
    "        \"outputs\": [\n",
    "          {\n",
    "            \"name\": \"\",\n",
    "            \"type\": \"uint256\"\n",
    "          }\n",
    "        ],\n",
    "        \"constant\": true,\n",
    "        \"payable\": false,\n",
    "        \"inputs\": [],\n",
    "        \"name\": \"lockPeriod1\",\n",
    "        \"type\": \"function\"\n",
    "      },\n",
    "      {\n",
    "        \"outputs\": [\n",
    "          {\n",
    "            \"name\": \"\",\n",
    "            \"type\": \"uint256\"\n",
    "          }\n",
    "        ],\n",
    "        \"constant\": true,\n",
    "        \"payable\": false,\n",
    "        \"inputs\": [],\n",
    "        \"name\": \"totalSupply\",\n",
    "        \"type\": \"function\"\n",
    "      },\n",
    "      {\n",
    "        \"outputs\": [\n",
    "          {\n",
    "            \"name\": \"\",\n",
    "            \"type\": \"bool\"\n",
    "          }\n",
    "        ],\n",
    "        \"constant\": false,\n",
    "        \"payable\": false,\n",
    "        \"inputs\": [\n",
    "          {\n",
    "            \"name\": \"_from\",\n",
    "            \"type\": \"address\"\n",
    "          },\n",
    "          {\n",
    "            \"name\": \"_to\",\n",
    "            \"type\": \"address\"\n",
    "          },\n",
    "          {\n",
    "            \"name\": \"_value\",\n",
    "            \"type\": \"uint256\"\n",
    "          }\n",
    "        ],\n",
    "        \"name\": \"transferFrom\",\n",
    "        \"type\": \"function\"\n",
    "      },\n",
    "      {\n",
    "        \"outputs\": [\n",
    "          {\n",
    "            \"name\": \"\",\n",
    "            \"type\": \"address\"\n",
    "          }\n",
    "        ],\n",
    "        \"constant\": true,\n",
    "        \"payable\": false,\n",
    "        \"inputs\": [],\n",
    "        \"name\": \"founder1Address\",\n",
    "        \"type\": \"function\"\n",
    "      },\n",
    "      {\n",
    "        \"outputs\": [\n",
    "          {\n",
    "            \"name\": \"\",\n",
    "            \"type\": \"uint256\"\n",
    "          }\n",
    "        ],\n",
    "        \"constant\": true,\n",
    "        \"payable\": false,\n",
    "        \"inputs\": [],\n",
    "        \"name\": \"decimals\",\n",
    "        \"type\": \"function\"\n",
    "      },\n",
    "      {\n",
    "        \"outputs\": [\n",
    "          {\n",
    "            \"name\": \"\",\n",
    "            \"type\": \"string\"\n",
    "          }\n",
    "        ],\n",
    "        \"constant\": true,\n",
    "        \"payable\": false,\n",
    "        \"inputs\": [],\n",
    "        \"name\": \"contactInformation\",\n",
    "        \"type\": \"function\"\n",
    "      },\n",
    "      {\n",
    "        \"outputs\": [\n",
    "          {\n",
    "            \"name\": \"\",\n",
    "            \"type\": \"bool\"\n",
    "          }\n",
    "        ],\n",
    "        \"constant\": false,\n",
    "        \"payable\": false,\n",
    "        \"inputs\": [\n",
    "          {\n",
    "            \"name\": \"addr\",\n",
    "            \"type\": \"address\"\n",
    "          }\n",
    "        ],\n",
    "        \"name\": \"addToTimeLockedList\",\n",
    "        \"type\": \"function\"\n",
    "      },\n",
    "      {\n",
    "        \"outputs\": [\n",
    "          {\n",
    "            \"name\": \"\",\n",
    "            \"type\": \"bool\"\n",
    "          }\n",
    "        ],\n",
    "        \"constant\": true,\n",
    "        \"payable\": false,\n",
    "        \"inputs\": [],\n",
    "        \"name\": \"isActivated\",\n",
    "        \"type\": \"function\"\n",
    "      },\n",
    "      {\n",
    "        \"outputs\": [\n",
    "          {\n",
    "            \"name\": \"\",\n",
    "            \"type\": \"bool\"\n",
    "          }\n",
    "        ],\n",
    "        \"constant\": false,\n",
    "        \"payable\": false,\n",
    "        \"inputs\": [\n",
    "          {\n",
    "            \"name\": \"_spender\",\n",
    "            \"type\": \"address\"\n",
    "          },\n",
    "          {\n",
    "            \"name\": \"_subtractedValue\",\n",
    "            \"type\": \"uint256\"\n",
    "          }\n",
    "        ],\n",
    "        \"name\": \"decreaseApproval\",\n",
    "        \"type\": \"function\"\n",
    "      },\n",
    "      {\n",
    "        \"outputs\": [\n",
    "          {\n",
    "            \"name\": \"\",\n",
    "            \"type\": \"bool\"\n",
    "          }\n",
    "        ],\n",
    "        \"constant\": true,\n",
    "        \"payable\": false,\n",
    "        \"inputs\": [\n",
    "          {\n",
    "            \"name\": \"\",\n",
    "            \"type\": \"address\"\n",
    "          }\n",
    "        ],\n",
    "        \"name\": \"isPresaleBuyer\",\n",
    "        \"type\": \"function\"\n",
    "      },\n",
    "      {\n",
    "        \"outputs\": [\n",
    "          {\n",
    "            \"name\": \"balance\",\n",
    "            \"type\": \"uint256\"\n",
    "          }\n",
    "        ],\n",
    "        \"constant\": true,\n",
    "        \"payable\": false,\n",
    "        \"inputs\": [\n",
    "          {\n",
    "            \"name\": \"_owner\",\n",
    "            \"type\": \"address\"\n",
    "          }\n",
    "        ],\n",
    "        \"name\": \"balanceOf\",\n",
    "        \"type\": \"function\"\n",
    "      },\n",
    "      {\n",
    "        \"outputs\": [\n",
    "          {\n",
    "            \"name\": \"\",\n",
    "            \"type\": \"uint256\"\n",
    "          }\n",
    "        ],\n",
    "        \"constant\": true,\n",
    "        \"payable\": false,\n",
    "        \"inputs\": [],\n",
    "        \"name\": \"icoEndTime\",\n",
    "        \"type\": \"function\"\n",
    "      },\n",
    "      {\n",
    "        \"outputs\": [\n",
    "          {\n",
    "            \"name\": \"\",\n",
    "            \"type\": \"uint256\"\n",
    "          }\n",
    "        ],\n",
    "        \"constant\": true,\n",
    "        \"payable\": false,\n",
    "        \"inputs\": [],\n",
    "        \"name\": \"lockPeriodForBuyers\",\n",
    "        \"type\": \"function\"\n",
    "      },\n",
    "      {\n",
    "        \"outputs\": [\n",
    "          {\n",
    "            \"name\": \"\",\n",
    "            \"type\": \"bool\"\n",
    "          }\n",
    "        ],\n",
    "        \"constant\": false,\n",
    "        \"payable\": false,\n",
    "        \"inputs\": [\n",
    "          {\n",
    "            \"name\": \"_address\",\n",
    "            \"type\": \"address\"\n",
    "          },\n",
    "          {\n",
    "            \"name\": \"isWhitelisted\",\n",
    "            \"type\": \"bool\"\n",
    "          }\n",
    "        ],\n",
    "        \"name\": \"editWhitelist\",\n",
    "        \"type\": \"function\"\n",
    "      },\n",
    "      {\n",
    "        \"outputs\": [\n",
    "          {\n",
    "            \"name\": \"\",\n",
    "            \"type\": \"address\"\n",
    "          }\n",
    "        ],\n",
    "        \"constant\": true,\n",
    "        \"payable\": false,\n",
    "        \"inputs\": [],\n",
    "        \"name\": \"owner\",\n",
    "        \"type\": \"function\"\n",
    "      },\n",
    "      {\n",
    "        \"outputs\": [\n",
    "          {\n",
    "            \"name\": \"\",\n",
    "            \"type\": \"address\"\n",
    "          }\n",
    "        ],\n",
    "        \"constant\": true,\n",
    "        \"payable\": false,\n",
    "        \"inputs\": [],\n",
    "        \"name\": \"founder2Address\",\n",
    "        \"type\": \"function\"\n",
    "      },\n",
    "      {\n",
    "        \"outputs\": [\n",
    "          {\n",
    "            \"name\": \"\",\n",
    "            \"type\": \"string\"\n",
    "          }\n",
    "        ],\n",
    "        \"constant\": true,\n",
    "        \"payable\": false,\n",
    "        \"inputs\": [],\n",
    "        \"name\": \"symbol\",\n",
    "        \"type\": \"function\"\n",
    "      },\n",
    "      {\n",
    "        \"outputs\": [\n",
    "          {\n",
    "            \"name\": \"\",\n",
    "            \"type\": \"uint256\"\n",
    "          }\n",
    "        ],\n",
    "        \"constant\": true,\n",
    "        \"payable\": false,\n",
    "        \"inputs\": [],\n",
    "        \"name\": \"icoStartTime\",\n",
    "        \"type\": \"function\"\n",
    "      },\n",
    "      {\n",
    "        \"outputs\": [\n",
    "          {\n",
    "            \"name\": \"\",\n",
    "            \"type\": \"bool\"\n",
    "          }\n",
    "        ],\n",
    "        \"constant\": true,\n",
    "        \"payable\": false,\n",
    "        \"inputs\": [\n",
    "          {\n",
    "            \"name\": \"\",\n",
    "            \"type\": \"address\"\n",
    "          }\n",
    "        ],\n",
    "        \"name\": \"whitelistedBeforeActivation\",\n",
    "        \"type\": \"function\"\n",
    "      },\n",
    "      {\n",
    "        \"outputs\": [\n",
    "          {\n",
    "            \"name\": \"\",\n",
    "            \"type\": \"bool\"\n",
    "          }\n",
    "        ],\n",
    "        \"constant\": false,\n",
    "        \"payable\": false,\n",
    "        \"inputs\": [\n",
    "          {\n",
    "            \"name\": \"_to\",\n",
    "            \"type\": \"address\"\n",
    "          },\n",
    "          {\n",
    "            \"name\": \"_value\",\n",
    "            \"type\": \"uint256\"\n",
    "          }\n",
    "        ],\n",
    "        \"name\": \"transfer\",\n",
    "        \"type\": \"function\"\n",
    "      },\n",
    "      {\n",
    "        \"outputs\": [\n",
    "          {\n",
    "            \"name\": \"\",\n",
    "            \"type\": \"uint256\"\n",
    "          }\n",
    "        ],\n",
    "        \"constant\": true,\n",
    "        \"payable\": false,\n",
    "        \"inputs\": [],\n",
    "        \"name\": \"lockPeriod2\",\n",
    "        \"type\": \"function\"\n",
    "      },\n",
    "      {\n",
    "        \"outputs\": [],\n",
    "        \"constant\": false,\n",
    "        \"payable\": false,\n",
    "        \"inputs\": [\n",
    "          {\n",
    "            \"name\": \"info\",\n",
    "            \"type\": \"string\"\n",
    "          }\n",
    "        ],\n",
    "        \"name\": \"setContactInformation\",\n",
    "        \"type\": \"function\"\n",
    "      },\n",
    "      {\n",
    "        \"outputs\": [\n",
    "          {\n",
    "            \"name\": \"\",\n",
    "            \"type\": \"bool\"\n",
    "          }\n",
    "        ],\n",
    "        \"constant\": false,\n",
    "        \"payable\": false,\n",
    "        \"inputs\": [\n",
    "          {\n",
    "            \"name\": \"_spender\",\n",
    "            \"type\": \"address\"\n",
    "          },\n",
    "          {\n",
    "            \"name\": \"_addedValue\",\n",
    "            \"type\": \"uint256\"\n",
    "          }\n",
    "        ],\n",
    "        \"name\": \"increaseApproval\",\n",
    "        \"type\": \"function\"\n",
    "      },\n",
    "      {\n",
    "        \"outputs\": [\n",
    "          {\n",
    "            \"name\": \"remaining\",\n",
    "            \"type\": \"uint256\"\n",
    "          }\n",
    "        ],\n",
    "        \"constant\": true,\n",
    "        \"payable\": false,\n",
    "        \"inputs\": [\n",
    "          {\n",
    "            \"name\": \"_owner\",\n",
    "            \"type\": \"address\"\n",
    "          },\n",
    "          {\n",
    "            \"name\": \"_spender\",\n",
    "            \"type\": \"address\"\n",
    "          }\n",
    "        ],\n",
    "        \"name\": \"allowance\",\n",
    "        \"type\": \"function\"\n",
    "      },\n",
    "      {\n",
    "        \"outputs\": [],\n",
    "        \"constant\": false,\n",
    "        \"payable\": false,\n",
    "        \"inputs\": [\n",
    "          {\n",
    "            \"name\": \"newOwner\",\n",
    "            \"type\": \"address\"\n",
    "          }\n",
    "        ],\n",
    "        \"name\": \"transferOwnership\",\n",
    "        \"type\": \"function\"\n",
    "      },\n",
    "      {\n",
    "        \"outputs\": [\n",
    "          {\n",
    "            \"name\": \"\",\n",
    "            \"type\": \"bool\"\n",
    "          }\n",
    "        ],\n",
    "        \"constant\": false,\n",
    "        \"payable\": false,\n",
    "        \"inputs\": [\n",
    "          {\n",
    "            \"name\": \"newSaleAddress\",\n",
    "            \"type\": \"address\"\n",
    "          }\n",
    "        ],\n",
    "        \"name\": \"setSaleAddress\",\n",
    "        \"type\": \"function\"\n",
    "      },\n",
    "      {\n",
    "        \"outputs\": [\n",
    "          {\n",
    "            \"name\": \"\",\n",
    "            \"type\": \"bool\"\n",
    "          }\n",
    "        ],\n",
    "        \"constant\": false,\n",
    "        \"payable\": false,\n",
    "        \"inputs\": [\n",
    "          {\n",
    "            \"name\": \"newTime\",\n",
    "            \"type\": \"uint256\"\n",
    "          }\n",
    "        ],\n",
    "        \"name\": \"setIcoEndTime\",\n",
    "        \"type\": \"function\"\n",
    "      },\n",
    "      {\n",
    "        \"outputs\": [\n",
    "          {\n",
    "            \"name\": \"\",\n",
    "            \"type\": \"address\"\n",
    "          }\n",
    "        ],\n",
    "        \"constant\": true,\n",
    "        \"payable\": false,\n",
    "        \"inputs\": [],\n",
    "        \"name\": \"saleAddress\",\n",
    "        \"type\": \"function\"\n",
    "      },\n",
    "      {\n",
    "        \"payable\": false,\n",
    "        \"inputs\": [\n",
    "          {\n",
    "            \"name\": \"_founder1Address\",\n",
    "            \"type\": \"address\"\n",
    "          },\n",
    "          {\n",
    "            \"name\": \"_founder2Address\",\n",
    "            \"type\": \"address\"\n",
    "          },\n",
    "          {\n",
    "            \"name\": \"_icoStartTime\",\n",
    "            \"type\": \"uint256\"\n",
    "          },\n",
    "          {\n",
    "            \"name\": \"_icoEndTime\",\n",
    "            \"type\": \"uint256\"\n",
    "          }\n",
    "        ],\n",
    "        \"type\": \"constructor\"\n",
    "      },\n",
    "      {\n",
    "        \"inputs\": [\n",
    "          {\n",
    "            \"indexed\": true,\n",
    "            \"name\": \"from\",\n",
    "            \"type\": \"address\"\n",
    "          },\n",
    "          {\n",
    "            \"indexed\": true,\n",
    "            \"name\": \"to\",\n",
    "            \"type\": \"address\"\n",
    "          },\n",
    "          {\n",
    "            \"indexed\": false,\n",
    "            \"name\": \"value\",\n",
    "            \"type\": \"uint256\"\n",
    "          }\n",
    "        ],\n",
    "        \"name\": \"Transfer\",\n",
    "        \"anonymous\": false,\n",
    "        \"type\": \"event\"\n",
    "      },\n",
    "      {\n",
    "        \"inputs\": [\n",
    "          {\n",
    "            \"indexed\": true,\n",
    "            \"name\": \"owner\",\n",
    "            \"type\": \"address\"\n",
    "          },\n",
    "          {\n",
    "            \"indexed\": true,\n",
    "            \"name\": \"spender\",\n",
    "            \"type\": \"address\"\n",
    "          },\n",
    "          {\n",
    "            \"indexed\": false,\n",
    "            \"name\": \"value\",\n",
    "            \"type\": \"uint256\"\n",
    "          }\n",
    "        ],\n",
    "        \"name\": \"Approval\",\n",
    "        \"anonymous\": false,\n",
    "        \"type\": \"event\"\n",
    "      },\n",
    "      {\n",
    "        \"inputs\": [\n",
    "          {\n",
    "            \"indexed\": true,\n",
    "            \"name\": \"previousOwner\",\n",
    "            \"type\": \"address\"\n",
    "          },\n",
    "          {\n",
    "            \"indexed\": true,\n",
    "            \"name\": \"newOwner\",\n",
    "            \"type\": \"address\"\n",
    "          }\n",
    "        ],\n",
    "        \"name\": \"OwnershipTransferred\",\n",
    "        \"anonymous\": false,\n",
    "        \"type\": \"event\"\n",
    "      }\n",
    "    ]\"\"\")"
   ]
  },
  {
   "cell_type": "code",
   "execution_count": null,
   "metadata": {},
   "outputs": [],
   "source": [
    "from ethereum.abi import (\n",
    "    decode_abi,\n",
    "    normalize_name as normalize_abi_method_name,\n",
    "    method_id as get_abi_method_id)\n",
    "from ethereum.utils import encode_int, zpad, decode_hex"
   ]
  },
  {
   "cell_type": "code",
   "execution_count": null,
   "metadata": {},
   "outputs": [],
   "source": [
    "def _decode_input(call_data, contract_abi=ABI):\n",
    "  \"\"\"\n",
    "  Decode input data of a transaction according to a contract ABI\n",
    "\n",
    "  Solution from https://ethereum.stackexchange.com/questions/20897/how-to-decode-input-data-from-tx-using-python3?rq=1\n",
    "\n",
    "  Parameters\n",
    "  ----------\n",
    "  contract_abi : list\n",
    "      List of contract methods specifications\n",
    "  call_data : str\n",
    "      Input of transaction in a form of 0x(4 bytes of method)(arguments),\n",
    "      i.e. 0x12345678000000000000....\n",
    "\n",
    "  Returns\n",
    "  -------\n",
    "  dict\n",
    "      Name and parsed parameters extracted from the input\n",
    "      None, if there is no such method in ABI, or there was a problem with method arguments\n",
    "  \"\"\"\n",
    "  call_data_bin = decode_hex(call_data)\n",
    "  method_signature = call_data_bin[:4]\n",
    "  for description in contract_abi:\n",
    "    if description.get('type') != 'function':\n",
    "      continue\n",
    "    method_name = normalize_abi_method_name(description['name'])\n",
    "    arg_types = [item['type'] for item in description['inputs']]\n",
    "    method_id = get_abi_method_id(method_name, arg_types)\n",
    "    if zpad(encode_int(method_id), 4) == method_signature:\n",
    "      try:\n",
    "        args = decode_abi(arg_types, call_data_bin[4:])\n",
    "        args = [{'type': arg_types[index], 'value': str(value)} for index, value in enumerate(args)]\n",
    "      except AssertionError:\n",
    "        continue\n",
    "      return {'name': method_name, 'params': args}"
   ]
  },
  {
   "cell_type": "code",
   "execution_count": null,
   "metadata": {},
   "outputs": [],
   "source": [
    "decoded_inputs = [_decode_input(i) for i in tqdm_notebook(transactions_df[\"input\"])]"
   ]
  },
  {
   "cell_type": "code",
   "execution_count": null,
   "metadata": {},
   "outputs": [],
   "source": [
    "transactions_df[\"decoded_input\"] = decoded_inputs"
   ]
  },
  {
   "cell_type": "code",
   "execution_count": 142,
   "metadata": {},
   "outputs": [
    {
     "data": {
      "text/plain": [
       "{'name': 'transferFrom',\n",
       " 'params': [{'type': 'address',\n",
       "   'value': '0x43689d0c3b73562cdb143adbfaac93f529b5c23d'},\n",
       "  {'type': 'address', 'value': '0x2a0c0dbecc7e4d658f48e01e3fa353f44050c208'},\n",
       "  {'type': 'uint256', 'value': '7770000000000000000'}]}"
      ]
     },
     "execution_count": 142,
     "metadata": {},
     "output_type": "execute_result"
    }
   ],
   "source": [
    "transactions_df[\"decoded_input\"].iloc[0]"
   ]
  },
  {
   "cell_type": "code",
   "execution_count": 151,
   "metadata": {},
   "outputs": [],
   "source": [
    "allowed_methods = [\"transfer\", \"transferFrom\"]"
   ]
  },
  {
   "cell_type": "code",
   "execution_count": 164,
   "metadata": {},
   "outputs": [],
   "source": [
    "transactions_json = transactions_df.to_dict(orient='records')"
   ]
  },
  {
   "cell_type": "code",
   "execution_count": 165,
   "metadata": {},
   "outputs": [
    {
     "data": {
      "text/plain": [
       "{'blockHash': '0xf0fd1a9b8c7b67b797784bb56f8992788b2a2794c6f85221b0f924592e25f4a8',\n",
       " 'blockNumber': 5600292,\n",
       " 'block_id': 5600292.0,\n",
       " 'callType': 'call',\n",
       " 'decoded_input': {'name': 'transferFrom',\n",
       "  'params': [{'type': 'address',\n",
       "    'value': '0x43689d0c3b73562cdb143adbfaac93f529b5c23d'},\n",
       "   {'type': 'address', 'value': '0x2a0c0dbecc7e4d658f48e01e3fa353f44050c208'},\n",
       "   {'type': 'uint256', 'value': '7770000000000000000'}]},\n",
       " 'error': 'Reverted',\n",
       " 'from': '0x2a0c0dbecc7e4d658f48e01e3fa353f44050c208',\n",
       " 'gas': '0x2fc85',\n",
       " 'gasPrice': nan,\n",
       " 'gasUsed': nan,\n",
       " 'input': '0x23b872dd00000000000000000000000043689d0c3b73562cdb143adbfaac93f529b5c23d0000000000000000000000002a0c0dbecc7e4d658f48e01e3fa353f44050c2080000000000000000000000000000000000000000000000006bd495d530c90000',\n",
       " 'output': nan,\n",
       " 'parent_error': nan,\n",
       " 'subtraces': 0,\n",
       " 'to': '0xf3e014fe81267870624132ef3a646b8e83853a96',\n",
       " 'traceAddress': [0],\n",
       " 'transactionHash': '0xa6f49e2e2d504cf9ae77e529d09c616be966468e989d3952239c646e51dfab5d',\n",
       " 'transactionPosition': 24,\n",
       " 'type': 'call',\n",
       " 'value': 0.0}"
      ]
     },
     "execution_count": 165,
     "metadata": {},
     "output_type": "execute_result"
    }
   ],
   "source": [
    "transactions_json[0]"
   ]
  },
  {
   "cell_type": "code",
   "execution_count": 190,
   "metadata": {},
   "outputs": [
    {
     "data": {
      "application/vnd.jupyter.widget-view+json": {
       "model_id": "ba4ce9c59389404f8ff97e43d3cba6b1",
       "version_major": 2,
       "version_minor": 0
      },
      "text/plain": [
       "HBox(children=(IntProgress(value=0, max=577986), HTML(value='')))"
      ]
     },
     "metadata": {},
     "output_type": "display_data"
    }
   ],
   "source": [
    "def restore_transaction(x):\n",
    "    if (x[\"decoded_input\"]) and (x[\"decoded_input\"][\"name\"] in allowed_methods):\n",
    "        return {\n",
    "            \"to\": x[\"decoded_input\"][\"params\"][0][\"value\"], \n",
    "            \"from\": x[\"from\"], \n",
    "            \"method\": x[\"decoded_input\"][\"name\"], \n",
    "            \"value\": x[\"decoded_input\"][\"params\"][1][\"value\"],\n",
    "            \"block_id\": x[\"blockNumber\"]\n",
    "        }\n",
    "\n",
    "parsed_transactions = []\n",
    "\n",
    "for transaction in tqdm_notebook(transactions_json):\n",
    "    if transaction[\"decoded_input\"] and (transaction[\"decoded_input\"][\"name\"] == \"transfer\"):\n",
    "        parsed_transactions.append(restore_transaction(transaction))"
   ]
  },
  {
   "cell_type": "code",
   "execution_count": 191,
   "metadata": {},
   "outputs": [
    {
     "data": {
      "application/vnd.jupyter.widget-view+json": {
       "model_id": "1fc8601762674c5795b405fda34097f6",
       "version_major": 2,
       "version_minor": 0
      },
      "text/plain": [
       "HBox(children=(IntProgress(value=0, max=577986), HTML(value='')))"
      ]
     },
     "metadata": {},
     "output_type": "display_data"
    }
   ],
   "source": [
    "def restore_transaction(x):\n",
    "    if (x[\"decoded_input\"]) and (x[\"decoded_input\"][\"name\"] in allowed_methods):\n",
    "        return {\n",
    "            \"to\": x[\"decoded_input\"][\"params\"][1][\"value\"], \n",
    "            \"from\": x[\"decoded_input\"][\"params\"][0][\"value\"], \n",
    "            \"method\": x[\"decoded_input\"][\"name\"], \n",
    "            \"value\": x[\"decoded_input\"][\"params\"][2][\"value\"],\n",
    "            \"block_id\": x[\"blockNumber\"]\n",
    "        }\n",
    "\n",
    "for transaction in tqdm_notebook(transactions_json):\n",
    "    if transaction[\"decoded_input\"] and (transaction[\"decoded_input\"][\"name\"] == \"transferFrom\"):\n",
    "        parsed_transactions.append(restore_transaction(transaction))"
   ]
  },
  {
   "cell_type": "code",
   "execution_count": 192,
   "metadata": {},
   "outputs": [],
   "source": [
    "token_transactions_df = pd.DataFrame(parsed_transactions)\n",
    "token_transactions_df.to_csv(\"vinchain.csv\")"
   ]
  },
  {
   "cell_type": "code",
   "execution_count": 40,
   "metadata": {},
   "outputs": [],
   "source": [
    "token_transactions_df = pd.read_csv(\"vinchain.csv\")"
   ]
  },
  {
   "cell_type": "code",
   "execution_count": 45,
   "metadata": {},
   "outputs": [],
   "source": [
    "token_transactions_df[\"block_range\"] = token_transactions_df[\"block_id\"].apply(lambda x: int(x / 100000))"
   ]
  },
  {
   "cell_type": "code",
   "execution_count": 42,
   "metadata": {
    "scrolled": true
   },
   "outputs": [],
   "source": [
    "token_transactions_df[\"value\"] = token_transactions_df[\"value\"].apply(lambda x: (int(x) / 10 ** 18))"
   ]
  },
  {
   "cell_type": "code",
   "execution_count": 46,
   "metadata": {},
   "outputs": [],
   "source": [
    "transactions_per_block = token_transactions_df[token_transactions_df[\"value\"] == 7.77].groupby(\"block_range\").size()"
   ]
  },
  {
   "cell_type": "code",
   "execution_count": 47,
   "metadata": {},
   "outputs": [
    {
     "data": {
      "text/plain": [
       "[<matplotlib.lines.Line2D at 0x7efbe4cfe978>]"
      ]
     },
     "execution_count": 47,
     "metadata": {},
     "output_type": "execute_result"
    },
    {
     "data": {
      "image/png": "[encoded data removed]",
      "text/plain": [
       "<matplotlib.figure.Figure at 0x7efbe4cedba8>"
      ]
     },
     "metadata": {},
     "output_type": "display_data"
    }
   ],
   "source": [
    "plt.plot(transactions_per_block.keys(), transactions_per_block.values)"
   ]
  },
  {
   "cell_type": "code",
   "execution_count": 78,
   "metadata": {},
   "outputs": [],
   "source": [
    "investment_transactions = token_transactions_df[(token_transactions_df[\"block_range\"] >= 50) & (token_transactions_df[\"block_range\"] <= 55) & (token_transactions_df[\"value\"] == 7.77)]"
   ]
  },
  {
   "cell_type": "code",
   "execution_count": 360,
   "metadata": {},
   "outputs": [],
   "source": [
    "investment_transactions = token_transactions_df[(token_transactions_df[\"block_range\"] >= 0) & (token_transactions_df[\"block_range\"] <= 55) & (token_transactions_df[\"value\"] == 7.77)]"
   ]
  },
  {
   "cell_type": "code",
   "execution_count": 361,
   "metadata": {
    "scrolled": true
   },
   "outputs": [],
   "source": [
    "drop_addresses = investment_transactions.groupby(\"from\").nunique()[\"to\"].sort_values(ascending=False).index[0:4]"
   ]
  },
  {
   "cell_type": "code",
   "execution_count": 362,
   "metadata": {},
   "outputs": [],
   "source": [
    "drop_addresses = drop_addresses.tolist()"
   ]
  },
  {
   "cell_type": "code",
   "execution_count": 363,
   "metadata": {
    "scrolled": false
   },
   "outputs": [],
   "source": [
    "probable_investors = investment_transactions[investment_transactions[\"from\"].isin(drop_addresses)][\"to\"].value_counts()"
   ]
  },
  {
   "cell_type": "code",
   "execution_count": 364,
   "metadata": {},
   "outputs": [],
   "source": [
    "investors = pd.DataFrame(probable_investors)"
   ]
  },
  {
   "cell_type": "code",
   "execution_count": 365,
   "metadata": {},
   "outputs": [],
   "source": [
    "def chunks(l, n):\n",
    "    \"\"\"Yield successive n-sized chunks from l.\"\"\"\n",
    "    for i in range(0, len(l), n):\n",
    "        yield l[i:i + n]\n",
    "\n",
    "def add_features(index, doc_type, query_lambda, key):\n",
    "    result = []\n",
    "    for addresses in tqdm_notebook(list(chunks(all_addresses, 1000))):\n",
    "        query = query_lambda(addresses, key)\n",
    "        result.append(client.search(index=index, doc_type=doc_type, query=query))\n",
    "\n",
    "    results = {b[\"key\"]: b[key][\"value\"] for r in result for b in r[\"aggregations\"][\"drops\"][\"buckets\"]}\n",
    "    for address, value in tqdm_notebook(results.items()):\n",
    "        investors.loc[address, key] = value\n",
    "        \n",
    "all_addresses = list(investors.index)"
   ]
  },
  {
   "cell_type": "code",
   "execution_count": 366,
   "metadata": {},
   "outputs": [
    {
     "data": {
      "application/vnd.jupyter.widget-view+json": {
       "model_id": "d00641946f024731a01cb57cacbe2614",
       "version_major": 2,
       "version_minor": 0
      },
      "text/plain": [
       "HBox(children=(IntProgress(value=0, max=474), HTML(value='')))"
      ]
     },
     "metadata": {},
     "output_type": "display_data"
    },
    {
     "data": {
      "application/vnd.jupyter.widget-view+json": {
       "model_id": "37a3eabde67042208813867e3cd626e3",
       "version_major": 2,
       "version_minor": 0
      },
      "text/plain": [
       "HBox(children=(IntProgress(value=0, max=5), HTML(value='')))"
      ]
     },
     "metadata": {},
     "output_type": "display_data"
    }
   ],
   "source": [
    "def query(addresses, key):\n",
    "    query = {\n",
    "        \"size\": 0,\n",
    "        \"query\": {\n",
    "            \"bool\": {\n",
    "                \"must\": [\n",
    "                    {\"terms\": {\"to\": drop_addresses}},\n",
    "                    {\"terms\": {\"from\": addresses}},\n",
    "                ]\n",
    "            }\n",
    "        },\n",
    "        \"aggs\": {\n",
    "            \"drops\": {\n",
    "                \"terms\": {\n",
    "                    \"field\": \"from\",\n",
    "                    \"size\": len(addresses),\n",
    "                },\n",
    "                \"aggs\": {\n",
    "                    key: {\n",
    "                        \"sum\": {\n",
    "                            \"field\": \"value\"\n",
    "                        }\n",
    "                    }\n",
    "                }\n",
    "            }\n",
    "        }\n",
    "    }\n",
    "    return query\n",
    "\n",
    "add_features(index=\"ethereum-internal-transaction\", doc_type=\"itx\", query_lambda=query, key=\"out_to_drops\")"
   ]
  },
  {
   "cell_type": "markdown",
   "metadata": {},
   "source": [
    "- Найти тех, кто закидывал деньги назад на адреса дропов\n",
    "- Найти тех, кто получал не единственную транзакцию"
   ]
  },
  {
   "cell_type": "code",
   "execution_count": 346,
   "metadata": {},
   "outputs": [],
   "source": [
    "probable_exchanges = token_transactions_df.groupby(\"from\").size().sort_values(ascending=False)[0:600]"
   ]
  },
  {
   "cell_type": "code",
   "execution_count": 347,
   "metadata": {},
   "outputs": [],
   "source": [
    "def find_name(address):\n",
    "    document = pq(\"https://etherscan.io/address/{}\".format(address))\n",
    "    return document(\"font[title='NameTag']\").text()"
   ]
  },
  {
   "cell_type": "code",
   "execution_count": 348,
   "metadata": {},
   "outputs": [
    {
     "data": {
      "application/vnd.jupyter.widget-view+json": {
       "model_id": "09c4db1f27694dad836dba2d8745bc49",
       "version_major": 2,
       "version_minor": 0
      },
      "text/plain": [
       "HBox(children=(IntProgress(value=0, max=600), HTML(value='')))"
      ]
     },
     "metadata": {},
     "output_type": "display_data"
    },
    {
     "ename": "KeyboardInterrupt",
     "evalue": "",
     "output_type": "error",
     "traceback": [
      "\u001b[0;31m---------------------------------------------------------------------------\u001b[0m",
      "\u001b[0;31mKeyboardInterrupt\u001b[0m                         Traceback (most recent call last)",
      "\u001b[0;32m<ipython-input-348-4a13c0a3972c>\u001b[0m in \u001b[0;36m<module>\u001b[0;34m()\u001b[0m\n\u001b[1;32m      1\u001b[0m \u001b[0mnames\u001b[0m \u001b[0;34m=\u001b[0m \u001b[0;34m{\u001b[0m\u001b[0;34m}\u001b[0m\u001b[0;34m\u001b[0m\u001b[0m\n\u001b[1;32m      2\u001b[0m \u001b[0;32mfor\u001b[0m \u001b[0maddress\u001b[0m \u001b[0;32min\u001b[0m \u001b[0mtqdm_notebook\u001b[0m\u001b[0;34m(\u001b[0m\u001b[0mprobable_exchanges\u001b[0m\u001b[0;34m[\u001b[0m\u001b[0;36m0\u001b[0m\u001b[0;34m:\u001b[0m\u001b[0;36m600\u001b[0m\u001b[0;34m]\u001b[0m\u001b[0;34m.\u001b[0m\u001b[0mindex\u001b[0m\u001b[0;34m)\u001b[0m\u001b[0;34m:\u001b[0m\u001b[0;34m\u001b[0m\u001b[0m\n\u001b[0;32m----> 3\u001b[0;31m     \u001b[0mname\u001b[0m \u001b[0;34m=\u001b[0m \u001b[0mfind_name\u001b[0m\u001b[0;34m(\u001b[0m\u001b[0maddress\u001b[0m\u001b[0;34m)\u001b[0m\u001b[0;34m\u001b[0m\u001b[0m\n\u001b[0m\u001b[1;32m      4\u001b[0m     \u001b[0;32mif\u001b[0m \u001b[0mname\u001b[0m\u001b[0;34m:\u001b[0m\u001b[0;34m\u001b[0m\u001b[0m\n\u001b[1;32m      5\u001b[0m         \u001b[0mnames\u001b[0m\u001b[0;34m[\u001b[0m\u001b[0maddress\u001b[0m\u001b[0;34m]\u001b[0m \u001b[0;34m=\u001b[0m \u001b[0mname\u001b[0m\u001b[0;34m\u001b[0m\u001b[0m\n",
      "\u001b[0;32m<ipython-input-347-a18c861caf0e>\u001b[0m in \u001b[0;36mfind_name\u001b[0;34m(address)\u001b[0m\n\u001b[1;32m      1\u001b[0m \u001b[0;32mdef\u001b[0m \u001b[0mfind_name\u001b[0m\u001b[0;34m(\u001b[0m\u001b[0maddress\u001b[0m\u001b[0;34m)\u001b[0m\u001b[0;34m:\u001b[0m\u001b[0;34m\u001b[0m\u001b[0m\n\u001b[0;32m----> 2\u001b[0;31m     \u001b[0mdocument\u001b[0m \u001b[0;34m=\u001b[0m \u001b[0mpq\u001b[0m\u001b[0;34m(\u001b[0m\u001b[0;34m\"https://etherscan.io/address/{}\"\u001b[0m\u001b[0;34m.\u001b[0m\u001b[0mformat\u001b[0m\u001b[0;34m(\u001b[0m\u001b[0maddress\u001b[0m\u001b[0;34m)\u001b[0m\u001b[0;34m)\u001b[0m\u001b[0;34m\u001b[0m\u001b[0m\n\u001b[0m\u001b[1;32m      3\u001b[0m     \u001b[0;32mreturn\u001b[0m \u001b[0mdocument\u001b[0m\u001b[0;34m(\u001b[0m\u001b[0;34m\"font[title='NameTag']\"\u001b[0m\u001b[0;34m)\u001b[0m\u001b[0;34m.\u001b[0m\u001b[0mtext\u001b[0m\u001b[0;34m(\u001b[0m\u001b[0;34m)\u001b[0m\u001b[0;34m\u001b[0m\u001b[0m\n",
      "\u001b[0;32m/usr/local/lib/python3.5/dist-packages/pyquery/pyquery.py\u001b[0m in \u001b[0;36m__init__\u001b[0;34m(self, *args, **kwargs)\u001b[0m\n\u001b[1;32m    221\u001b[0m                     \u001b[0mhtml\u001b[0m \u001b[0;34m=\u001b[0m \u001b[0mopener\u001b[0m\u001b[0;34m(\u001b[0m\u001b[0murl\u001b[0m\u001b[0;34m,\u001b[0m \u001b[0;34m**\u001b[0m\u001b[0mkwargs\u001b[0m\u001b[0;34m)\u001b[0m\u001b[0;34m\u001b[0m\u001b[0m\n\u001b[1;32m    222\u001b[0m                 \u001b[0;32melse\u001b[0m\u001b[0;34m:\u001b[0m\u001b[0;34m\u001b[0m\u001b[0m\n\u001b[0;32m--> 223\u001b[0;31m                     \u001b[0mhtml\u001b[0m \u001b[0;34m=\u001b[0m \u001b[0murl_opener\u001b[0m\u001b[0;34m(\u001b[0m\u001b[0murl\u001b[0m\u001b[0;34m,\u001b[0m \u001b[0mkwargs\u001b[0m\u001b[0;34m)\u001b[0m\u001b[0;34m\u001b[0m\u001b[0m\n\u001b[0m\u001b[1;32m    224\u001b[0m                 \u001b[0;32mif\u001b[0m \u001b[0;32mnot\u001b[0m \u001b[0mself\u001b[0m\u001b[0;34m.\u001b[0m\u001b[0mparser\u001b[0m\u001b[0;34m:\u001b[0m\u001b[0;34m\u001b[0m\u001b[0m\n\u001b[1;32m    225\u001b[0m                     \u001b[0mself\u001b[0m\u001b[0;34m.\u001b[0m\u001b[0mparser\u001b[0m \u001b[0;34m=\u001b[0m \u001b[0;34m'html'\u001b[0m\u001b[0;34m\u001b[0m\u001b[0m\n",
      "\u001b[0;32m/usr/local/lib/python3.5/dist-packages/pyquery/openers.py\u001b[0m in \u001b[0;36murl_opener\u001b[0;34m(url, kwargs)\u001b[0m\n\u001b[1;32m     76\u001b[0m \u001b[0;32mdef\u001b[0m \u001b[0murl_opener\u001b[0m\u001b[0;34m(\u001b[0m\u001b[0murl\u001b[0m\u001b[0;34m,\u001b[0m \u001b[0mkwargs\u001b[0m\u001b[0;34m)\u001b[0m\u001b[0;34m:\u001b[0m\u001b[0;34m\u001b[0m\u001b[0m\n\u001b[1;32m     77\u001b[0m     \u001b[0;32mif\u001b[0m \u001b[0mHAS_REQUEST\u001b[0m\u001b[0;34m:\u001b[0m\u001b[0;34m\u001b[0m\u001b[0m\n\u001b[0;32m---> 78\u001b[0;31m         \u001b[0;32mreturn\u001b[0m \u001b[0m_requests\u001b[0m\u001b[0;34m(\u001b[0m\u001b[0murl\u001b[0m\u001b[0;34m,\u001b[0m \u001b[0mkwargs\u001b[0m\u001b[0;34m)\u001b[0m\u001b[0;34m\u001b[0m\u001b[0m\n\u001b[0m\u001b[1;32m     79\u001b[0m     \u001b[0;32mreturn\u001b[0m \u001b[0m_urllib\u001b[0m\u001b[0;34m(\u001b[0m\u001b[0murl\u001b[0m\u001b[0;34m,\u001b[0m \u001b[0mkwargs\u001b[0m\u001b[0;34m)\u001b[0m\u001b[0;34m\u001b[0m\u001b[0m\n",
      "\u001b[0;32m/usr/local/lib/python3.5/dist-packages/pyquery/openers.py\u001b[0m in \u001b[0;36m_requests\u001b[0;34m(url, kwargs)\u001b[0m\n\u001b[1;32m     58\u001b[0m         \u001b[0;32mif\u001b[0m \u001b[0mk\u001b[0m \u001b[0;32min\u001b[0m \u001b[0mkwargs\u001b[0m\u001b[0;34m:\u001b[0m\u001b[0;34m\u001b[0m\u001b[0m\n\u001b[1;32m     59\u001b[0m             \u001b[0mkw\u001b[0m\u001b[0;34m[\u001b[0m\u001b[0mk\u001b[0m\u001b[0;34m]\u001b[0m \u001b[0;34m=\u001b[0m \u001b[0mkwargs\u001b[0m\u001b[0;34m[\u001b[0m\u001b[0mk\u001b[0m\u001b[0;34m]\u001b[0m\u001b[0;34m\u001b[0m\u001b[0m\n\u001b[0;32m---> 60\u001b[0;31m     \u001b[0mresp\u001b[0m \u001b[0;34m=\u001b[0m \u001b[0mmeth\u001b[0m\u001b[0;34m(\u001b[0m\u001b[0murl\u001b[0m\u001b[0;34m=\u001b[0m\u001b[0murl\u001b[0m\u001b[0;34m,\u001b[0m \u001b[0;34m**\u001b[0m\u001b[0mkw\u001b[0m\u001b[0;34m)\u001b[0m\u001b[0;34m\u001b[0m\u001b[0m\n\u001b[0m\u001b[1;32m     61\u001b[0m     \u001b[0;32mif\u001b[0m \u001b[0;32mnot\u001b[0m \u001b[0;34m(\u001b[0m\u001b[0;36m200\u001b[0m \u001b[0;34m<=\u001b[0m \u001b[0mresp\u001b[0m\u001b[0;34m.\u001b[0m\u001b[0mstatus_code\u001b[0m \u001b[0;34m<\u001b[0m \u001b[0;36m300\u001b[0m\u001b[0;34m)\u001b[0m\u001b[0;34m:\u001b[0m\u001b[0;34m\u001b[0m\u001b[0m\n\u001b[1;32m     62\u001b[0m         raise HTTPError(resp.url, resp.status_code,\n",
      "\u001b[0;32m~/.local/lib/python3.5/site-packages/requests/api.py\u001b[0m in \u001b[0;36mget\u001b[0;34m(url, params, **kwargs)\u001b[0m\n\u001b[1;32m     70\u001b[0m \u001b[0;34m\u001b[0m\u001b[0m\n\u001b[1;32m     71\u001b[0m     \u001b[0mkwargs\u001b[0m\u001b[0;34m.\u001b[0m\u001b[0msetdefault\u001b[0m\u001b[0;34m(\u001b[0m\u001b[0;34m'allow_redirects'\u001b[0m\u001b[0;34m,\u001b[0m \u001b[0;32mTrue\u001b[0m\u001b[0;34m)\u001b[0m\u001b[0;34m\u001b[0m\u001b[0m\n\u001b[0;32m---> 72\u001b[0;31m     \u001b[0;32mreturn\u001b[0m \u001b[0mrequest\u001b[0m\u001b[0;34m(\u001b[0m\u001b[0;34m'get'\u001b[0m\u001b[0;34m,\u001b[0m \u001b[0murl\u001b[0m\u001b[0;34m,\u001b[0m \u001b[0mparams\u001b[0m\u001b[0;34m=\u001b[0m\u001b[0mparams\u001b[0m\u001b[0;34m,\u001b[0m \u001b[0;34m**\u001b[0m\u001b[0mkwargs\u001b[0m\u001b[0;34m)\u001b[0m\u001b[0;34m\u001b[0m\u001b[0m\n\u001b[0m\u001b[1;32m     73\u001b[0m \u001b[0;34m\u001b[0m\u001b[0m\n\u001b[1;32m     74\u001b[0m \u001b[0;34m\u001b[0m\u001b[0m\n",
      "\u001b[0;32m~/.local/lib/python3.5/site-packages/requests/api.py\u001b[0m in \u001b[0;36mrequest\u001b[0;34m(method, url, **kwargs)\u001b[0m\n\u001b[1;32m     56\u001b[0m     \u001b[0;31m# cases, and look like a memory leak in others.\u001b[0m\u001b[0;34m\u001b[0m\u001b[0;34m\u001b[0m\u001b[0m\n\u001b[1;32m     57\u001b[0m     \u001b[0;32mwith\u001b[0m \u001b[0msessions\u001b[0m\u001b[0;34m.\u001b[0m\u001b[0mSession\u001b[0m\u001b[0;34m(\u001b[0m\u001b[0;34m)\u001b[0m \u001b[0;32mas\u001b[0m \u001b[0msession\u001b[0m\u001b[0;34m:\u001b[0m\u001b[0;34m\u001b[0m\u001b[0m\n\u001b[0;32m---> 58\u001b[0;31m         \u001b[0;32mreturn\u001b[0m \u001b[0msession\u001b[0m\u001b[0;34m.\u001b[0m\u001b[0mrequest\u001b[0m\u001b[0;34m(\u001b[0m\u001b[0mmethod\u001b[0m\u001b[0;34m=\u001b[0m\u001b[0mmethod\u001b[0m\u001b[0;34m,\u001b[0m \u001b[0murl\u001b[0m\u001b[0;34m=\u001b[0m\u001b[0murl\u001b[0m\u001b[0;34m,\u001b[0m \u001b[0;34m**\u001b[0m\u001b[0mkwargs\u001b[0m\u001b[0;34m)\u001b[0m\u001b[0;34m\u001b[0m\u001b[0m\n\u001b[0m\u001b[1;32m     59\u001b[0m \u001b[0;34m\u001b[0m\u001b[0m\n\u001b[1;32m     60\u001b[0m \u001b[0;34m\u001b[0m\u001b[0m\n",
      "\u001b[0;32m~/.local/lib/python3.5/site-packages/requests/sessions.py\u001b[0m in \u001b[0;36mrequest\u001b[0;34m(self, method, url, params, data, headers, cookies, files, auth, timeout, allow_redirects, proxies, hooks, stream, verify, cert, json)\u001b[0m\n\u001b[1;32m    510\u001b[0m         }\n\u001b[1;32m    511\u001b[0m         \u001b[0msend_kwargs\u001b[0m\u001b[0;34m.\u001b[0m\u001b[0mupdate\u001b[0m\u001b[0;34m(\u001b[0m\u001b[0msettings\u001b[0m\u001b[0;34m)\u001b[0m\u001b[0;34m\u001b[0m\u001b[0m\n\u001b[0;32m--> 512\u001b[0;31m         \u001b[0mresp\u001b[0m \u001b[0;34m=\u001b[0m \u001b[0mself\u001b[0m\u001b[0;34m.\u001b[0m\u001b[0msend\u001b[0m\u001b[0;34m(\u001b[0m\u001b[0mprep\u001b[0m\u001b[0;34m,\u001b[0m \u001b[0;34m**\u001b[0m\u001b[0msend_kwargs\u001b[0m\u001b[0;34m)\u001b[0m\u001b[0;34m\u001b[0m\u001b[0m\n\u001b[0m\u001b[1;32m    513\u001b[0m \u001b[0;34m\u001b[0m\u001b[0m\n\u001b[1;32m    514\u001b[0m         \u001b[0;32mreturn\u001b[0m \u001b[0mresp\u001b[0m\u001b[0;34m\u001b[0m\u001b[0m\n",
      "\u001b[0;32m~/.local/lib/python3.5/site-packages/requests/sessions.py\u001b[0m in \u001b[0;36msend\u001b[0;34m(self, request, **kwargs)\u001b[0m\n\u001b[1;32m    620\u001b[0m \u001b[0;34m\u001b[0m\u001b[0m\n\u001b[1;32m    621\u001b[0m         \u001b[0;31m# Send the request\u001b[0m\u001b[0;34m\u001b[0m\u001b[0;34m\u001b[0m\u001b[0m\n\u001b[0;32m--> 622\u001b[0;31m         \u001b[0mr\u001b[0m \u001b[0;34m=\u001b[0m \u001b[0madapter\u001b[0m\u001b[0;34m.\u001b[0m\u001b[0msend\u001b[0m\u001b[0;34m(\u001b[0m\u001b[0mrequest\u001b[0m\u001b[0;34m,\u001b[0m \u001b[0;34m**\u001b[0m\u001b[0mkwargs\u001b[0m\u001b[0;34m)\u001b[0m\u001b[0;34m\u001b[0m\u001b[0m\n\u001b[0m\u001b[1;32m    623\u001b[0m \u001b[0;34m\u001b[0m\u001b[0m\n\u001b[1;32m    624\u001b[0m         \u001b[0;31m# Total elapsed time of the request (approximately)\u001b[0m\u001b[0;34m\u001b[0m\u001b[0;34m\u001b[0m\u001b[0m\n",
      "\u001b[0;32m~/.local/lib/python3.5/site-packages/requests/adapters.py\u001b[0m in \u001b[0;36msend\u001b[0;34m(self, request, stream, timeout, verify, cert, proxies)\u001b[0m\n\u001b[1;32m    443\u001b[0m                     \u001b[0mdecode_content\u001b[0m\u001b[0;34m=\u001b[0m\u001b[0;32mFalse\u001b[0m\u001b[0;34m,\u001b[0m\u001b[0;34m\u001b[0m\u001b[0m\n\u001b[1;32m    444\u001b[0m                     \u001b[0mretries\u001b[0m\u001b[0;34m=\u001b[0m\u001b[0mself\u001b[0m\u001b[0;34m.\u001b[0m\u001b[0mmax_retries\u001b[0m\u001b[0;34m,\u001b[0m\u001b[0;34m\u001b[0m\u001b[0m\n\u001b[0;32m--> 445\u001b[0;31m                     \u001b[0mtimeout\u001b[0m\u001b[0;34m=\u001b[0m\u001b[0mtimeout\u001b[0m\u001b[0;34m\u001b[0m\u001b[0m\n\u001b[0m\u001b[1;32m    446\u001b[0m                 )\n\u001b[1;32m    447\u001b[0m \u001b[0;34m\u001b[0m\u001b[0m\n",
      "\u001b[0;32m~/.local/lib/python3.5/site-packages/urllib3/connectionpool.py\u001b[0m in \u001b[0;36murlopen\u001b[0;34m(self, method, url, body, headers, retries, redirect, assert_same_host, timeout, pool_timeout, release_conn, chunked, body_pos, **response_kw)\u001b[0m\n\u001b[1;32m    598\u001b[0m                                                   \u001b[0mtimeout\u001b[0m\u001b[0;34m=\u001b[0m\u001b[0mtimeout_obj\u001b[0m\u001b[0;34m,\u001b[0m\u001b[0;34m\u001b[0m\u001b[0m\n\u001b[1;32m    599\u001b[0m                                                   \u001b[0mbody\u001b[0m\u001b[0;34m=\u001b[0m\u001b[0mbody\u001b[0m\u001b[0;34m,\u001b[0m \u001b[0mheaders\u001b[0m\u001b[0;34m=\u001b[0m\u001b[0mheaders\u001b[0m\u001b[0;34m,\u001b[0m\u001b[0;34m\u001b[0m\u001b[0m\n\u001b[0;32m--> 600\u001b[0;31m                                                   chunked=chunked)\n\u001b[0m\u001b[1;32m    601\u001b[0m \u001b[0;34m\u001b[0m\u001b[0m\n\u001b[1;32m    602\u001b[0m             \u001b[0;31m# If we're going to release the connection in ``finally:``, then\u001b[0m\u001b[0;34m\u001b[0m\u001b[0;34m\u001b[0m\u001b[0m\n",
      "\u001b[0;32m~/.local/lib/python3.5/site-packages/urllib3/connectionpool.py\u001b[0m in \u001b[0;36m_make_request\u001b[0;34m(self, conn, method, url, timeout, chunked, **httplib_request_kw)\u001b[0m\n\u001b[1;32m    341\u001b[0m         \u001b[0;31m# Trigger any extra validation we need to do.\u001b[0m\u001b[0;34m\u001b[0m\u001b[0;34m\u001b[0m\u001b[0m\n\u001b[1;32m    342\u001b[0m         \u001b[0;32mtry\u001b[0m\u001b[0;34m:\u001b[0m\u001b[0;34m\u001b[0m\u001b[0m\n\u001b[0;32m--> 343\u001b[0;31m             \u001b[0mself\u001b[0m\u001b[0;34m.\u001b[0m\u001b[0m_validate_conn\u001b[0m\u001b[0;34m(\u001b[0m\u001b[0mconn\u001b[0m\u001b[0;34m)\u001b[0m\u001b[0;34m\u001b[0m\u001b[0m\n\u001b[0m\u001b[1;32m    344\u001b[0m         \u001b[0;32mexcept\u001b[0m \u001b[0;34m(\u001b[0m\u001b[0mSocketTimeout\u001b[0m\u001b[0;34m,\u001b[0m \u001b[0mBaseSSLError\u001b[0m\u001b[0;34m)\u001b[0m \u001b[0;32mas\u001b[0m \u001b[0me\u001b[0m\u001b[0;34m:\u001b[0m\u001b[0;34m\u001b[0m\u001b[0m\n\u001b[1;32m    345\u001b[0m             \u001b[0;31m# Py2 raises this as a BaseSSLError, Py3 raises it as socket timeout.\u001b[0m\u001b[0;34m\u001b[0m\u001b[0;34m\u001b[0m\u001b[0m\n",
      "\u001b[0;32m~/.local/lib/python3.5/site-packages/urllib3/connectionpool.py\u001b[0m in \u001b[0;36m_validate_conn\u001b[0;34m(self, conn)\u001b[0m\n\u001b[1;32m    847\u001b[0m         \u001b[0;31m# Force connect early to allow us to validate the connection.\u001b[0m\u001b[0;34m\u001b[0m\u001b[0;34m\u001b[0m\u001b[0m\n\u001b[1;32m    848\u001b[0m         \u001b[0;32mif\u001b[0m \u001b[0;32mnot\u001b[0m \u001b[0mgetattr\u001b[0m\u001b[0;34m(\u001b[0m\u001b[0mconn\u001b[0m\u001b[0;34m,\u001b[0m \u001b[0;34m'sock'\u001b[0m\u001b[0;34m,\u001b[0m \u001b[0;32mNone\u001b[0m\u001b[0;34m)\u001b[0m\u001b[0;34m:\u001b[0m  \u001b[0;31m# AppEngine might not have  `.sock`\u001b[0m\u001b[0;34m\u001b[0m\u001b[0m\n\u001b[0;32m--> 849\u001b[0;31m             \u001b[0mconn\u001b[0m\u001b[0;34m.\u001b[0m\u001b[0mconnect\u001b[0m\u001b[0;34m(\u001b[0m\u001b[0;34m)\u001b[0m\u001b[0;34m\u001b[0m\u001b[0m\n\u001b[0m\u001b[1;32m    850\u001b[0m \u001b[0;34m\u001b[0m\u001b[0m\n\u001b[1;32m    851\u001b[0m         \u001b[0;32mif\u001b[0m \u001b[0;32mnot\u001b[0m \u001b[0mconn\u001b[0m\u001b[0;34m.\u001b[0m\u001b[0mis_verified\u001b[0m\u001b[0;34m:\u001b[0m\u001b[0;34m\u001b[0m\u001b[0m\n",
      "\u001b[0;32m~/.local/lib/python3.5/site-packages/urllib3/connection.py\u001b[0m in \u001b[0;36mconnect\u001b[0;34m(self)\u001b[0m\n\u001b[1;32m    354\u001b[0m             \u001b[0mca_cert_dir\u001b[0m\u001b[0;34m=\u001b[0m\u001b[0mself\u001b[0m\u001b[0;34m.\u001b[0m\u001b[0mca_cert_dir\u001b[0m\u001b[0;34m,\u001b[0m\u001b[0;34m\u001b[0m\u001b[0m\n\u001b[1;32m    355\u001b[0m             \u001b[0mserver_hostname\u001b[0m\u001b[0;34m=\u001b[0m\u001b[0mhostname\u001b[0m\u001b[0;34m,\u001b[0m\u001b[0;34m\u001b[0m\u001b[0m\n\u001b[0;32m--> 356\u001b[0;31m             ssl_context=context)\n\u001b[0m\u001b[1;32m    357\u001b[0m \u001b[0;34m\u001b[0m\u001b[0m\n\u001b[1;32m    358\u001b[0m         \u001b[0;32mif\u001b[0m \u001b[0mself\u001b[0m\u001b[0;34m.\u001b[0m\u001b[0massert_fingerprint\u001b[0m\u001b[0;34m:\u001b[0m\u001b[0;34m\u001b[0m\u001b[0m\n",
      "\u001b[0;32m~/.local/lib/python3.5/site-packages/urllib3/util/ssl_.py\u001b[0m in \u001b[0;36mssl_wrap_socket\u001b[0;34m(sock, keyfile, certfile, cert_reqs, ca_certs, server_hostname, ssl_version, ciphers, ssl_context, ca_cert_dir)\u001b[0m\n\u001b[1;32m    357\u001b[0m             or IS_SECURETRANSPORT):\n\u001b[1;32m    358\u001b[0m         \u001b[0;32mif\u001b[0m \u001b[0mHAS_SNI\u001b[0m \u001b[0;32mand\u001b[0m \u001b[0mserver_hostname\u001b[0m \u001b[0;32mis\u001b[0m \u001b[0;32mnot\u001b[0m \u001b[0;32mNone\u001b[0m\u001b[0;34m:\u001b[0m\u001b[0;34m\u001b[0m\u001b[0m\n\u001b[0;32m--> 359\u001b[0;31m             \u001b[0;32mreturn\u001b[0m \u001b[0mcontext\u001b[0m\u001b[0;34m.\u001b[0m\u001b[0mwrap_socket\u001b[0m\u001b[0;34m(\u001b[0m\u001b[0msock\u001b[0m\u001b[0;34m,\u001b[0m \u001b[0mserver_hostname\u001b[0m\u001b[0;34m=\u001b[0m\u001b[0mserver_hostname\u001b[0m\u001b[0;34m)\u001b[0m\u001b[0;34m\u001b[0m\u001b[0m\n\u001b[0m\u001b[1;32m    360\u001b[0m \u001b[0;34m\u001b[0m\u001b[0m\n\u001b[1;32m    361\u001b[0m         warnings.warn(\n",
      "\u001b[0;32m/usr/lib/python3.5/ssl.py\u001b[0m in \u001b[0;36mwrap_socket\u001b[0;34m(self, sock, server_side, do_handshake_on_connect, suppress_ragged_eofs, server_hostname)\u001b[0m\n\u001b[1;32m    375\u001b[0m                          \u001b[0msuppress_ragged_eofs\u001b[0m\u001b[0;34m=\u001b[0m\u001b[0msuppress_ragged_eofs\u001b[0m\u001b[0;34m,\u001b[0m\u001b[0;34m\u001b[0m\u001b[0m\n\u001b[1;32m    376\u001b[0m                          \u001b[0mserver_hostname\u001b[0m\u001b[0;34m=\u001b[0m\u001b[0mserver_hostname\u001b[0m\u001b[0;34m,\u001b[0m\u001b[0;34m\u001b[0m\u001b[0m\n\u001b[0;32m--> 377\u001b[0;31m                          _context=self)\n\u001b[0m\u001b[1;32m    378\u001b[0m \u001b[0;34m\u001b[0m\u001b[0m\n\u001b[1;32m    379\u001b[0m     def wrap_bio(self, incoming, outgoing, server_side=False,\n",
      "\u001b[0;32m/usr/lib/python3.5/ssl.py\u001b[0m in \u001b[0;36m__init__\u001b[0;34m(self, sock, keyfile, certfile, server_side, cert_reqs, ssl_version, ca_certs, do_handshake_on_connect, family, type, proto, fileno, suppress_ragged_eofs, npn_protocols, ciphers, server_hostname, _context)\u001b[0m\n\u001b[1;32m    750\u001b[0m                         \u001b[0;31m# non-blocking\u001b[0m\u001b[0;34m\u001b[0m\u001b[0;34m\u001b[0m\u001b[0m\n\u001b[1;32m    751\u001b[0m                         \u001b[0;32mraise\u001b[0m \u001b[0mValueError\u001b[0m\u001b[0;34m(\u001b[0m\u001b[0;34m\"do_handshake_on_connect should not be specified for non-blocking sockets\"\u001b[0m\u001b[0;34m)\u001b[0m\u001b[0;34m\u001b[0m\u001b[0m\n\u001b[0;32m--> 752\u001b[0;31m                     \u001b[0mself\u001b[0m\u001b[0;34m.\u001b[0m\u001b[0mdo_handshake\u001b[0m\u001b[0;34m(\u001b[0m\u001b[0;34m)\u001b[0m\u001b[0;34m\u001b[0m\u001b[0m\n\u001b[0m\u001b[1;32m    753\u001b[0m \u001b[0;34m\u001b[0m\u001b[0m\n\u001b[1;32m    754\u001b[0m             \u001b[0;32mexcept\u001b[0m \u001b[0;34m(\u001b[0m\u001b[0mOSError\u001b[0m\u001b[0;34m,\u001b[0m \u001b[0mValueError\u001b[0m\u001b[0;34m)\u001b[0m\u001b[0;34m:\u001b[0m\u001b[0;34m\u001b[0m\u001b[0m\n",
      "\u001b[0;32m/usr/lib/python3.5/ssl.py\u001b[0m in \u001b[0;36mdo_handshake\u001b[0;34m(self, block)\u001b[0m\n\u001b[1;32m    986\u001b[0m             \u001b[0;32mif\u001b[0m \u001b[0mtimeout\u001b[0m \u001b[0;34m==\u001b[0m \u001b[0;36m0.0\u001b[0m \u001b[0;32mand\u001b[0m \u001b[0mblock\u001b[0m\u001b[0;34m:\u001b[0m\u001b[0;34m\u001b[0m\u001b[0m\n\u001b[1;32m    987\u001b[0m                 \u001b[0mself\u001b[0m\u001b[0;34m.\u001b[0m\u001b[0msettimeout\u001b[0m\u001b[0;34m(\u001b[0m\u001b[0;32mNone\u001b[0m\u001b[0;34m)\u001b[0m\u001b[0;34m\u001b[0m\u001b[0m\n\u001b[0;32m--> 988\u001b[0;31m             \u001b[0mself\u001b[0m\u001b[0;34m.\u001b[0m\u001b[0m_sslobj\u001b[0m\u001b[0;34m.\u001b[0m\u001b[0mdo_handshake\u001b[0m\u001b[0;34m(\u001b[0m\u001b[0;34m)\u001b[0m\u001b[0;34m\u001b[0m\u001b[0m\n\u001b[0m\u001b[1;32m    989\u001b[0m         \u001b[0;32mfinally\u001b[0m\u001b[0;34m:\u001b[0m\u001b[0;34m\u001b[0m\u001b[0m\n\u001b[1;32m    990\u001b[0m             \u001b[0mself\u001b[0m\u001b[0;34m.\u001b[0m\u001b[0msettimeout\u001b[0m\u001b[0;34m(\u001b[0m\u001b[0mtimeout\u001b[0m\u001b[0;34m)\u001b[0m\u001b[0;34m\u001b[0m\u001b[0m\n",
      "\u001b[0;32m/usr/lib/python3.5/ssl.py\u001b[0m in \u001b[0;36mdo_handshake\u001b[0;34m(self)\u001b[0m\n\u001b[1;32m    631\u001b[0m     \u001b[0;32mdef\u001b[0m \u001b[0mdo_handshake\u001b[0m\u001b[0;34m(\u001b[0m\u001b[0mself\u001b[0m\u001b[0;34m)\u001b[0m\u001b[0;34m:\u001b[0m\u001b[0;34m\u001b[0m\u001b[0m\n\u001b[1;32m    632\u001b[0m         \u001b[0;34m\"\"\"Start the SSL/TLS handshake.\"\"\"\u001b[0m\u001b[0;34m\u001b[0m\u001b[0m\n\u001b[0;32m--> 633\u001b[0;31m         \u001b[0mself\u001b[0m\u001b[0;34m.\u001b[0m\u001b[0m_sslobj\u001b[0m\u001b[0;34m.\u001b[0m\u001b[0mdo_handshake\u001b[0m\u001b[0;34m(\u001b[0m\u001b[0;34m)\u001b[0m\u001b[0;34m\u001b[0m\u001b[0m\n\u001b[0m\u001b[1;32m    634\u001b[0m         \u001b[0;32mif\u001b[0m \u001b[0mself\u001b[0m\u001b[0;34m.\u001b[0m\u001b[0mcontext\u001b[0m\u001b[0;34m.\u001b[0m\u001b[0mcheck_hostname\u001b[0m\u001b[0;34m:\u001b[0m\u001b[0;34m\u001b[0m\u001b[0m\n\u001b[1;32m    635\u001b[0m             \u001b[0;32mif\u001b[0m \u001b[0;32mnot\u001b[0m \u001b[0mself\u001b[0m\u001b[0;34m.\u001b[0m\u001b[0mserver_hostname\u001b[0m\u001b[0;34m:\u001b[0m\u001b[0;34m\u001b[0m\u001b[0m\n",
      "\u001b[0;31mKeyboardInterrupt\u001b[0m: "
     ]
    }
   ],
   "source": [
    "names = {}\n",
    "for address in tqdm_notebook(probable_exchanges[0:600].index):\n",
    "    name = find_name(address)\n",
    "    if name:\n",
    "        names[address] = name"
   ]
  },
  {
   "cell_type": "code",
   "execution_count": 349,
   "metadata": {},
   "outputs": [
    {
     "data": {
      "text/plain": [
       "{}"
      ]
     },
     "execution_count": 349,
     "metadata": {},
     "output_type": "execute_result"
    }
   ],
   "source": [
    "names"
   ]
  },
  {
   "cell_type": "code",
   "execution_count": 319,
   "metadata": {},
   "outputs": [],
   "source": [
    "cex_addresses = list(names.keys()) + [\"0x8d12A197cB00D4747a1fe03395095ce2A5CC6819\".lower(), \"0x2a0c0dbecc7e4d658f48e01e3fa353f44050c208\"]"
   ]
  },
  {
   "cell_type": "code",
   "execution_count": 368,
   "metadata": {},
   "outputs": [],
   "source": [
    "best_investors = investors[investors[\"to\"] > 3].index.tolist()"
   ]
  },
  {
   "cell_type": "code",
   "execution_count": 369,
   "metadata": {},
   "outputs": [],
   "source": [
    "def get_types(window):    \n",
    "    addresses = list(set(list(window[\"from\"].unique()) + list(window[\"to\"].unique())))\n",
    "    addresses_df = pd.DataFrame()\n",
    "    addresses_df[\"address\"] = addresses\n",
    "    addresses_df = addresses_df.set_index(\"address\")\n",
    "    addresses_df[\"type\"] = \"holder\"\n",
    "    addresses_df.loc[best_investors, \"type\"] = \"trader\"\n",
    "    addresses_df.loc[drop_addresses, \"type\"] = \"airdrop\"\n",
    "    addresses_df.loc[cex_addresses, \"type\"] = \"cex\"\n",
    "    return addresses_df\n",
    "\n",
    "def get_balances(window):\n",
    "    outcomes = window[[\"from\", \"value\"]].groupby(\"from\").sum()\n",
    "    incomes = window[[\"to\", \"value\"]].groupby(\"to\").sum()\n",
    "    balances = {}\n",
    "    for address, row in incomes.iterrows():\n",
    "        balances[address] = row[\"value\"]\n",
    "    for address, row in outcomes.iterrows():\n",
    "        balances[address] = np.abs(balances.get(address, 0) - row[\"value\"])\n",
    "    return balances\n",
    "\n",
    "def create_graph(window):\n",
    "    drop_addresses = window[window[\"method\"] == \"transferFrom\"].groupby(\"from\").count()[\"to\"].sort_values(ascending=False)\n",
    "    G = nx.DiGraph()\n",
    "    G.add_nodes_from(window[\"to\"].unique())\n",
    "    G.add_edges_from(set([(r[\"from\"], r[\"to\"]) for i, r in window.iterrows()]))\n",
    "    return G\n",
    "\n",
    "def reduce_components(G):\n",
    "    components = sorted(nx.weakly_connected_component_subgraphs(G), key=lambda x: -len(x))\n",
    "    graph = components[0]\n",
    "    for component in components[1:]:\n",
    "        if (len(component.nodes) > 0.5 * len(components[0].nodes)) and (len(component.nodes) > 5):\n",
    "            graph = nx.compose(graph, component)\n",
    "    return graph"
   ]
  },
  {
   "cell_type": "code",
   "execution_count": 370,
   "metadata": {},
   "outputs": [],
   "source": [
    "START_BLOCK = 0\n",
    "END_BLOCK = 5500000"
   ]
  },
  {
   "cell_type": "code",
   "execution_count": 371,
   "metadata": {},
   "outputs": [],
   "source": [
    "window = token_transactions_df[(token_transactions_df[\"block_id\"] >= START_BLOCK) & (token_transactions_df[\"block_id\"] <= END_BLOCK)].sort_values(\"block_id\")"
   ]
  },
  {
   "cell_type": "code",
   "execution_count": 372,
   "metadata": {},
   "outputs": [],
   "source": [
    "addresses_types_df = get_types(window)\n",
    "graph = create_graph(window)"
   ]
  },
  {
   "cell_type": "code",
   "execution_count": 373,
   "metadata": {},
   "outputs": [
    {
     "data": {
      "application/vnd.jupyter.widget-view+json": {
       "model_id": "72fc7a4e7dee4881ae35619561f7fbed",
       "version_major": 2,
       "version_minor": 0
      },
      "text/plain": [
       "HBox(children=(IntProgress(value=0, max=480503), HTML(value='')))"
      ]
     },
     "metadata": {},
     "output_type": "display_data"
    }
   ],
   "source": [
    "degrees = list(sorted(dict(graph.degree).items(), key=lambda x: x[1]))\n",
    "for node, degree in tqdm_notebook(degrees):\n",
    "    if addresses_types_df.loc[node, \"type\"] != \"holder\":\n",
    "        continue \n",
    "    out_nodes = list(graph.successors(node))\n",
    "    in_nodes = list(graph.predecessors(node)) \n",
    "    if not len(out_nodes) and (len(in_nodes) == 1):\n",
    "        graph.remove_node(node)\n",
    "#     if (len(out_nodes) == 1) and (len(in_nodes) == 1):\n",
    "#         out_node = out_nodes[0]\n",
    "#         in_node = in_nodes[0]\n",
    "#         if addresses_types_df.loc[in_node, \"type\"] == \"airdrop\":\n",
    "#             if graph.degree[out_node] == 0:\n",
    "#                 graph.remove_node(node)\n",
    "#                 graph.remove_node(out_node)\n",
    "#             else:\n",
    "#                 graph.remove_node(node)            \n",
    "#                 try:\n",
    "#                     if in_node not in graph.predecessors(out_node):\n",
    "#                         graph.add_edge(in_node, out_node)\n",
    "#                 except:\n",
    "#                     print(\"Exception!\", out_node)"
   ]
  },
  {
   "cell_type": "code",
   "execution_count": 374,
   "metadata": {
    "scrolled": true
   },
   "outputs": [
    {
     "data": {
      "text/plain": [
       "5079"
      ]
     },
     "execution_count": 374,
     "metadata": {},
     "output_type": "execute_result"
    }
   ],
   "source": [
    "graph = reduce_components(graph)\n",
    "len(graph.nodes)"
   ]
  },
  {
   "cell_type": "code",
   "execution_count": 384,
   "metadata": {},
   "outputs": [],
   "source": [
    "total_sum = token_transactions_df[\"value\"].sum()"
   ]
  },
  {
   "cell_type": "code",
   "execution_count": 393,
   "metadata": {},
   "outputs": [],
   "source": [
    "def get_value(a, b):\n",
    "    return -1/np.log(token_transactions_df[(token_transactions_df[\"from\"] == a) & (token_transactions_df[\"to\"] == b)][\"value\"].sum() / total_sum)"
   ]
  },
  {
   "cell_type": "code",
   "execution_count": 391,
   "metadata": {},
   "outputs": [
    {
     "data": {
      "text/plain": [
       "('0x7171e5d4c97a3fa0d96c42e245f9bab1c7749ea4',\n",
       " '0xbd2be62ce6a4e59b21c2d34745bf14417aafc3e7')"
      ]
     },
     "execution_count": 391,
     "metadata": {},
     "output_type": "execute_result"
    }
   ],
   "source": [
    "list(graph.edges)[0]"
   ]
  },
  {
   "cell_type": "code",
   "execution_count": 392,
   "metadata": {},
   "outputs": [
    {
     "data": {
      "text/plain": [
       "0.02412747121674144"
      ]
     },
     "execution_count": 392,
     "metadata": {},
     "output_type": "execute_result"
    }
   ],
   "source": [
    "get_value(\"0x7171e5d4c97a3fa0d96c42e245f9bab1c7749ea4\", \"0xbd2be62ce6a4e59b21c2d34745bf14417aafc3e7\")"
   ]
  },
  {
   "cell_type": "code",
   "execution_count": 394,
   "metadata": {},
   "outputs": [
    {
     "data": {
      "application/vnd.jupyter.widget-view+json": {
       "model_id": "161d2f4751b24c7d9267adc91c3476a5",
       "version_major": 2,
       "version_minor": 0
      },
      "text/plain": [
       "HBox(children=(IntProgress(value=0, max=10040), HTML(value='')))"
      ]
     },
     "metadata": {},
     "output_type": "display_data"
    },
    {
     "name": "stderr",
     "output_type": "stream",
     "text": [
      "/usr/local/lib/python3.5/dist-packages/ipykernel_launcher.py:2: RuntimeWarning: divide by zero encountered in log\n",
      "  \n"
     ]
    }
   ],
   "source": [
    "a = [{\"address\": n, \"type\": addresses_types_df[\"type\"].loc[n]} for n in graph]\n",
    "t = [{\"from\": a, \"to\": b, \"value\": get_value(a, b)} for a, b in tqdm_notebook(graph.edges)]"
   ]
  },
  {
   "cell_type": "code",
   "execution_count": 397,
   "metadata": {},
   "outputs": [
    {
     "data": {
      "text/plain": [
       "10040"
      ]
     },
     "execution_count": 397,
     "metadata": {},
     "output_type": "execute_result"
    }
   ],
   "source": [
    "len(t)"
   ]
  },
  {
   "cell_type": "code",
   "execution_count": 399,
   "metadata": {},
   "outputs": [],
   "source": [
    "t1 = [tt for tt in t if not np.isnan(tt[\"value\"])]"
   ]
  },
  {
   "cell_type": "code",
   "execution_count": 400,
   "metadata": {},
   "outputs": [
    {
     "data": {
      "text/plain": [
       "10040"
      ]
     },
     "execution_count": 400,
     "metadata": {},
     "output_type": "execute_result"
    }
   ],
   "source": [
    "len(t1)"
   ]
  },
  {
   "cell_type": "code",
   "execution_count": 401,
   "metadata": {},
   "outputs": [],
   "source": [
    "airdrop_json = {\n",
    "    \"name\": \"VinChain\",\n",
    "    \"image\": \"https://icodeadline.com/wp-content/uploads/2018/03/image1-18.png\",\n",
    "    \"addresses\": a,\n",
    "    \"transactions\": t,\n",
    "    \"prices\": [],\n",
    "    \"success\": True\n",
    "}"
   ]
  },
  {
   "cell_type": "code",
   "execution_count": 402,
   "metadata": {},
   "outputs": [],
   "source": [
    "json.dump(airdrop_json, open(\"graph/airdrops/vinchain_airdrop.json\", \"w\"))"
   ]
  }
 ],
 "metadata": {
  "kernelspec": {
   "display_name": "Python 3",
   "language": "python",
   "name": "python3"
  },
  "language_info": {
   "codemirror_mode": {
    "name": "ipython",
    "version": 3
   },
   "file_extension": ".py",
   "mimetype": "text/x-python",
   "name": "python",
   "nbconvert_exporter": "python",
   "pygments_lexer": "ipython3",
   "version": "3.5.2"
  }
 },
 "nbformat": 4,
 "nbformat_minor": 2
}
